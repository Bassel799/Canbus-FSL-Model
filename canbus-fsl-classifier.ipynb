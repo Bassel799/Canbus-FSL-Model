{
 "cells": [
  {
   "cell_type": "markdown",
   "id": "402881a9",
   "metadata": {
    "id": "bVGi2VmiNtfT",
    "papermill": {
     "duration": 0.00777,
     "end_time": "2025-04-17T21:55:25.712049",
     "exception": false,
     "start_time": "2025-04-17T21:55:25.704279",
     "status": "completed"
    },
    "tags": []
   },
   "source": [
    "# Connect to Drive"
   ]
  },
  {
   "cell_type": "markdown",
   "id": "58b5c3c6",
   "metadata": {
    "id": "4Ar5QHLYNx33",
    "papermill": {
     "duration": 0.00678,
     "end_time": "2025-04-17T21:55:25.725682",
     "exception": false,
     "start_time": "2025-04-17T21:55:25.718902",
     "status": "completed"
    },
    "tags": []
   },
   "source": [
    "# Preparing the data"
   ]
  },
  {
   "cell_type": "code",
   "execution_count": 1,
   "id": "25ed3e29",
   "metadata": {
    "execution": {
     "iopub.execute_input": "2025-04-17T21:55:25.740196Z",
     "iopub.status.busy": "2025-04-17T21:55:25.739925Z",
     "iopub.status.idle": "2025-04-17T21:55:26.444950Z",
     "shell.execute_reply": "2025-04-17T21:55:26.444265Z"
    },
    "id": "Wu96-2Jmyz5i",
    "papermill": {
     "duration": 0.713955,
     "end_time": "2025-04-17T21:55:26.446512",
     "exception": false,
     "start_time": "2025-04-17T21:55:25.732557",
     "status": "completed"
    },
    "tags": []
   },
   "outputs": [],
   "source": [
    "import numpy as np\n",
    "import pandas as pd\n",
    "from typing import Callable, Optional, List, Tuple\n",
    "from dataclasses import dataclass\n",
    "\n",
    "\n",
    "@dataclass\n",
    "class Filter:\n",
    "    name: str\n",
    "    func: Callable[[pd.DataFrame], pd.DataFrame]\n",
    "\n",
    "\n",
    "\n",
    "@dataclass\n",
    "class Feature:\n",
    "    name: str\n",
    "    func: Callable[[pd.DataFrame], float]\n",
    "\n",
    "\n",
    "\n",
    "class Dataset(object):\n",
    "    def __init__(self, name: str, path: str, filters: List[Filter], attack_split_factor: int = 5000):\n",
    "        self._name = name\n",
    "        self._path = path\n",
    "        self._dataset_filters = filters\n",
    "        self._attack_split_factor = attack_split_factor\n",
    "        self._data = None\n",
    "\n",
    "\n",
    "    def _load(self) -> None:\n",
    "        df = pd.read_csv(self._path)\n",
    "\n",
    "        print(f\"Loaded dataset from '{self._path}'\")\n",
    "\n",
    "        # Filter the dataset if necessary.\n",
    "        for f in self._dataset_filters:\n",
    "            print(f\"Filtering dataset with with '{f.name=}'\")\n",
    "            df = f.func(df)\n",
    "\n",
    "        # Find the start of all attack blocks.\n",
    "        block_starts = df.Time.diff().fillna(self._attack_split_factor) // self._attack_split_factor\n",
    "        block_starts = block_starts[block_starts > 0]\n",
    "\n",
    "        # Group all messages of the same block.\n",
    "        blocks = pd.DataFrame(block_starts).reset_index().reset_index().drop(columns=[\"Time\"]).rename(columns={\"index\": \"Index\", \"level_0\": \"Block\"})\n",
    "        df = pd.merge_asof(df, blocks, on='Index')\n",
    "        self._data = df.groupby(\"Block\")\n",
    "\n",
    "        # Make sure each block has only one attack label.\n",
    "        min_label = self._data.apply(lambda x: x.Label.min())\n",
    "        max_label = self._data.apply(lambda x: x.Label.max())\n",
    "        assert min_label.to_list() == max_label.to_list(), \"Multiple attack types in the same block!\"\n",
    "\n",
    "\n",
    "    def get_data(self) -> pd.DataFrame:\n",
    "        if self._data is None:\n",
    "            self._load()\n",
    "        return self._data\n",
    "\n",
    "\n",
    "    def create_feature_set(self, *, filters: List[Filter] = [], features: List[Feature] = [], remove_class: int = None, one_hot_label: bool = False, fillna_value: float = 0.0) -> Tuple[np.ndarray, np.array]:\n",
    "        df = self.get_data()\n",
    "        frames = []\n",
    "\n",
    "        if remove_class is not None:\n",
    "          df = df.apply(lambda block: block if block.Label.min() != remove_class else None).reset_index(level=0, drop=True).groupby(\"Block\")\n",
    "\n",
    "\n",
    "        # Filter the dataset if necessary.\n",
    "        for i, f in enumerate(filters):\n",
    "            print(f\"Filtering with '{f.name=}' ({i+1} / {len(filters)})\")\n",
    "            df = df.apply(f.func).reset_index(level=0, drop=True).groupby(\"Block\")\n",
    "\n",
    "        # Calculate the features.\n",
    "        for i, feat in enumerate(features):\n",
    "            print(f\"Calculating '{feat.name=}' ({i+1} / {len(features)})\")\n",
    "            frames.append(pd.DataFrame({feat.name: df.apply(feat.func)}))\n",
    "\n",
    "        # Get the min label since we know it's unique for each block.\n",
    "        y = df.apply(lambda block: block.Label.min()).to_list()\n",
    "        # Encode the label into one-hot if necessary.\n",
    "        if one_hot_label:\n",
    "            y = [Dataset.to_onehot(label) for label in y]\n",
    "\n",
    "        # Convert the dataset into numpy arrays for training/inference.\n",
    "        return pd.concat(frames, axis=1).fillna(fillna_value).to_numpy(), np.array(y)\n",
    "\n",
    "\n",
    "\n",
    "    @staticmethod\n",
    "    def to_onehot(label: int) -> List[int]:\n",
    "        return [(1 if i == label else 0) for i in range(5)]\n",
    "\n",
    "\n",
    "    @staticmethod\n",
    "    def from_onehot(label: List[int], approximate=False) -> int:\n",
    "        if not approximate:\n",
    "            return label.index(1)\n",
    "        else:\n",
    "            return np.argmax(label)"
   ]
  },
  {
   "cell_type": "markdown",
   "id": "bc2a73b1",
   "metadata": {
    "id": "6TKGvjuLU-x9",
    "papermill": {
     "duration": 0.006653,
     "end_time": "2025-04-17T21:55:26.460668",
     "exception": false,
     "start_time": "2025-04-17T21:55:26.454015",
     "status": "completed"
    },
    "tags": []
   },
   "source": [
    "## Features to use"
   ]
  },
  {
   "cell_type": "code",
   "execution_count": 2,
   "id": "ae8a8eb1",
   "metadata": {
    "execution": {
     "iopub.execute_input": "2025-04-17T21:55:26.475308Z",
     "iopub.status.busy": "2025-04-17T21:55:26.474964Z",
     "iopub.status.idle": "2025-04-17T21:55:26.490945Z",
     "shell.execute_reply": "2025-04-17T21:55:26.490223Z"
    },
    "id": "W3LRhfsfKQJN",
    "papermill": {
     "duration": 0.025001,
     "end_time": "2025-04-17T21:55:26.492372",
     "exception": false,
     "start_time": "2025-04-17T21:55:26.467371",
     "status": "completed"
    },
    "tags": []
   },
   "outputs": [],
   "source": [
    "# Features we want to use for training/inference.\n",
    "\n",
    "default_features = [\n",
    "    Feature(name=\"signal1_stdev\", func=lambda x: (x.Signal1_of_ID.std() if not (x.Signal1_of_ID.isnull().all()) else 0.0)),\n",
    "    Feature(name=\"signal2_stdev\", func=lambda x: (x.Signal2_of_ID.std() if not (x.Signal2_of_ID.isnull().all()) else 0.0)),\n",
    "    Feature(name=\"signal3_stdev\", func=lambda x: (x.Signal3_of_ID.std() if not (x.Signal3_of_ID.isnull().all()) else 0.0)),\n",
    "    Feature(name=\"signal4_stdev\", func=lambda x: (x.Signal4_of_ID.std() if not (x.Signal4_of_ID.isnull().all()) else 0.0)),\n",
    "    Feature(name=\"signal1_mean\", func=lambda x: (x.Signal1_of_ID.mean() if not (x.Signal1_of_ID.isnull().all()) else 0.0)),\n",
    "    Feature(name=\"signal2_mean\", func=lambda x: (x.Signal2_of_ID.mean() if not (x.Signal2_of_ID.isnull().all()) else 0.0)),\n",
    "    Feature(name=\"signal3_mean\", func=lambda x: (x.Signal3_of_ID.mean() if not (x.Signal3_of_ID.isnull().all()) else 0.0)),\n",
    "    Feature(name=\"signal4_mean\", func=lambda x: (x.Signal4_of_ID.mean() if not (x.Signal4_of_ID.isnull().all()) else 0.0)),\n",
    "    Feature(name=\"signal1_median\", func=lambda x: (x.Signal1_of_ID.median() if not (x.Signal1_of_ID.isnull().all()) else 0.0)),\n",
    "    Feature(name=\"signal2_median\", func=lambda x: (x.Signal2_of_ID.median() if not (x.Signal2_of_ID.isnull().all()) else 0.0)),\n",
    "    Feature(name=\"signal3_median\", func=lambda x: (x.Signal3_of_ID.median() if not (x.Signal3_of_ID.isnull().all()) else 0.0)),\n",
    "    Feature(name=\"signal4_median\", func=lambda x: (x.Signal4_of_ID.median() if not (x.Signal4_of_ID.isnull().all()) else 0.0)),\n",
    "    Feature(name=\"message_count\", func=lambda x: len(x.index)),\n",
    "]\n",
    "\n",
    "car_hacking_default_features = [\n",
    "    Feature(name=\"signal0_stdev\", func=lambda x: (x.DATA0.std() if not (x.DATA0.isnull().all()) else 0.0)),\n",
    "    Feature(name=\"signal1_stdev\", func=lambda x: (x.DATA1.std() if not (x.DATA1.isnull().all()) else 0.0)),\n",
    "    Feature(name=\"signal2_stdev\", func=lambda x: (x.DATA2.std() if not (x.DATA2.isnull().all()) else 0.0)),\n",
    "    Feature(name=\"signal3_stdev\", func=lambda x: (x.DATA3.std() if not (x.DATA3.isnull().all()) else 0.0)),\n",
    "    Feature(name=\"signal4_stdev\", func=lambda x: (x.DATA4.std() if not (x.DATA4.isnull().all()) else 0.0)),\n",
    "    Feature(name=\"signal5_stdev\", func=lambda x: (x.DATA5.std() if not (x.DATA5.isnull().all()) else 0.0)),\n",
    "    Feature(name=\"signal6_stdev\", func=lambda x: (x.DATA6.std() if not (x.DATA6.isnull().all()) else 0.0)),\n",
    "    Feature(name=\"signal7_stdev\", func=lambda x: (x.DATA7.std() if not (x.DATA7.isnull().all()) else 0.0)),\n",
    "    Feature(name=\"signal0_mean\", func=lambda x: (x.DATA0.mean() if not (x.DATA0.isnull().all()) else 0.0)),\n",
    "    Feature(name=\"signal1_mean\", func=lambda x: (x.DATA1.mean() if not (x.DATA1.isnull().all()) else 0.0)),\n",
    "    Feature(name=\"signal2_mean\", func=lambda x: (x.DATA2.mean() if not (x.DATA2.isnull().all()) else 0.0)),\n",
    "    Feature(name=\"signal3_mean\", func=lambda x: (x.DATA3.mean() if not (x.DATA3.isnull().all()) else 0.0)),\n",
    "    Feature(name=\"signal4_mean\", func=lambda x: (x.DATA4.mean() if not (x.DATA4.isnull().all()) else 0.0)),\n",
    "    Feature(name=\"signal5_mean\", func=lambda x: (x.DATA5.mean() if not (x.DATA5.isnull().all()) else 0.0)),\n",
    "    Feature(name=\"signal6_mean\", func=lambda x: (x.DATA6.mean() if not (x.DATA6.isnull().all()) else 0.0)),\n",
    "    Feature(name=\"signal7_mean\", func=lambda x: (x.DATA7.mean() if not (x.DATA7.isnull().all()) else 0.0)),\n",
    "    Feature(name=\"signal0_median\", func=lambda x: (x.DATA0.median() if not (x.DATA0.isnull().all()) else 0.0)),\n",
    "    Feature(name=\"signal1_median\", func=lambda x: (x.DATA1.median() if not (x.DATA1.isnull().all()) else 0.0)),\n",
    "    Feature(name=\"signal2_median\", func=lambda x: (x.DATA2.median() if not (x.DATA2.isnull().all()) else 0.0)),\n",
    "    Feature(name=\"signal3_median\", func=lambda x: (x.DATA3.median() if not (x.DATA3.isnull().all()) else 0.0)),\n",
    "    Feature(name=\"signal4_median\", func=lambda x: (x.DATA4.median() if not (x.DATA4.isnull().all()) else 0.0)),\n",
    "    Feature(name=\"signal5_median\", func=lambda x: (x.DATA5.median() if not (x.DATA5.isnull().all()) else 0.0)),\n",
    "    Feature(name=\"signal6_median\", func=lambda x: (x.DATA6.median() if not (x.DATA6.isnull().all()) else 0.0)),\n",
    "    Feature(name=\"signal7_median\", func=lambda x: (x.DATA7.median() if not (x.DATA7.isnull().all()) else 0.0)),\n",
    "    Feature(name=\"message_count\", func=lambda x: len(x.index)),\n",
    "]"
   ]
  },
  {
   "cell_type": "markdown",
   "id": "2a09ee4b",
   "metadata": {
    "id": "ZvUBKW_ss9Y5",
    "papermill": {
     "duration": 0.006592,
     "end_time": "2025-04-17T21:55:26.505748",
     "exception": false,
     "start_time": "2025-04-17T21:55:26.499156",
     "status": "completed"
    },
    "tags": []
   },
   "source": []
  },
  {
   "cell_type": "markdown",
   "id": "21bb3acd",
   "metadata": {
    "id": "PCRa6gcGVA0m",
    "papermill": {
     "duration": 0.006371,
     "end_time": "2025-04-17T21:55:26.519149",
     "exception": false,
     "start_time": "2025-04-17T21:55:26.512778",
     "status": "completed"
    },
    "tags": []
   },
   "source": [
    "## Filters to use"
   ]
  },
  {
   "cell_type": "code",
   "execution_count": 3,
   "id": "fac729f5",
   "metadata": {
    "execution": {
     "iopub.execute_input": "2025-04-17T21:55:26.534154Z",
     "iopub.status.busy": "2025-04-17T21:55:26.533926Z",
     "iopub.status.idle": "2025-04-17T21:55:26.539674Z",
     "shell.execute_reply": "2025-04-17T21:55:26.538704Z"
    },
    "id": "mf0liiHYLBZ0",
    "papermill": {
     "duration": 0.014756,
     "end_time": "2025-04-17T21:55:26.541092",
     "exception": false,
     "start_time": "2025-04-17T21:55:26.526336",
     "status": "completed"
    },
    "tags": []
   },
   "outputs": [],
   "source": [
    "# Filters for the feature set.\n",
    "\n",
    "# Filter by ID.\n",
    "id1_only = Filter(name=\"only_id1\", func=lambda x: x[x.ID == \"id1\"])\n",
    "id2_only = Filter(name=\"only_id2\", func=lambda x: x[x.ID == \"id2\"])\n",
    "id3_only = Filter(name=\"only_id3\", func=lambda x: x[x.ID == \"id3\"])\n",
    "id4_only = Filter(name=\"only_id4\", func=lambda x: x[x.ID == \"id4\"])\n",
    "\n",
    "# Filter by time.\n",
    "start_50ms = Filter(name=\"start50ms\", func=lambda x: x[x.Time <= (50 + x.Time.min())])\n",
    "start_100ms = Filter(name=\"start100ms\", func=lambda x: x[x.Time <= (100 + x.Time.min())])\n",
    "start_200ms = Filter(name=\"start200ms\", func=lambda x: x[x.Time <= (200 + x.Time.min())])\n",
    "start_500ms = Filter(name=\"start500ms\", func=lambda x: x[x.Time <= (500 + x.Time.min())])\n",
    "start_1000ms = Filter(name=\"start1000ms\", func=lambda x: x[x.Time <= (1000 + x.Time.min())])"
   ]
  },
  {
   "cell_type": "markdown",
   "id": "7b92227a",
   "metadata": {
    "id": "XQuZzC5VN3OJ",
    "papermill": {
     "duration": 0.007331,
     "end_time": "2025-04-17T21:55:26.555945",
     "exception": false,
     "start_time": "2025-04-17T21:55:26.548614",
     "status": "completed"
    },
    "tags": []
   },
   "source": [
    "## Datasets created"
   ]
  },
  {
   "cell_type": "code",
   "execution_count": 4,
   "id": "cb0d832a",
   "metadata": {
    "execution": {
     "iopub.execute_input": "2025-04-17T21:55:26.570964Z",
     "iopub.status.busy": "2025-04-17T21:55:26.570710Z",
     "iopub.status.idle": "2025-04-17T21:55:26.574104Z",
     "shell.execute_reply": "2025-04-17T21:55:26.573414Z"
    },
    "id": "VeSaucn_1MGl",
    "papermill": {
     "duration": 0.011885,
     "end_time": "2025-04-17T21:55:26.575307",
     "exception": false,
     "start_time": "2025-04-17T21:55:26.563422",
     "status": "completed"
    },
    "tags": []
   },
   "outputs": [],
   "source": [
    "# Pre-filtered version of the 'AllData'; contains only attack messages, and attack labels go from 0 to 4.\n",
    "# You should get the same data if you use this one or the AllData with the two default filters above.\n",
    "AttackOnly = Dataset(\n",
    "    name=\"AllData\",\n",
    "    path=\"/kaggle/input/attackonly/attack_only.csv\",\n",
    "    filters=[],\n",
    "    attack_split_factor=1_000\n",
    ")\n",
    "\n",
    "\n",
    "CarHackingAttacks = Dataset(\n",
    "    name=\"AllData\",\n",
    "    path=\"/kaggle/input/attack-only/car-hacking_attack_only.csv\",\n",
    "    filters=[],\n",
    "    attack_split_factor=5_00\n",
    ")\n",
    "\n"
   ]
  },
  {
   "cell_type": "markdown",
   "id": "ba28971e",
   "metadata": {
    "id": "AQZbl7pqef-g",
    "papermill": {
     "duration": 0.006422,
     "end_time": "2025-04-17T21:55:26.588532",
     "exception": false,
     "start_time": "2025-04-17T21:55:26.582110",
     "status": "completed"
    },
    "tags": []
   },
   "source": [
    "# Load data to use"
   ]
  },
  {
   "cell_type": "code",
   "execution_count": 5,
   "id": "1c822e6e",
   "metadata": {
    "execution": {
     "iopub.execute_input": "2025-04-17T21:55:26.603187Z",
     "iopub.status.busy": "2025-04-17T21:55:26.602991Z",
     "iopub.status.idle": "2025-04-17T21:55:31.183682Z",
     "shell.execute_reply": "2025-04-17T21:55:31.182960Z"
    },
    "executionInfo": {
     "elapsed": 12223,
     "status": "ok",
     "timestamp": 1738681053692,
     "user": {
      "displayName": "Bassel Samara",
      "userId": "17891317347850460868"
     },
     "user_tz": 300
    },
    "id": "Unln9oMbefWv",
    "outputId": "f58d83eb-0c13-43a1-c991-83c277bde73d",
    "papermill": {
     "duration": 4.589746,
     "end_time": "2025-04-17T21:55:31.185181",
     "exception": false,
     "start_time": "2025-04-17T21:55:26.595435",
     "status": "completed"
    },
    "tags": []
   },
   "outputs": [],
   "source": [
    "import numpy as np\n",
    "import torch\n",
    "from torch.utils.data import Dataset\n",
    "from sklearn.preprocessing import MinMaxScaler\n",
    "\n",
    "class CANBusFewShotDataset(Dataset):\n",
    "    def __init__(self, X, y):\n",
    "        \"\"\"\n",
    "        Convert CAN Bus feature vectors into image-like format.\n",
    "\n",
    "        Args:\n",
    "        - X: NumPy array of shape (num_samples, num_features)\n",
    "        - y: NumPy array of shape (num_samples, ) (labels)\n",
    "        \"\"\"\n",
    "        # Get the number of signals dynamically\n",
    "        num_signals = (X.shape[1] - 1) // 3  # -1 for message_count\n",
    "        \n",
    "        # Reshape to (num_samples, num_signals, 3)\n",
    "        num_samples = X.shape[0]\n",
    "\n",
    "        # Rearrange the features to have stdev, mean, median in columns\n",
    "        # Original order: stdev(0-n), mean(0-n), median(0-n), message_count\n",
    "        # Desired order: stdev(0-n), mean(0-n), median(0-n) as columns for each signal\n",
    "\n",
    "        # Create index ranges for each feature type\n",
    "        stdev_indices = list(range(num_signals))\n",
    "        mean_indices = list(range(num_signals, 2 * num_signals))\n",
    "        median_indices = list(range(2 * num_signals, 3 * num_signals))\n",
    "\n",
    "        # Create a new array with the desired shape and order\n",
    "        reshaped_features = np.zeros((num_samples, num_signals, 3))\n",
    "\n",
    "        for i in range(num_signals):  # For each signal\n",
    "            reshaped_features[:, i, 0] = X[:, stdev_indices[i]]\n",
    "            reshaped_features[:, i, 1] = X[:, mean_indices[i]]\n",
    "            reshaped_features[:, i, 2] = X[:, median_indices[i]]\n",
    "\n",
    "        self.features = torch.tensor(reshaped_features, dtype=torch.float32)\n",
    "\n",
    "        # Scale features to the range [0, 1] using MinMaxScaler\n",
    "        scaler = MinMaxScaler()\n",
    "        self.features = torch.tensor(scaler.fit_transform(self.features.reshape(-1, 1)).reshape(-1, num_signals, 3), dtype=torch.float32)\n",
    "\n",
    "        # Expand to 3 channels (simulate RGB) - NOW with the correct shape\n",
    "        self.features = self.features.unsqueeze(1).repeat(1, 3, 1, 1)  # Shape: (batch, 3, num_signals, 3)\n",
    "\n",
    "        self.labels = torch.tensor(y, dtype=torch.long)  # Convert labels to tensor\n",
    "\n",
    "    def __len__(self):\n",
    "        return len(self.features)\n",
    "\n",
    "    def __getitem__(self, index):\n",
    "        return self.features[index], self.labels[index]\n",
    "\n",
    "    def get_labels(self):\n",
    "        return self.labels.tolist()\n"
   ]
  },
  {
   "cell_type": "code",
   "execution_count": 6,
   "id": "0012ccfc",
   "metadata": {
    "execution": {
     "iopub.execute_input": "2025-04-17T21:55:31.200002Z",
     "iopub.status.busy": "2025-04-17T21:55:31.199656Z",
     "iopub.status.idle": "2025-04-17T21:55:50.948856Z",
     "shell.execute_reply": "2025-04-17T21:55:50.947678Z"
    },
    "papermill": {
     "duration": 19.757903,
     "end_time": "2025-04-17T21:55:50.950318",
     "exception": false,
     "start_time": "2025-04-17T21:55:31.192415",
     "status": "completed"
    },
    "tags": []
   },
   "outputs": [
    {
     "name": "stderr",
     "output_type": "stream",
     "text": [
      "<ipython-input-1-3255faebca60>:31: DtypeWarning: Columns (2) have mixed types. Specify dtype option on import or set low_memory=False.\n",
      "  df = pd.read_csv(self._path)\n"
     ]
    },
    {
     "name": "stdout",
     "output_type": "stream",
     "text": [
      "Loaded dataset from '/kaggle/input/attack-only/car-hacking_attack_only.csv'\n"
     ]
    },
    {
     "name": "stderr",
     "output_type": "stream",
     "text": [
      "<ipython-input-1-3255faebca60>:50: DeprecationWarning: DataFrameGroupBy.apply operated on the grouping columns. This behavior is deprecated, and in a future version of pandas the grouping columns will be excluded from the operation. Either pass `include_groups=False` to exclude the groupings or explicitly select the grouping columns after groupby to silence this warning.\n",
      "  min_label = self._data.apply(lambda x: x.Label.min())\n",
      "<ipython-input-1-3255faebca60>:51: DeprecationWarning: DataFrameGroupBy.apply operated on the grouping columns. This behavior is deprecated, and in a future version of pandas the grouping columns will be excluded from the operation. Either pass `include_groups=False` to exclude the groupings or explicitly select the grouping columns after groupby to silence this warning.\n",
      "  max_label = self._data.apply(lambda x: x.Label.max())\n"
     ]
    },
    {
     "name": "stdout",
     "output_type": "stream",
     "text": [
      "Calculating 'feat.name='signal0_stdev'' (1 / 25)\n"
     ]
    },
    {
     "name": "stderr",
     "output_type": "stream",
     "text": [
      "<ipython-input-1-3255faebca60>:77: DeprecationWarning: DataFrameGroupBy.apply operated on the grouping columns. This behavior is deprecated, and in a future version of pandas the grouping columns will be excluded from the operation. Either pass `include_groups=False` to exclude the groupings or explicitly select the grouping columns after groupby to silence this warning.\n",
      "  frames.append(pd.DataFrame({feat.name: df.apply(feat.func)}))\n"
     ]
    },
    {
     "name": "stdout",
     "output_type": "stream",
     "text": [
      "Calculating 'feat.name='signal1_stdev'' (2 / 25)\n",
      "Calculating 'feat.name='signal2_stdev'' (3 / 25)\n",
      "Calculating 'feat.name='signal3_stdev'' (4 / 25)\n",
      "Calculating 'feat.name='signal4_stdev'' (5 / 25)\n",
      "Calculating 'feat.name='signal5_stdev'' (6 / 25)\n",
      "Calculating 'feat.name='signal6_stdev'' (7 / 25)\n",
      "Calculating 'feat.name='signal7_stdev'' (8 / 25)\n",
      "Calculating 'feat.name='signal0_mean'' (9 / 25)\n",
      "Calculating 'feat.name='signal1_mean'' (10 / 25)\n",
      "Calculating 'feat.name='signal2_mean'' (11 / 25)\n",
      "Calculating 'feat.name='signal3_mean'' (12 / 25)\n",
      "Calculating 'feat.name='signal4_mean'' (13 / 25)\n",
      "Calculating 'feat.name='signal5_mean'' (14 / 25)\n",
      "Calculating 'feat.name='signal6_mean'' (15 / 25)\n",
      "Calculating 'feat.name='signal7_mean'' (16 / 25)\n",
      "Calculating 'feat.name='signal0_median'' (17 / 25)\n",
      "Calculating 'feat.name='signal1_median'' (18 / 25)\n",
      "Calculating 'feat.name='signal2_median'' (19 / 25)\n",
      "Calculating 'feat.name='signal3_median'' (20 / 25)\n",
      "Calculating 'feat.name='signal4_median'' (21 / 25)\n",
      "Calculating 'feat.name='signal5_median'' (22 / 25)\n",
      "Calculating 'feat.name='signal6_median'' (23 / 25)\n",
      "Calculating 'feat.name='signal7_median'' (24 / 25)\n",
      "Calculating 'feat.name='message_count'' (25 / 25)\n"
     ]
    },
    {
     "name": "stderr",
     "output_type": "stream",
     "text": [
      "<ipython-input-1-3255faebca60>:80: DeprecationWarning: DataFrameGroupBy.apply operated on the grouping columns. This behavior is deprecated, and in a future version of pandas the grouping columns will be excluded from the operation. Either pass `include_groups=False` to exclude the groupings or explicitly select the grouping columns after groupby to silence this warning.\n",
      "  y = df.apply(lambda block: block.Label.min()).to_list()\n"
     ]
    },
    {
     "name": "stdout",
     "output_type": "stream",
     "text": [
      "Loaded dataset from '/kaggle/input/attackonly/attack_only.csv'\n"
     ]
    },
    {
     "name": "stderr",
     "output_type": "stream",
     "text": [
      "<ipython-input-1-3255faebca60>:50: DeprecationWarning: DataFrameGroupBy.apply operated on the grouping columns. This behavior is deprecated, and in a future version of pandas the grouping columns will be excluded from the operation. Either pass `include_groups=False` to exclude the groupings or explicitly select the grouping columns after groupby to silence this warning.\n",
      "  min_label = self._data.apply(lambda x: x.Label.min())\n",
      "<ipython-input-1-3255faebca60>:51: DeprecationWarning: DataFrameGroupBy.apply operated on the grouping columns. This behavior is deprecated, and in a future version of pandas the grouping columns will be excluded from the operation. Either pass `include_groups=False` to exclude the groupings or explicitly select the grouping columns after groupby to silence this warning.\n",
      "  max_label = self._data.apply(lambda x: x.Label.max())\n"
     ]
    },
    {
     "name": "stdout",
     "output_type": "stream",
     "text": [
      "Calculating 'feat.name='signal1_stdev'' (1 / 13)\n",
      "Calculating 'feat.name='signal2_stdev'' (2 / 13)\n"
     ]
    },
    {
     "name": "stderr",
     "output_type": "stream",
     "text": [
      "<ipython-input-1-3255faebca60>:77: DeprecationWarning: DataFrameGroupBy.apply operated on the grouping columns. This behavior is deprecated, and in a future version of pandas the grouping columns will be excluded from the operation. Either pass `include_groups=False` to exclude the groupings or explicitly select the grouping columns after groupby to silence this warning.\n",
      "  frames.append(pd.DataFrame({feat.name: df.apply(feat.func)}))\n"
     ]
    },
    {
     "name": "stdout",
     "output_type": "stream",
     "text": [
      "Calculating 'feat.name='signal3_stdev'' (3 / 13)\n",
      "Calculating 'feat.name='signal4_stdev'' (4 / 13)\n",
      "Calculating 'feat.name='signal1_mean'' (5 / 13)\n",
      "Calculating 'feat.name='signal2_mean'' (6 / 13)\n",
      "Calculating 'feat.name='signal3_mean'' (7 / 13)\n",
      "Calculating 'feat.name='signal4_mean'' (8 / 13)\n",
      "Calculating 'feat.name='signal1_median'' (9 / 13)\n",
      "Calculating 'feat.name='signal2_median'' (10 / 13)\n",
      "Calculating 'feat.name='signal3_median'' (11 / 13)\n",
      "Calculating 'feat.name='signal4_median'' (12 / 13)\n",
      "Calculating 'feat.name='message_count'' (13 / 13)\n",
      "Dataset size: 962\n",
      "Example data point shape: torch.Size([3, 8, 3])\n",
      "Dataset size: 436\n",
      "Example data point shape: torch.Size([3, 4, 3])\n"
     ]
    },
    {
     "name": "stderr",
     "output_type": "stream",
     "text": [
      "<ipython-input-1-3255faebca60>:80: DeprecationWarning: DataFrameGroupBy.apply operated on the grouping columns. This behavior is deprecated, and in a future version of pandas the grouping columns will be excluded from the operation. Either pass `include_groups=False` to exclude the groupings or explicitly select the grouping columns after groupby to silence this warning.\n",
      "  y = df.apply(lambda block: block.Label.min()).to_list()\n"
     ]
    }
   ],
   "source": [
    "# Load `car_hacking_default_features` dataset\n",
    "X, y = CarHackingAttacks.create_feature_set(\n",
    "    filters=[],  # No additional filters\n",
    "    features=car_hacking_default_features,\n",
    ")\n",
    "X2, y2 = AttackOnly.create_feature_set(\n",
    "    filters=[],  # No additional filters\n",
    "    features=default_features,\n",
    ")\n",
    "\n",
    "\n",
    "# Split into train and test\n",
    "from sklearn.model_selection import train_test_split\n",
    "\n",
    "X_train, X_val, y_train, y_val = train_test_split(X, y, test_size=0.2, random_state=0, shuffle=True)\n",
    "X2_train, X2_val, y2_train, y2_val = train_test_split(X2, y2, test_size=0.2, random_state=0, shuffle=True)\n",
    "\n",
    "\n",
    "# Convert to Few-Shot Learning Dataset Format\n",
    "carhacking_dataset = CANBusFewShotDataset(X_train, y_train)\n",
    "val_ch_dataset = CANBusFewShotDataset(X_val, y_val)\n",
    "attack_dataset = CANBusFewShotDataset(X2_train, y2_train)\n",
    "val_att_dataset = CANBusFewShotDataset(X2_val, y2_val)\n",
    "\n",
    "\n",
    "# Check new dataset format\n",
    "print(f\"Dataset size: {len(carhacking_dataset)}\")\n",
    "print(f\"Example data point shape: {carhacking_dataset[0][0].shape}\")  \n",
    "print(f\"Dataset size: {len(attack_dataset)}\")\n",
    "print(f\"Example data point shape: {attack_dataset[0][0].shape}\")  "
   ]
  },
  {
   "cell_type": "markdown",
   "id": "bc386692",
   "metadata": {
    "id": "MQLsAJC01D5m",
    "papermill": {
     "duration": 0.008613,
     "end_time": "2025-04-17T21:55:50.968226",
     "exception": false,
     "start_time": "2025-04-17T21:55:50.959613",
     "status": "completed"
    },
    "pycharm": {
     "name": "#%% md\n"
    },
    "tags": []
   },
   "source": [
    "# Train a model with Episodic Training\n",
    "Download FSL."
   ]
  },
  {
   "cell_type": "code",
   "execution_count": 7,
   "id": "1ae81f9e",
   "metadata": {
    "execution": {
     "iopub.execute_input": "2025-04-17T21:55:50.988735Z",
     "iopub.status.busy": "2025-04-17T21:55:50.988351Z",
     "iopub.status.idle": "2025-04-17T21:56:02.808597Z",
     "shell.execute_reply": "2025-04-17T21:56:02.807364Z"
    },
    "papermill": {
     "duration": 11.833177,
     "end_time": "2025-04-17T21:56:02.810213",
     "exception": false,
     "start_time": "2025-04-17T21:55:50.977036",
     "status": "completed"
    },
    "tags": []
   },
   "outputs": [
    {
     "name": "stdout",
     "output_type": "stream",
     "text": [
      "Cloning into 'easy-few-shot-learning'...\r\n",
      "remote: Enumerating objects: 1201, done.\u001b[K\r\n",
      "remote: Counting objects: 100% (360/360), done.\u001b[K\r\n",
      "remote: Compressing objects: 100% (184/184), done.\u001b[K\r\n",
      "remote: Total 1201 (delta 250), reused 180 (delta 176), pack-reused 841 (from 1)\u001b[K\r\n",
      "Receiving objects: 100% (1201/1201), 2.31 MiB | 2.69 MiB/s, done.\r\n",
      "Resolving deltas: 100% (721/721), done.\r\n",
      "/kaggle/working/easy-few-shot-learning\n",
      "Processing /kaggle/working/easy-few-shot-learning\r\n",
      "  Installing build dependencies ... \u001b[?25l\u001b[?25hdone\r\n",
      "  Getting requirements to build wheel ... \u001b[?25l\u001b[?25hdone\r\n",
      "  Preparing metadata (pyproject.toml) ... \u001b[?25l\u001b[?25hdone\r\n",
      "Requirement already satisfied: matplotlib>=3.0.0 in /usr/local/lib/python3.10/dist-packages (from easyfsl==1.5.0) (3.7.5)\r\n",
      "Requirement already satisfied: pandas>=1.5.0 in /usr/local/lib/python3.10/dist-packages (from easyfsl==1.5.0) (2.2.3)\r\n",
      "Requirement already satisfied: torch>=1.5.0 in /usr/local/lib/python3.10/dist-packages (from easyfsl==1.5.0) (2.5.1+cu121)\r\n",
      "Requirement already satisfied: torchvision>=0.7.0 in /usr/local/lib/python3.10/dist-packages (from easyfsl==1.5.0) (0.20.1+cu121)\r\n",
      "Requirement already satisfied: tqdm>=4.1.0 in /usr/local/lib/python3.10/dist-packages (from easyfsl==1.5.0) (4.67.1)\r\n",
      "Requirement already satisfied: contourpy>=1.0.1 in /usr/local/lib/python3.10/dist-packages (from matplotlib>=3.0.0->easyfsl==1.5.0) (1.3.1)\r\n",
      "Requirement already satisfied: cycler>=0.10 in /usr/local/lib/python3.10/dist-packages (from matplotlib>=3.0.0->easyfsl==1.5.0) (0.12.1)\r\n",
      "Requirement already satisfied: fonttools>=4.22.0 in /usr/local/lib/python3.10/dist-packages (from matplotlib>=3.0.0->easyfsl==1.5.0) (4.55.3)\r\n",
      "Requirement already satisfied: kiwisolver>=1.0.1 in /usr/local/lib/python3.10/dist-packages (from matplotlib>=3.0.0->easyfsl==1.5.0) (1.4.7)\r\n",
      "Requirement already satisfied: numpy<2,>=1.20 in /usr/local/lib/python3.10/dist-packages (from matplotlib>=3.0.0->easyfsl==1.5.0) (1.26.4)\r\n",
      "Requirement already satisfied: packaging>=20.0 in /usr/local/lib/python3.10/dist-packages (from matplotlib>=3.0.0->easyfsl==1.5.0) (24.2)\r\n",
      "Requirement already satisfied: pillow>=6.2.0 in /usr/local/lib/python3.10/dist-packages (from matplotlib>=3.0.0->easyfsl==1.5.0) (11.0.0)\r\n",
      "Requirement already satisfied: pyparsing>=2.3.1 in /usr/local/lib/python3.10/dist-packages (from matplotlib>=3.0.0->easyfsl==1.5.0) (3.2.0)\r\n",
      "Requirement already satisfied: python-dateutil>=2.7 in /usr/local/lib/python3.10/dist-packages (from matplotlib>=3.0.0->easyfsl==1.5.0) (2.9.0.post0)\r\n",
      "Requirement already satisfied: pytz>=2020.1 in /usr/local/lib/python3.10/dist-packages (from pandas>=1.5.0->easyfsl==1.5.0) (2025.1)\r\n",
      "Requirement already satisfied: tzdata>=2022.7 in /usr/local/lib/python3.10/dist-packages (from pandas>=1.5.0->easyfsl==1.5.0) (2025.1)\r\n",
      "Requirement already satisfied: filelock in /usr/local/lib/python3.10/dist-packages (from torch>=1.5.0->easyfsl==1.5.0) (3.17.0)\r\n",
      "Requirement already satisfied: typing-extensions>=4.8.0 in /usr/local/lib/python3.10/dist-packages (from torch>=1.5.0->easyfsl==1.5.0) (4.12.2)\r\n",
      "Requirement already satisfied: networkx in /usr/local/lib/python3.10/dist-packages (from torch>=1.5.0->easyfsl==1.5.0) (3.4.2)\r\n",
      "Requirement already satisfied: jinja2 in /usr/local/lib/python3.10/dist-packages (from torch>=1.5.0->easyfsl==1.5.0) (3.1.4)\r\n",
      "Requirement already satisfied: fsspec in /usr/local/lib/python3.10/dist-packages (from torch>=1.5.0->easyfsl==1.5.0) (2024.12.0)\r\n",
      "Requirement already satisfied: sympy==1.13.1 in /usr/local/lib/python3.10/dist-packages (from torch>=1.5.0->easyfsl==1.5.0) (1.13.1)\r\n",
      "Requirement already satisfied: mpmath<1.4,>=1.1.0 in /usr/local/lib/python3.10/dist-packages (from sympy==1.13.1->torch>=1.5.0->easyfsl==1.5.0) (1.3.0)\r\n",
      "Requirement already satisfied: mkl_fft in /usr/local/lib/python3.10/dist-packages (from numpy<2,>=1.20->matplotlib>=3.0.0->easyfsl==1.5.0) (1.3.8)\r\n",
      "Requirement already satisfied: mkl_random in /usr/local/lib/python3.10/dist-packages (from numpy<2,>=1.20->matplotlib>=3.0.0->easyfsl==1.5.0) (1.2.4)\r\n",
      "Requirement already satisfied: mkl_umath in /usr/local/lib/python3.10/dist-packages (from numpy<2,>=1.20->matplotlib>=3.0.0->easyfsl==1.5.0) (0.1.1)\r\n",
      "Requirement already satisfied: mkl in /usr/local/lib/python3.10/dist-packages (from numpy<2,>=1.20->matplotlib>=3.0.0->easyfsl==1.5.0) (2025.0.1)\r\n",
      "Requirement already satisfied: tbb4py in /usr/local/lib/python3.10/dist-packages (from numpy<2,>=1.20->matplotlib>=3.0.0->easyfsl==1.5.0) (2022.0.0)\r\n",
      "Requirement already satisfied: mkl-service in /usr/local/lib/python3.10/dist-packages (from numpy<2,>=1.20->matplotlib>=3.0.0->easyfsl==1.5.0) (2.4.1)\r\n",
      "Requirement already satisfied: six>=1.5 in /usr/local/lib/python3.10/dist-packages (from python-dateutil>=2.7->matplotlib>=3.0.0->easyfsl==1.5.0) (1.17.0)\r\n",
      "Requirement already satisfied: MarkupSafe>=2.0 in /usr/local/lib/python3.10/dist-packages (from jinja2->torch>=1.5.0->easyfsl==1.5.0) (3.0.2)\r\n",
      "Requirement already satisfied: intel-openmp>=2024 in /usr/local/lib/python3.10/dist-packages (from mkl->numpy<2,>=1.20->matplotlib>=3.0.0->easyfsl==1.5.0) (2024.2.0)\r\n",
      "Requirement already satisfied: tbb==2022.* in /usr/local/lib/python3.10/dist-packages (from mkl->numpy<2,>=1.20->matplotlib>=3.0.0->easyfsl==1.5.0) (2022.0.0)\r\n",
      "Requirement already satisfied: tcmlib==1.* in /usr/local/lib/python3.10/dist-packages (from tbb==2022.*->mkl->numpy<2,>=1.20->matplotlib>=3.0.0->easyfsl==1.5.0) (1.2.0)\r\n",
      "Requirement already satisfied: intel-cmplr-lib-rt in /usr/local/lib/python3.10/dist-packages (from mkl_umath->numpy<2,>=1.20->matplotlib>=3.0.0->easyfsl==1.5.0) (2024.2.0)\r\n",
      "Requirement already satisfied: intel-cmplr-lib-ur==2024.2.0 in /usr/local/lib/python3.10/dist-packages (from intel-openmp>=2024->mkl->numpy<2,>=1.20->matplotlib>=3.0.0->easyfsl==1.5.0) (2024.2.0)\r\n",
      "Building wheels for collected packages: easyfsl\r\n",
      "  Building wheel for easyfsl (pyproject.toml) ... \u001b[?25l\u001b[?25hdone\r\n",
      "  Created wheel for easyfsl: filename=easyfsl-1.5.0-py3-none-any.whl size=73036 sha256=3fa64e3933b73c1bcc8f968cbba824a8699101928c89773df73c43c5d0aec306\r\n",
      "  Stored in directory: /root/.cache/pip/wheels/42/3c/be/1c46bdf231c4190667375ac0fc96270093e9693ea3ca24a322\r\n",
      "Successfully built easyfsl\r\n",
      "Installing collected packages: easyfsl\r\n",
      "Successfully installed easyfsl-1.5.0\r\n"
     ]
    }
   ],
   "source": [
    "try:\n",
    "    import google.colab\n",
    "    colab = True\n",
    "except:\n",
    "    colab = False\n",
    "\n",
    "if colab is True:\n",
    "    # Running in Google Colab\n",
    "    # Clone the repo\n",
    "    !git clone https://github.com/sicara/easy-few-shot-learning\n",
    "    %cd easy-few-shot-learning\n",
    "    !pip install .\n",
    "else:\n",
    "    # Run locally\n",
    "    # Ensure working directory is the project's root\n",
    "    # Make sure easyfsl is installed!\n",
    "    %cd .."
   ]
  },
  {
   "cell_type": "code",
   "execution_count": 8,
   "id": "03c48dd0",
   "metadata": {
    "execution": {
     "iopub.execute_input": "2025-04-17T21:56:02.833088Z",
     "iopub.status.busy": "2025-04-17T21:56:02.832800Z",
     "iopub.status.idle": "2025-04-17T21:56:02.841236Z",
     "shell.execute_reply": "2025-04-17T21:56:02.840400Z"
    },
    "executionInfo": {
     "elapsed": 7362,
     "status": "ok",
     "timestamp": 1741105537363,
     "user": {
      "displayName": "Bassel Samara",
      "userId": "17891317347850460868"
     },
     "user_tz": 300
    },
    "id": "Nj6BoPIlornn",
    "papermill": {
     "duration": 0.021349,
     "end_time": "2025-04-17T21:56:02.842637",
     "exception": false,
     "start_time": "2025-04-17T21:56:02.821288",
     "status": "completed"
    },
    "pycharm": {
     "name": "#%%\n"
    },
    "tags": []
   },
   "outputs": [],
   "source": [
    "import copy\n",
    "from pathlib import Path\n",
    "import random\n",
    "from statistics import mean\n",
    "\n",
    "import numpy as np\n",
    "import torch\n",
    "from torch import nn\n",
    "from tqdm import tqdm"
   ]
  },
  {
   "cell_type": "markdown",
   "id": "650e8d12",
   "metadata": {
    "collapsed": false,
    "id": "58L5JBYsornn",
    "jupyter": {
     "outputs_hidden": false
    },
    "papermill": {
     "duration": 0.009878,
     "end_time": "2025-04-17T21:56:02.862794",
     "exception": false,
     "start_time": "2025-04-17T21:56:02.852916",
     "status": "completed"
    },
    "pycharm": {
     "name": "#%% md\n"
    },
    "tags": []
   },
   "source": [
    "Then we're gonna do the most important thing in Machine Learning research: ensuring reproducibility by setting the random seed. We're going to set the seed for all random packages that we could possibly use, plus some other stuff to make CUDA deterministic (see [here](https://pytorch.org/docs/stable/notes/randomness.html)).\n",
    "\n",
    "I strongly encourage that you do this in **all your scripts**."
   ]
  },
  {
   "cell_type": "code",
   "execution_count": 9,
   "id": "755589fa",
   "metadata": {
    "execution": {
     "iopub.execute_input": "2025-04-17T21:56:02.884229Z",
     "iopub.status.busy": "2025-04-17T21:56:02.883982Z",
     "iopub.status.idle": "2025-04-17T21:56:02.891961Z",
     "shell.execute_reply": "2025-04-17T21:56:02.891280Z"
    },
    "executionInfo": {
     "elapsed": 7,
     "status": "ok",
     "timestamp": 1741105538592,
     "user": {
      "displayName": "Bassel Samara",
      "userId": "17891317347850460868"
     },
     "user_tz": 300
    },
    "id": "PqpDTbFDorno",
    "papermill": {
     "duration": 0.019972,
     "end_time": "2025-04-17T21:56:02.893092",
     "exception": false,
     "start_time": "2025-04-17T21:56:02.873120",
     "status": "completed"
    },
    "pycharm": {
     "name": "#%%\n"
    },
    "tags": []
   },
   "outputs": [],
   "source": [
    "random_seed = 0\n",
    "np.random.seed(random_seed)\n",
    "torch.manual_seed(random_seed)\n",
    "random.seed(random_seed)\n",
    "torch.backends.cudnn.deterministic = True\n",
    "torch.backends.cudnn.benchmark = False"
   ]
  },
  {
   "cell_type": "markdown",
   "id": "71a70b84",
   "metadata": {
    "collapsed": false,
    "id": "TMmasOaBorno",
    "jupyter": {
     "outputs_hidden": false
    },
    "papermill": {
     "duration": 0.010204,
     "end_time": "2025-04-17T21:56:02.913402",
     "exception": false,
     "start_time": "2025-04-17T21:56:02.903198",
     "status": "completed"
    },
    "pycharm": {
     "name": "#%% md\n"
    },
    "tags": []
   },
   "source": [
    "Then we're gonna set the shape of our problem.\n",
    "\n",
    "Also we define our set-up, like the device (change it if you don't have CUDA) or the number of workers for data loading."
   ]
  },
  {
   "cell_type": "code",
   "execution_count": 10,
   "id": "784fcfcf",
   "metadata": {
    "execution": {
     "iopub.execute_input": "2025-04-17T21:56:02.934375Z",
     "iopub.status.busy": "2025-04-17T21:56:02.934143Z",
     "iopub.status.idle": "2025-04-17T21:56:02.937339Z",
     "shell.execute_reply": "2025-04-17T21:56:02.936727Z"
    },
    "executionInfo": {
     "elapsed": 3,
     "status": "ok",
     "timestamp": 1741105540276,
     "user": {
      "displayName": "Bassel Samara",
      "userId": "17891317347850460868"
     },
     "user_tz": 300
    },
    "id": "SAV32P5sorno",
    "papermill": {
     "duration": 0.01523,
     "end_time": "2025-04-17T21:56:02.938589",
     "exception": false,
     "start_time": "2025-04-17T21:56:02.923359",
     "status": "completed"
    },
    "pycharm": {
     "name": "#%%\n"
    },
    "tags": []
   },
   "outputs": [],
   "source": [
    "# Number of attack ids to evaluate to\n",
    "n_way = 4\n",
    "\n",
    "# Amount of support features per attack id model has to make a judgment \n",
    "n_shot = 5\n",
    "\n",
    "# Number of features per attack id that model has to evaluate per task\n",
    "n_query = 10\n",
    "\n",
    "DEVICE = \"cuda\"\n",
    "\n",
    "n_workers = 4"
   ]
  },
  {
   "cell_type": "markdown",
   "id": "0607bd10",
   "metadata": {
    "collapsed": false,
    "id": "fO9ZsW02orno",
    "jupyter": {
     "outputs_hidden": false
    },
    "papermill": {
     "duration": 0.010429,
     "end_time": "2025-04-17T21:56:02.960207",
     "exception": false,
     "start_time": "2025-04-17T21:56:02.949778",
     "status": "completed"
    },
    "pycharm": {
     "name": "#%% md\n"
    },
    "tags": []
   },
   "source": [
    "## Training\n",
    "\n",
    "First we define our data loaders for training and validation. I set it up for the carhacking data and the attack data"
   ]
  },
  {
   "cell_type": "code",
   "execution_count": 11,
   "id": "f247616a",
   "metadata": {
    "execution": {
     "iopub.execute_input": "2025-04-17T21:56:02.980999Z",
     "iopub.status.busy": "2025-04-17T21:56:02.980800Z",
     "iopub.status.idle": "2025-04-17T21:56:07.206736Z",
     "shell.execute_reply": "2025-04-17T21:56:07.206049Z"
    },
    "executionInfo": {
     "elapsed": 6187,
     "status": "error",
     "timestamp": 1741105551278,
     "user": {
      "displayName": "Bassel Samara",
      "userId": "17891317347850460868"
     },
     "user_tz": 300
    },
    "id": "G_beVNUkorno",
    "outputId": "84d9001c-5f88-4e1a-cc1a-2ffd0fe66b92",
    "papermill": {
     "duration": 4.238128,
     "end_time": "2025-04-17T21:56:07.208306",
     "exception": false,
     "start_time": "2025-04-17T21:56:02.970178",
     "status": "completed"
    },
    "pycharm": {
     "name": "#%%\n"
    },
    "tags": []
   },
   "outputs": [],
   "source": [
    "\n",
    "from easyfsl.samplers import TaskSampler\n",
    "from torch.utils.data import DataLoader\n",
    "\n",
    "\n",
    "n_tasks_per_epoch = 15\n",
    "n_validation_tasks = 5\n",
    "\n",
    "\n",
    "train_sampler = TaskSampler(carhacking_dataset, n_way=n_way, n_shot=n_shot, n_query=n_query, n_tasks=n_tasks_per_epoch)\n",
    "train_loader = DataLoader(carhacking_dataset, batch_sampler=train_sampler, num_workers=n_workers, pin_memory=True, collate_fn=train_sampler.episodic_collate_fn)\n",
    "\n",
    "atk_train_sampler = TaskSampler(attack_dataset, n_way=n_way, n_shot=n_shot, n_query=n_query, n_tasks=n_tasks_per_epoch)\n",
    "atk_train_loader = DataLoader(attack_dataset, batch_sampler=atk_train_sampler, num_workers=n_workers, pin_memory=True, collate_fn=atk_train_sampler.episodic_collate_fn)\n",
    "\n",
    "val_sampler = TaskSampler(val_ch_dataset, n_way=n_way, n_shot=n_shot, n_query=n_query, n_tasks=n_validation_tasks)\n",
    "val_loader = DataLoader(val_ch_dataset, batch_sampler=val_sampler, num_workers=n_workers, pin_memory=True, collate_fn=val_sampler.episodic_collate_fn)\n",
    "\n",
    "atk_val_sampler = TaskSampler(val_att_dataset, n_way=n_way, n_shot=n_shot, n_query=n_query, n_tasks=n_validation_tasks)\n",
    "atk_val_loader = DataLoader(val_ch_dataset, batch_sampler=atk_val_sampler, num_workers=n_workers, pin_memory=True, collate_fn=atk_val_sampler.episodic_collate_fn)"
   ]
  },
  {
   "cell_type": "markdown",
   "id": "b7cffd40",
   "metadata": {
    "collapsed": false,
    "id": "_rTqSiPtorno",
    "jupyter": {
     "outputs_hidden": false
    },
    "papermill": {
     "duration": 0.010033,
     "end_time": "2025-04-17T21:56:07.228987",
     "exception": false,
     "start_time": "2025-04-17T21:56:07.218954",
     "status": "completed"
    },
    "pycharm": {
     "name": "#%% md\n"
    },
    "tags": []
   },
   "source": [
    "And then we define the network. Here I chose Prototypical Networks and the built-in ResNet18 from PyTorch because it's easy."
   ]
  },
  {
   "cell_type": "code",
   "execution_count": 12,
   "id": "ffb69470",
   "metadata": {
    "execution": {
     "iopub.execute_input": "2025-04-17T21:56:07.252987Z",
     "iopub.status.busy": "2025-04-17T21:56:07.252549Z",
     "iopub.status.idle": "2025-04-17T21:56:07.852445Z",
     "shell.execute_reply": "2025-04-17T21:56:07.851483Z"
    },
    "id": "5lX2ebcMorno",
    "papermill": {
     "duration": 0.613831,
     "end_time": "2025-04-17T21:56:07.854147",
     "exception": false,
     "start_time": "2025-04-17T21:56:07.240316",
     "status": "completed"
    },
    "pycharm": {
     "name": "#%%\n"
    },
    "tags": []
   },
   "outputs": [],
   "source": [
    "from easyfsl.methods import PrototypicalNetworks, FewShotClassifier\n",
    "from easyfsl.modules import resnet12\n",
    "\n",
    "\n",
    "convolutional_network = resnet12()\n",
    "convolutional_network2 = resnet12()\n",
    "few_shot_classifier = PrototypicalNetworks(convolutional_network).to(DEVICE)\n",
    "attack_classifier = PrototypicalNetworks(convolutional_network2).to(DEVICE)"
   ]
  },
  {
   "cell_type": "markdown",
   "id": "df8d1b0b",
   "metadata": {
    "collapsed": false,
    "id": "HfvvltwJorno",
    "jupyter": {
     "outputs_hidden": false
    },
    "papermill": {
     "duration": 0.010225,
     "end_time": "2025-04-17T21:56:07.874864",
     "exception": false,
     "start_time": "2025-04-17T21:56:07.864639",
     "status": "completed"
    },
    "pycharm": {
     "name": "#%% md\n"
    },
    "tags": []
   },
   "source": [
    "Now let's define our training helpers ! I chose to use Stochastic Gradient Descent on 200 epochs with a scheduler that divides the learning rate by 10 after 120 and 160 epochs. The strategy is derived from [this repo](https://github.com/fiveai/on-episodes-fsl).\n",
    "\n",
    "We're also gonna use a TensorBoard because it's always good to see what your training curves look like."
   ]
  },
  {
   "cell_type": "code",
   "execution_count": 13,
   "id": "10418763",
   "metadata": {
    "execution": {
     "iopub.execute_input": "2025-04-17T21:56:07.896372Z",
     "iopub.status.busy": "2025-04-17T21:56:07.896089Z",
     "iopub.status.idle": "2025-04-17T21:56:19.278069Z",
     "shell.execute_reply": "2025-04-17T21:56:19.277385Z"
    },
    "id": "r3Np7aH4orno",
    "papermill": {
     "duration": 11.394303,
     "end_time": "2025-04-17T21:56:19.279651",
     "exception": false,
     "start_time": "2025-04-17T21:56:07.885348",
     "status": "completed"
    },
    "pycharm": {
     "name": "#%%\n"
    },
    "tags": []
   },
   "outputs": [],
   "source": [
    "from torch.optim import SGD, Optimizer\n",
    "from torch.optim.lr_scheduler import MultiStepLR\n",
    "from torch.utils.tensorboard import SummaryWriter\n",
    "\n",
    "\n",
    "LOSS_FUNCTION = nn.CrossEntropyLoss()\n",
    "\n",
    "n_epochs = 200\n",
    "scheduler_milestones = [120, 160]\n",
    "scheduler_gamma = 0.1\n",
    "learning_rate = 1e-2\n",
    "tb_logs_dir = Path(\".\")\n",
    "\n",
    "train_optimizer = SGD(\n",
    "    few_shot_classifier.parameters(), lr=learning_rate, momentum=0.9, weight_decay=5e-4\n",
    ")\n",
    "atk_train_optimizer = SGD(\n",
    "    attack_classifier.parameters(), lr=learning_rate, momentum=0.9, weight_decay=5e-4\n",
    ")\n",
    "train_scheduler = MultiStepLR(\n",
    "    train_optimizer,\n",
    "    milestones=scheduler_milestones,\n",
    "    gamma=scheduler_gamma,\n",
    ")\n",
    "atk_train_scheduler = MultiStepLR(\n",
    "    atk_train_optimizer,\n",
    "    milestones=scheduler_milestones,\n",
    "    gamma=scheduler_gamma,\n",
    ")\n",
    "\n",
    "tb_writer = SummaryWriter(log_dir=str(tb_logs_dir))"
   ]
  },
  {
   "cell_type": "markdown",
   "id": "7f994700",
   "metadata": {
    "collapsed": false,
    "id": "pr1ttY_gorno",
    "jupyter": {
     "outputs_hidden": false
    },
    "papermill": {
     "duration": 0.009959,
     "end_time": "2025-04-17T21:56:19.300243",
     "exception": false,
     "start_time": "2025-04-17T21:56:19.290284",
     "status": "completed"
    },
    "pycharm": {
     "name": "#%% md\n"
    },
    "tags": []
   },
   "source": [
    "And now let's get to it! Here we define the function that performs a training epoch.\n",
    "\n",
    "We use tqdm to monitor the training in real time in our logs."
   ]
  },
  {
   "cell_type": "code",
   "execution_count": 14,
   "id": "77a04bd5",
   "metadata": {
    "execution": {
     "iopub.execute_input": "2025-04-17T21:56:19.321000Z",
     "iopub.status.busy": "2025-04-17T21:56:19.320597Z",
     "iopub.status.idle": "2025-04-17T21:56:19.325823Z",
     "shell.execute_reply": "2025-04-17T21:56:19.324923Z"
    },
    "id": "jqDOkGYhorno",
    "papermill": {
     "duration": 0.016979,
     "end_time": "2025-04-17T21:56:19.327089",
     "exception": false,
     "start_time": "2025-04-17T21:56:19.310110",
     "status": "completed"
    },
    "pycharm": {
     "name": "#%%\n"
    },
    "tags": []
   },
   "outputs": [],
   "source": [
    "def training_epoch(\n",
    "    model: FewShotClassifier, data_loader: DataLoader, optimizer: Optimizer\n",
    "):\n",
    "    all_loss = []\n",
    "    model.train()\n",
    "    with tqdm(\n",
    "        enumerate(data_loader), total=len(data_loader), desc=\"Training\"\n",
    "    ) as tqdm_train:\n",
    "        for episode_index, (\n",
    "            support_images,\n",
    "            support_labels,\n",
    "            query_images,\n",
    "            query_labels,\n",
    "            _,\n",
    "        ) in tqdm_train:\n",
    "            optimizer.zero_grad()\n",
    "            model.process_support_set(\n",
    "                support_images.to(DEVICE), support_labels.to(DEVICE)\n",
    "            )\n",
    "            classification_scores = model(query_images.to(DEVICE))\n",
    "\n",
    "            loss = LOSS_FUNCTION(classification_scores, query_labels.to(DEVICE))\n",
    "            loss.backward()\n",
    "            optimizer.step()\n",
    "\n",
    "            all_loss.append(loss.item())\n",
    "\n",
    "            tqdm_train.set_postfix(loss=mean(all_loss))\n",
    "\n",
    "    return mean(all_loss)"
   ]
  },
  {
   "cell_type": "markdown",
   "id": "c82d0a04",
   "metadata": {
    "collapsed": false,
    "id": "iWfYXDS6orno",
    "jupyter": {
     "outputs_hidden": false
    },
    "papermill": {
     "duration": 0.00966,
     "end_time": "2025-04-17T21:56:19.346646",
     "exception": false,
     "start_time": "2025-04-17T21:56:19.336986",
     "status": "completed"
    },
    "pycharm": {
     "name": "#%% md\n"
    },
    "tags": []
   },
   "source": [
    "And we have everything we need! To perform validations we'll just use the built-in `evaluate` function from `easyfsl.methods.utils`.\n",
    "\n",
    "This is now the time to **start training**.\n",
    "\n",
    "I added something to log the state of the model that gave the best performance on the validation set."
   ]
  },
  {
   "cell_type": "code",
   "execution_count": 15,
   "id": "c9d7b987",
   "metadata": {
    "execution": {
     "iopub.execute_input": "2025-04-17T21:56:19.366972Z",
     "iopub.status.busy": "2025-04-17T21:56:19.366765Z",
     "iopub.status.idle": "2025-04-17T21:59:09.650117Z",
     "shell.execute_reply": "2025-04-17T21:59:09.648857Z"
    },
    "executionInfo": {
     "elapsed": 291,
     "status": "error",
     "timestamp": 1738080218912,
     "user": {
      "displayName": "Bassel Samara",
      "userId": "17891317347850460868"
     },
     "user_tz": 300
    },
    "id": "qKY0QB-Xorno",
    "outputId": "5379633d-d969-4d73-c97b-d99bd210037b",
    "papermill": {
     "duration": 170.29518,
     "end_time": "2025-04-17T21:59:09.651592",
     "exception": false,
     "start_time": "2025-04-17T21:56:19.356412",
     "status": "completed"
    },
    "pycharm": {
     "name": "#%%\n"
    },
    "tags": []
   },
   "outputs": [
    {
     "name": "stdout",
     "output_type": "stream",
     "text": [
      "Epoch 0\n"
     ]
    },
    {
     "name": "stderr",
     "output_type": "stream",
     "text": [
      "Training: 100%|██████████| 15/15 [00:02<00:00,  6.88it/s, loss=1.13e-8]\n",
      "Validation: 100%|██████████| 5/5 [00:00<00:00, 34.17it/s, accuracy=1]"
     ]
    },
    {
     "name": "stdout",
     "output_type": "stream",
     "text": [
      "Ding ding ding! We found a new best model!\n",
      "Epoch 1\n"
     ]
    },
    {
     "name": "stderr",
     "output_type": "stream",
     "text": [
      "\n",
      "Training: 100%|██████████| 15/15 [00:00<00:00, 30.17it/s, loss=9.93e-9]\n",
      "Validation: 100%|██████████| 5/5 [00:00<00:00, 42.20it/s, accuracy=1]"
     ]
    },
    {
     "name": "stdout",
     "output_type": "stream",
     "text": [
      "Epoch 2\n"
     ]
    },
    {
     "name": "stderr",
     "output_type": "stream",
     "text": [
      "\n",
      "Training: 100%|██████████| 15/15 [00:00<00:00, 28.38it/s, loss=1.91e-8]\n",
      "Validation: 100%|██████████| 5/5 [00:00<00:00, 42.90it/s, accuracy=1]"
     ]
    },
    {
     "name": "stdout",
     "output_type": "stream",
     "text": [
      "Epoch 3\n"
     ]
    },
    {
     "name": "stderr",
     "output_type": "stream",
     "text": [
      "\n",
      "Training: 100%|██████████| 15/15 [00:00<00:00, 29.71it/s, loss=3.77e-9]\n",
      "Validation: 100%|██████████| 5/5 [00:00<00:00, 53.11it/s, accuracy=1]"
     ]
    },
    {
     "name": "stdout",
     "output_type": "stream",
     "text": [
      "Epoch 4\n"
     ]
    },
    {
     "name": "stderr",
     "output_type": "stream",
     "text": [
      "\n",
      "Training: 100%|██████████| 15/15 [00:00<00:00, 30.78it/s, loss=6.36e-9]\n",
      "Validation: 100%|██████████| 5/5 [00:00<00:00, 47.47it/s, accuracy=1]"
     ]
    },
    {
     "name": "stdout",
     "output_type": "stream",
     "text": [
      "Epoch 5\n"
     ]
    },
    {
     "name": "stderr",
     "output_type": "stream",
     "text": [
      "\n",
      "Training: 100%|██████████| 15/15 [00:00<00:00, 30.61it/s, loss=5.17e-9]\n",
      "Validation: 100%|██████████| 5/5 [00:00<00:00, 52.03it/s, accuracy=1]\n"
     ]
    },
    {
     "name": "stdout",
     "output_type": "stream",
     "text": [
      "Epoch 6\n"
     ]
    },
    {
     "name": "stderr",
     "output_type": "stream",
     "text": [
      "Training: 100%|██████████| 15/15 [00:00<00:00, 30.05it/s, loss=7.75e-9]\n",
      "Validation: 100%|██████████| 5/5 [00:00<00:00, 48.35it/s, accuracy=1]"
     ]
    },
    {
     "name": "stdout",
     "output_type": "stream",
     "text": [
      "Epoch 7\n"
     ]
    },
    {
     "name": "stderr",
     "output_type": "stream",
     "text": [
      "\n",
      "Training: 100%|██████████| 15/15 [00:00<00:00, 30.73it/s, loss=6.36e-9]\n",
      "Validation: 100%|██████████| 5/5 [00:00<00:00, 49.50it/s, accuracy=1]"
     ]
    },
    {
     "name": "stdout",
     "output_type": "stream",
     "text": [
      "Epoch 8\n"
     ]
    },
    {
     "name": "stderr",
     "output_type": "stream",
     "text": [
      "\n",
      "Training: 100%|██████████| 15/15 [00:00<00:00, 30.22it/s, loss=1.51e-8]\n",
      "Validation: 100%|██████████| 5/5 [00:00<00:00, 50.09it/s, accuracy=1]"
     ]
    },
    {
     "name": "stdout",
     "output_type": "stream",
     "text": [
      "Epoch 9\n"
     ]
    },
    {
     "name": "stderr",
     "output_type": "stream",
     "text": [
      "\n",
      "Training: 100%|██████████| 15/15 [00:00<00:00, 28.96it/s, loss=1.07e-8]\n",
      "Validation: 100%|██████████| 5/5 [00:00<00:00, 50.32it/s, accuracy=1]"
     ]
    },
    {
     "name": "stdout",
     "output_type": "stream",
     "text": [
      "Epoch 10\n"
     ]
    },
    {
     "name": "stderr",
     "output_type": "stream",
     "text": [
      "\n",
      "Training: 100%|██████████| 15/15 [00:00<00:00, 30.43it/s, loss=6.36e-9]\n",
      "Validation: 100%|██████████| 5/5 [00:00<00:00, 54.29it/s, accuracy=1]"
     ]
    },
    {
     "name": "stdout",
     "output_type": "stream",
     "text": [
      "Epoch 11\n"
     ]
    },
    {
     "name": "stderr",
     "output_type": "stream",
     "text": [
      "\n",
      "Training: 100%|██████████| 15/15 [00:00<00:00, 29.89it/s, loss=9.54e-9]\n",
      "Validation: 100%|██████████| 5/5 [00:00<00:00, 46.71it/s, accuracy=1]"
     ]
    },
    {
     "name": "stdout",
     "output_type": "stream",
     "text": [
      "Epoch 12\n"
     ]
    },
    {
     "name": "stderr",
     "output_type": "stream",
     "text": [
      "\n",
      "Training: 100%|██████████| 15/15 [00:00<00:00, 30.65it/s, loss=3.77e-9]\n",
      "Validation: 100%|██████████| 5/5 [00:00<00:00, 48.09it/s, accuracy=1]"
     ]
    },
    {
     "name": "stdout",
     "output_type": "stream",
     "text": [
      "Epoch 13\n"
     ]
    },
    {
     "name": "stderr",
     "output_type": "stream",
     "text": [
      "\n",
      "Training: 100%|██████████| 15/15 [00:00<00:00, 30.11it/s, loss=1.03e-8]\n",
      "Validation: 100%|██████████| 5/5 [00:00<00:00, 50.94it/s, accuracy=1]"
     ]
    },
    {
     "name": "stdout",
     "output_type": "stream",
     "text": [
      "Epoch 14\n"
     ]
    },
    {
     "name": "stderr",
     "output_type": "stream",
     "text": [
      "\n",
      "Training: 100%|██████████| 15/15 [00:00<00:00, 29.95it/s, loss=7.35e-9]\n",
      "Validation: 100%|██████████| 5/5 [00:00<00:00, 49.43it/s, accuracy=1]"
     ]
    },
    {
     "name": "stdout",
     "output_type": "stream",
     "text": [
      "Epoch 15\n"
     ]
    },
    {
     "name": "stderr",
     "output_type": "stream",
     "text": [
      "\n",
      "Training: 100%|██████████| 15/15 [00:00<00:00, 30.01it/s, loss=6.36e-9]\n",
      "Validation: 100%|██████████| 5/5 [00:00<00:00, 52.62it/s, accuracy=1]"
     ]
    },
    {
     "name": "stdout",
     "output_type": "stream",
     "text": [
      "Epoch 16\n"
     ]
    },
    {
     "name": "stderr",
     "output_type": "stream",
     "text": [
      "\n",
      "Training: 100%|██████████| 15/15 [00:00<00:00, 30.31it/s, loss=1.29e-8]\n",
      "Validation: 100%|██████████| 5/5 [00:00<00:00, 51.60it/s, accuracy=1]"
     ]
    },
    {
     "name": "stdout",
     "output_type": "stream",
     "text": [
      "Epoch 17\n"
     ]
    },
    {
     "name": "stderr",
     "output_type": "stream",
     "text": [
      "\n",
      "Training: 100%|██████████| 15/15 [00:00<00:00, 30.50it/s, loss=1.53e-8]\n",
      "Validation: 100%|██████████| 5/5 [00:00<00:00, 52.02it/s, accuracy=1]\n"
     ]
    },
    {
     "name": "stdout",
     "output_type": "stream",
     "text": [
      "Epoch 18\n"
     ]
    },
    {
     "name": "stderr",
     "output_type": "stream",
     "text": [
      "Training: 100%|██████████| 15/15 [00:00<00:00, 30.41it/s, loss=4.97e-9]\n",
      "Validation: 100%|██████████| 5/5 [00:00<00:00, 52.11it/s, accuracy=1]"
     ]
    },
    {
     "name": "stdout",
     "output_type": "stream",
     "text": [
      "Epoch 19\n"
     ]
    },
    {
     "name": "stderr",
     "output_type": "stream",
     "text": [
      "\n",
      "Training: 100%|██████████| 15/15 [00:00<00:00, 29.76it/s, loss=2.19e-9]\n",
      "Validation: 100%|██████████| 5/5 [00:00<00:00, 52.08it/s, accuracy=1]"
     ]
    },
    {
     "name": "stdout",
     "output_type": "stream",
     "text": [
      "Epoch 20\n"
     ]
    },
    {
     "name": "stderr",
     "output_type": "stream",
     "text": [
      "\n",
      "Training: 100%|██████████| 15/15 [00:00<00:00, 29.52it/s, loss=9.54e-9]\n",
      "Validation: 100%|██████████| 5/5 [00:00<00:00, 50.26it/s, accuracy=1]"
     ]
    },
    {
     "name": "stdout",
     "output_type": "stream",
     "text": [
      "Epoch 21\n"
     ]
    },
    {
     "name": "stderr",
     "output_type": "stream",
     "text": [
      "\n",
      "Training: 100%|██████████| 15/15 [00:00<00:00, 28.78it/s, loss=1.61e-8]\n",
      "Validation: 100%|██████████| 5/5 [00:00<00:00, 48.34it/s, accuracy=1]"
     ]
    },
    {
     "name": "stdout",
     "output_type": "stream",
     "text": [
      "Epoch 22\n"
     ]
    },
    {
     "name": "stderr",
     "output_type": "stream",
     "text": [
      "\n",
      "Training: 100%|██████████| 15/15 [00:00<00:00, 30.04it/s, loss=2.98e-9]\n",
      "Validation: 100%|██████████| 5/5 [00:00<00:00, 49.42it/s, accuracy=1]"
     ]
    },
    {
     "name": "stdout",
     "output_type": "stream",
     "text": [
      "Epoch 23\n"
     ]
    },
    {
     "name": "stderr",
     "output_type": "stream",
     "text": [
      "\n",
      "Training: 100%|██████████| 15/15 [00:00<00:00, 30.27it/s, loss=8.74e-9]\n",
      "Validation: 100%|██████████| 5/5 [00:00<00:00, 50.27it/s, accuracy=1]\n"
     ]
    },
    {
     "name": "stdout",
     "output_type": "stream",
     "text": [
      "Epoch 24\n"
     ]
    },
    {
     "name": "stderr",
     "output_type": "stream",
     "text": [
      "Training: 100%|██████████| 15/15 [00:00<00:00, 30.51it/s, loss=1.19e-8]\n",
      "Validation: 100%|██████████| 5/5 [00:00<00:00, 51.73it/s, accuracy=1]"
     ]
    },
    {
     "name": "stdout",
     "output_type": "stream",
     "text": [
      "Epoch 25\n"
     ]
    },
    {
     "name": "stderr",
     "output_type": "stream",
     "text": [
      "\n",
      "Training: 100%|██████████| 15/15 [00:00<00:00, 30.24it/s, loss=1.25e-8]\n",
      "Validation: 100%|██████████| 5/5 [00:00<00:00, 49.50it/s, accuracy=1]"
     ]
    },
    {
     "name": "stdout",
     "output_type": "stream",
     "text": [
      "Epoch 26\n"
     ]
    },
    {
     "name": "stderr",
     "output_type": "stream",
     "text": [
      "\n",
      "Training: 100%|██████████| 15/15 [00:00<00:00, 29.70it/s, loss=1.11e-8]\n",
      "Validation: 100%|██████████| 5/5 [00:00<00:00, 50.74it/s, accuracy=1]"
     ]
    },
    {
     "name": "stdout",
     "output_type": "stream",
     "text": [
      "Epoch 27\n"
     ]
    },
    {
     "name": "stderr",
     "output_type": "stream",
     "text": [
      "\n",
      "Training: 100%|██████████| 15/15 [00:00<00:00, 29.47it/s, loss=6.76e-9]\n",
      "Validation: 100%|██████████| 5/5 [00:00<00:00, 55.17it/s, accuracy=1]"
     ]
    },
    {
     "name": "stdout",
     "output_type": "stream",
     "text": [
      "Epoch 28\n"
     ]
    },
    {
     "name": "stderr",
     "output_type": "stream",
     "text": [
      "\n",
      "Training: 100%|██████████| 15/15 [00:00<00:00, 29.25it/s, loss=9.54e-9]\n",
      "Validation: 100%|██████████| 5/5 [00:00<00:00, 49.50it/s, accuracy=1]"
     ]
    },
    {
     "name": "stdout",
     "output_type": "stream",
     "text": [
      "Epoch 29\n"
     ]
    },
    {
     "name": "stderr",
     "output_type": "stream",
     "text": [
      "\n",
      "Training: 100%|██████████| 15/15 [00:00<00:00, 30.87it/s, loss=6.16e-9]\n",
      "Validation: 100%|██████████| 5/5 [00:00<00:00, 50.91it/s, accuracy=1]"
     ]
    },
    {
     "name": "stdout",
     "output_type": "stream",
     "text": [
      "Epoch 30\n"
     ]
    },
    {
     "name": "stderr",
     "output_type": "stream",
     "text": [
      "\n",
      "Training: 100%|██████████| 15/15 [00:00<00:00, 31.00it/s, loss=2.19e-9]\n",
      "Validation: 100%|██████████| 5/5 [00:00<00:00, 50.85it/s, accuracy=1]"
     ]
    },
    {
     "name": "stdout",
     "output_type": "stream",
     "text": [
      "Epoch 31\n"
     ]
    },
    {
     "name": "stderr",
     "output_type": "stream",
     "text": [
      "\n",
      "Training: 100%|██████████| 15/15 [00:00<00:00, 29.92it/s, loss=5.76e-9]\n",
      "Validation: 100%|██████████| 5/5 [00:00<00:00, 46.02it/s, accuracy=1]"
     ]
    },
    {
     "name": "stdout",
     "output_type": "stream",
     "text": [
      "Epoch 32\n"
     ]
    },
    {
     "name": "stderr",
     "output_type": "stream",
     "text": [
      "\n",
      "Training: 100%|██████████| 15/15 [00:00<00:00, 30.28it/s, loss=7.35e-9]\n",
      "Validation: 100%|██████████| 5/5 [00:00<00:00, 50.46it/s, accuracy=1]"
     ]
    },
    {
     "name": "stdout",
     "output_type": "stream",
     "text": [
      "Epoch 33\n"
     ]
    },
    {
     "name": "stderr",
     "output_type": "stream",
     "text": [
      "\n",
      "Training: 100%|██████████| 15/15 [00:00<00:00, 29.90it/s, loss=1.01e-8]\n",
      "Validation: 100%|██████████| 5/5 [00:00<00:00, 45.63it/s, accuracy=1]"
     ]
    },
    {
     "name": "stdout",
     "output_type": "stream",
     "text": [
      "Epoch 34\n"
     ]
    },
    {
     "name": "stderr",
     "output_type": "stream",
     "text": [
      "\n",
      "Training: 100%|██████████| 15/15 [00:00<00:00, 29.14it/s, loss=1.57e-8]\n",
      "Validation: 100%|██████████| 5/5 [00:00<00:00, 51.17it/s, accuracy=1]"
     ]
    },
    {
     "name": "stdout",
     "output_type": "stream",
     "text": [
      "Epoch 35\n"
     ]
    },
    {
     "name": "stderr",
     "output_type": "stream",
     "text": [
      "\n",
      "Training: 100%|██████████| 15/15 [00:00<00:00, 30.35it/s, loss=1.03e-8]\n",
      "Validation: 100%|██████████| 5/5 [00:00<00:00, 48.09it/s, accuracy=1]"
     ]
    },
    {
     "name": "stdout",
     "output_type": "stream",
     "text": [
      "Epoch 36\n"
     ]
    },
    {
     "name": "stderr",
     "output_type": "stream",
     "text": [
      "\n",
      "Training: 100%|██████████| 15/15 [00:00<00:00, 30.51it/s, loss=1.41e-8]\n",
      "Validation: 100%|██████████| 5/5 [00:00<00:00, 53.67it/s, accuracy=1]"
     ]
    },
    {
     "name": "stdout",
     "output_type": "stream",
     "text": [
      "Epoch 37\n"
     ]
    },
    {
     "name": "stderr",
     "output_type": "stream",
     "text": [
      "\n",
      "Training: 100%|██████████| 15/15 [00:00<00:00, 30.45it/s, loss=9.14e-9]\n",
      "Validation: 100%|██████████| 5/5 [00:00<00:00, 50.80it/s, accuracy=1]"
     ]
    },
    {
     "name": "stdout",
     "output_type": "stream",
     "text": [
      "Epoch 38\n"
     ]
    },
    {
     "name": "stderr",
     "output_type": "stream",
     "text": [
      "\n",
      "Training: 100%|██████████| 15/15 [00:00<00:00, 29.72it/s, loss=1.05e-8]\n",
      "Validation: 100%|██████████| 5/5 [00:00<00:00, 50.28it/s, accuracy=1]"
     ]
    },
    {
     "name": "stdout",
     "output_type": "stream",
     "text": [
      "Epoch 39\n"
     ]
    },
    {
     "name": "stderr",
     "output_type": "stream",
     "text": [
      "\n",
      "Training: 100%|██████████| 15/15 [00:00<00:00, 30.00it/s, loss=9.34e-9]\n",
      "Validation: 100%|██████████| 5/5 [00:00<00:00, 48.72it/s, accuracy=1]"
     ]
    },
    {
     "name": "stdout",
     "output_type": "stream",
     "text": [
      "Epoch 40\n"
     ]
    },
    {
     "name": "stderr",
     "output_type": "stream",
     "text": [
      "\n",
      "Training: 100%|██████████| 15/15 [00:00<00:00, 28.64it/s, loss=5.17e-9]\n",
      "Validation: 100%|██████████| 5/5 [00:00<00:00, 40.82it/s, accuracy=1]"
     ]
    },
    {
     "name": "stdout",
     "output_type": "stream",
     "text": [
      "Epoch 41\n"
     ]
    },
    {
     "name": "stderr",
     "output_type": "stream",
     "text": [
      "\n",
      "Training: 100%|██████████| 15/15 [00:00<00:00, 28.32it/s, loss=8.54e-9]\n",
      "Validation: 100%|██████████| 5/5 [00:00<00:00, 50.44it/s, accuracy=1]"
     ]
    },
    {
     "name": "stdout",
     "output_type": "stream",
     "text": [
      "Epoch 42\n"
     ]
    },
    {
     "name": "stderr",
     "output_type": "stream",
     "text": [
      "\n",
      "Training: 100%|██████████| 15/15 [00:00<00:00, 30.00it/s, loss=1.87e-8]\n",
      "Validation: 100%|██████████| 5/5 [00:00<00:00, 52.16it/s, accuracy=1]"
     ]
    },
    {
     "name": "stdout",
     "output_type": "stream",
     "text": [
      "Epoch 43\n"
     ]
    },
    {
     "name": "stderr",
     "output_type": "stream",
     "text": [
      "\n",
      "Training: 100%|██████████| 15/15 [00:00<00:00, 29.95it/s, loss=1.51e-8]\n",
      "Validation: 100%|██████████| 5/5 [00:00<00:00, 49.96it/s, accuracy=1]"
     ]
    },
    {
     "name": "stdout",
     "output_type": "stream",
     "text": [
      "Epoch 44\n"
     ]
    },
    {
     "name": "stderr",
     "output_type": "stream",
     "text": [
      "\n",
      "Training: 100%|██████████| 15/15 [00:00<00:00, 30.15it/s, loss=4.77e-9]\n",
      "Validation: 100%|██████████| 5/5 [00:00<00:00, 45.95it/s, accuracy=1]"
     ]
    },
    {
     "name": "stdout",
     "output_type": "stream",
     "text": [
      "Epoch 45\n"
     ]
    },
    {
     "name": "stderr",
     "output_type": "stream",
     "text": [
      "\n",
      "Training: 100%|██████████| 15/15 [00:00<00:00, 28.78it/s, loss=1.33e-8]\n",
      "Validation: 100%|██████████| 5/5 [00:00<00:00, 52.67it/s, accuracy=1]"
     ]
    },
    {
     "name": "stdout",
     "output_type": "stream",
     "text": [
      "Epoch 46\n"
     ]
    },
    {
     "name": "stderr",
     "output_type": "stream",
     "text": [
      "\n",
      "Training: 100%|██████████| 15/15 [00:00<00:00, 30.30it/s, loss=1.63e-8]\n",
      "Validation: 100%|██████████| 5/5 [00:00<00:00, 51.23it/s, accuracy=1]\n"
     ]
    },
    {
     "name": "stdout",
     "output_type": "stream",
     "text": [
      "Epoch 47\n"
     ]
    },
    {
     "name": "stderr",
     "output_type": "stream",
     "text": [
      "Training: 100%|██████████| 15/15 [00:00<00:00, 30.23it/s, loss=6.36e-9]\n",
      "Validation: 100%|██████████| 5/5 [00:00<00:00, 50.16it/s, accuracy=1]"
     ]
    },
    {
     "name": "stdout",
     "output_type": "stream",
     "text": [
      "Epoch 48\n"
     ]
    },
    {
     "name": "stderr",
     "output_type": "stream",
     "text": [
      "\n",
      "Training: 100%|██████████| 15/15 [00:00<00:00, 30.18it/s, loss=5.96e-9]\n",
      "Validation: 100%|██████████| 5/5 [00:00<00:00, 52.35it/s, accuracy=1]"
     ]
    },
    {
     "name": "stdout",
     "output_type": "stream",
     "text": [
      "Epoch 49\n"
     ]
    },
    {
     "name": "stderr",
     "output_type": "stream",
     "text": [
      "\n",
      "Training: 100%|██████████| 15/15 [00:00<00:00, 29.33it/s, loss=1.03e-8]\n",
      "Validation: 100%|██████████| 5/5 [00:00<00:00, 51.72it/s, accuracy=1]"
     ]
    },
    {
     "name": "stdout",
     "output_type": "stream",
     "text": [
      "Epoch 50\n"
     ]
    },
    {
     "name": "stderr",
     "output_type": "stream",
     "text": [
      "\n",
      "Training: 100%|██████████| 15/15 [00:00<00:00, 29.71it/s, loss=8.94e-9]\n",
      "Validation: 100%|██████████| 5/5 [00:00<00:00, 48.41it/s, accuracy=1]"
     ]
    },
    {
     "name": "stdout",
     "output_type": "stream",
     "text": [
      "Epoch 51\n"
     ]
    },
    {
     "name": "stderr",
     "output_type": "stream",
     "text": [
      "\n",
      "Training: 100%|██████████| 15/15 [00:00<00:00, 29.68it/s, loss=1.65e-8]\n",
      "Validation: 100%|██████████| 5/5 [00:00<00:00, 50.50it/s, accuracy=1]"
     ]
    },
    {
     "name": "stdout",
     "output_type": "stream",
     "text": [
      "Epoch 52\n"
     ]
    },
    {
     "name": "stderr",
     "output_type": "stream",
     "text": [
      "\n",
      "Training: 100%|██████████| 15/15 [00:00<00:00, 30.34it/s, loss=6.95e-9]\n",
      "Validation: 100%|██████████| 5/5 [00:00<00:00, 52.60it/s, accuracy=1]"
     ]
    },
    {
     "name": "stdout",
     "output_type": "stream",
     "text": [
      "Epoch 53\n"
     ]
    },
    {
     "name": "stderr",
     "output_type": "stream",
     "text": [
      "\n",
      "Training: 100%|██████████| 15/15 [00:00<00:00, 30.04it/s, loss=6.95e-9]\n",
      "Validation: 100%|██████████| 5/5 [00:00<00:00, 52.13it/s, accuracy=1]\n"
     ]
    },
    {
     "name": "stdout",
     "output_type": "stream",
     "text": [
      "Epoch 54\n"
     ]
    },
    {
     "name": "stderr",
     "output_type": "stream",
     "text": [
      "Training: 100%|██████████| 15/15 [00:00<00:00, 30.03it/s, loss=2.46e-8]\n",
      "Validation: 100%|██████████| 5/5 [00:00<00:00, 50.86it/s, accuracy=1]\n"
     ]
    },
    {
     "name": "stdout",
     "output_type": "stream",
     "text": [
      "Epoch 55\n"
     ]
    },
    {
     "name": "stderr",
     "output_type": "stream",
     "text": [
      "Training: 100%|██████████| 15/15 [00:00<00:00, 30.20it/s, loss=2.19e-8]\n",
      "Validation: 100%|██████████| 5/5 [00:00<00:00, 49.10it/s, accuracy=1]"
     ]
    },
    {
     "name": "stdout",
     "output_type": "stream",
     "text": [
      "Epoch 56\n"
     ]
    },
    {
     "name": "stderr",
     "output_type": "stream",
     "text": [
      "\n",
      "Training: 100%|██████████| 15/15 [00:00<00:00, 29.48it/s, loss=2.38e-8]\n",
      "Validation: 100%|██████████| 5/5 [00:00<00:00, 52.78it/s, accuracy=1]"
     ]
    },
    {
     "name": "stdout",
     "output_type": "stream",
     "text": [
      "Epoch 57\n"
     ]
    },
    {
     "name": "stderr",
     "output_type": "stream",
     "text": [
      "\n",
      "Training: 100%|██████████| 15/15 [00:00<00:00, 28.81it/s, loss=2.03e-8]\n",
      "Validation: 100%|██████████| 5/5 [00:00<00:00, 48.80it/s, accuracy=1]"
     ]
    },
    {
     "name": "stdout",
     "output_type": "stream",
     "text": [
      "Epoch 58\n"
     ]
    },
    {
     "name": "stderr",
     "output_type": "stream",
     "text": [
      "\n",
      "Training: 100%|██████████| 15/15 [00:00<00:00, 29.95it/s, loss=4.77e-9]\n",
      "Validation: 100%|██████████| 5/5 [00:00<00:00, 54.59it/s, accuracy=1]"
     ]
    },
    {
     "name": "stdout",
     "output_type": "stream",
     "text": [
      "Epoch 59\n"
     ]
    },
    {
     "name": "stderr",
     "output_type": "stream",
     "text": [
      "\n",
      "Training: 100%|██████████| 15/15 [00:00<00:00, 30.17it/s, loss=1.51e-8]\n",
      "Validation: 100%|██████████| 5/5 [00:00<00:00, 50.17it/s, accuracy=1]"
     ]
    },
    {
     "name": "stdout",
     "output_type": "stream",
     "text": [
      "Epoch 60\n"
     ]
    },
    {
     "name": "stderr",
     "output_type": "stream",
     "text": [
      "\n",
      "Training: 100%|██████████| 15/15 [00:00<00:00, 30.87it/s, loss=1.07e-8]\n",
      "Validation: 100%|██████████| 5/5 [00:00<00:00, 47.86it/s, accuracy=1]"
     ]
    },
    {
     "name": "stdout",
     "output_type": "stream",
     "text": [
      "Epoch 61\n"
     ]
    },
    {
     "name": "stderr",
     "output_type": "stream",
     "text": [
      "\n",
      "Training: 100%|██████████| 15/15 [00:00<00:00, 29.71it/s, loss=1.11e-8]\n",
      "Validation: 100%|██████████| 5/5 [00:00<00:00, 49.40it/s, accuracy=1]"
     ]
    },
    {
     "name": "stdout",
     "output_type": "stream",
     "text": [
      "Epoch 62\n"
     ]
    },
    {
     "name": "stderr",
     "output_type": "stream",
     "text": [
      "\n",
      "Training: 100%|██████████| 15/15 [00:00<00:00, 29.68it/s, loss=2.07e-8]\n",
      "Validation: 100%|██████████| 5/5 [00:00<00:00, 53.80it/s, accuracy=1]"
     ]
    },
    {
     "name": "stdout",
     "output_type": "stream",
     "text": [
      "Epoch 63\n"
     ]
    },
    {
     "name": "stderr",
     "output_type": "stream",
     "text": [
      "\n",
      "Training: 100%|██████████| 15/15 [00:00<00:00, 29.60it/s, loss=2.62e-8]\n",
      "Validation: 100%|██████████| 5/5 [00:00<00:00, 50.39it/s, accuracy=1]"
     ]
    },
    {
     "name": "stdout",
     "output_type": "stream",
     "text": [
      "Epoch 64\n"
     ]
    },
    {
     "name": "stderr",
     "output_type": "stream",
     "text": [
      "\n",
      "Training: 100%|██████████| 15/15 [00:00<00:00, 30.00it/s, loss=1.39e-8]\n",
      "Validation: 100%|██████████| 5/5 [00:00<00:00, 50.25it/s, accuracy=1]\n"
     ]
    },
    {
     "name": "stdout",
     "output_type": "stream",
     "text": [
      "Epoch 65\n"
     ]
    },
    {
     "name": "stderr",
     "output_type": "stream",
     "text": [
      "Training: 100%|██████████| 15/15 [00:00<00:00, 30.37it/s, loss=1.51e-8]\n",
      "Validation: 100%|██████████| 5/5 [00:00<00:00, 52.98it/s, accuracy=1]\n"
     ]
    },
    {
     "name": "stdout",
     "output_type": "stream",
     "text": [
      "Epoch 66\n"
     ]
    },
    {
     "name": "stderr",
     "output_type": "stream",
     "text": [
      "Training: 100%|██████████| 15/15 [00:00<00:00, 29.19it/s, loss=2.42e-8]\n",
      "Validation: 100%|██████████| 5/5 [00:00<00:00, 50.59it/s, accuracy=1]"
     ]
    },
    {
     "name": "stdout",
     "output_type": "stream",
     "text": [
      "Epoch 67\n"
     ]
    },
    {
     "name": "stderr",
     "output_type": "stream",
     "text": [
      "\n",
      "Training: 100%|██████████| 15/15 [00:00<00:00, 29.48it/s, loss=2.01e-8]\n",
      "Validation: 100%|██████████| 5/5 [00:00<00:00, 48.22it/s, accuracy=1]"
     ]
    },
    {
     "name": "stdout",
     "output_type": "stream",
     "text": [
      "Epoch 68\n"
     ]
    },
    {
     "name": "stderr",
     "output_type": "stream",
     "text": [
      "\n",
      "Training: 100%|██████████| 15/15 [00:00<00:00, 29.71it/s, loss=7.55e-9]\n",
      "Validation: 100%|██████████| 5/5 [00:00<00:00, 50.08it/s, accuracy=1]"
     ]
    },
    {
     "name": "stdout",
     "output_type": "stream",
     "text": [
      "Epoch 69\n"
     ]
    },
    {
     "name": "stderr",
     "output_type": "stream",
     "text": [
      "\n",
      "Training: 100%|██████████| 15/15 [00:00<00:00, 29.42it/s, loss=2.42e-8]\n",
      "Validation: 100%|██████████| 5/5 [00:00<00:00, 46.11it/s, accuracy=1]"
     ]
    },
    {
     "name": "stdout",
     "output_type": "stream",
     "text": [
      "Epoch 70\n"
     ]
    },
    {
     "name": "stderr",
     "output_type": "stream",
     "text": [
      "\n",
      "Training: 100%|██████████| 15/15 [00:00<00:00, 29.97it/s, loss=1.39e-8]\n",
      "Validation: 100%|██████████| 5/5 [00:00<00:00, 53.58it/s, accuracy=1]"
     ]
    },
    {
     "name": "stdout",
     "output_type": "stream",
     "text": [
      "Epoch 71\n"
     ]
    },
    {
     "name": "stderr",
     "output_type": "stream",
     "text": [
      "\n",
      "Training: 100%|██████████| 15/15 [00:00<00:00, 29.90it/s, loss=1.27e-8]\n",
      "Validation: 100%|██████████| 5/5 [00:00<00:00, 50.25it/s, accuracy=1]"
     ]
    },
    {
     "name": "stdout",
     "output_type": "stream",
     "text": [
      "Epoch 72\n"
     ]
    },
    {
     "name": "stderr",
     "output_type": "stream",
     "text": [
      "\n",
      "Training: 100%|██████████| 15/15 [00:00<00:00, 29.93it/s, loss=8.94e-9]\n",
      "Validation: 100%|██████████| 5/5 [00:00<00:00, 49.91it/s, accuracy=1]"
     ]
    },
    {
     "name": "stdout",
     "output_type": "stream",
     "text": [
      "Epoch 73\n"
     ]
    },
    {
     "name": "stderr",
     "output_type": "stream",
     "text": [
      "\n",
      "Training: 100%|██████████| 15/15 [00:00<00:00, 29.90it/s, loss=1.57e-8]\n",
      "Validation: 100%|██████████| 5/5 [00:00<00:00, 49.28it/s, accuracy=1]"
     ]
    },
    {
     "name": "stdout",
     "output_type": "stream",
     "text": [
      "Epoch 74\n"
     ]
    },
    {
     "name": "stderr",
     "output_type": "stream",
     "text": [
      "\n",
      "Training: 100%|██████████| 15/15 [00:00<00:00, 29.33it/s, loss=1.73e-8]\n",
      "Validation: 100%|██████████| 5/5 [00:00<00:00, 53.29it/s, accuracy=1]"
     ]
    },
    {
     "name": "stdout",
     "output_type": "stream",
     "text": [
      "Epoch 75\n"
     ]
    },
    {
     "name": "stderr",
     "output_type": "stream",
     "text": [
      "\n",
      "Training: 100%|██████████| 15/15 [00:00<00:00, 29.21it/s, loss=2.48e-8]\n",
      "Validation: 100%|██████████| 5/5 [00:00<00:00, 49.73it/s, accuracy=1]"
     ]
    },
    {
     "name": "stdout",
     "output_type": "stream",
     "text": [
      "Epoch 76\n"
     ]
    },
    {
     "name": "stderr",
     "output_type": "stream",
     "text": [
      "\n",
      "Training: 100%|██████████| 15/15 [00:00<00:00, 29.46it/s, loss=1.53e-8]\n",
      "Validation: 100%|██████████| 5/5 [00:00<00:00, 52.11it/s, accuracy=1]"
     ]
    },
    {
     "name": "stdout",
     "output_type": "stream",
     "text": [
      "Epoch 77\n"
     ]
    },
    {
     "name": "stderr",
     "output_type": "stream",
     "text": [
      "\n",
      "Training: 100%|██████████| 15/15 [00:00<00:00, 30.02it/s, loss=2.05e-8]\n",
      "Validation: 100%|██████████| 5/5 [00:00<00:00, 52.97it/s, accuracy=1]"
     ]
    },
    {
     "name": "stdout",
     "output_type": "stream",
     "text": [
      "Epoch 78\n"
     ]
    },
    {
     "name": "stderr",
     "output_type": "stream",
     "text": [
      "\n",
      "Training: 100%|██████████| 15/15 [00:00<00:00, 27.64it/s, loss=1.59e-8]\n",
      "Validation: 100%|██████████| 5/5 [00:00<00:00, 39.36it/s, accuracy=1]"
     ]
    },
    {
     "name": "stdout",
     "output_type": "stream",
     "text": [
      "Epoch 79\n"
     ]
    },
    {
     "name": "stderr",
     "output_type": "stream",
     "text": [
      "\n",
      "Training: 100%|██████████| 15/15 [00:00<00:00, 26.93it/s, loss=1.69e-8]\n",
      "Validation: 100%|██████████| 5/5 [00:00<00:00, 40.33it/s, accuracy=1]"
     ]
    },
    {
     "name": "stdout",
     "output_type": "stream",
     "text": [
      "Epoch 80\n"
     ]
    },
    {
     "name": "stderr",
     "output_type": "stream",
     "text": [
      "\n",
      "Training: 100%|██████████| 15/15 [00:00<00:00, 28.86it/s, loss=1.59e-8]\n",
      "Validation: 100%|██████████| 5/5 [00:00<00:00, 46.94it/s, accuracy=1]"
     ]
    },
    {
     "name": "stdout",
     "output_type": "stream",
     "text": [
      "Epoch 81\n"
     ]
    },
    {
     "name": "stderr",
     "output_type": "stream",
     "text": [
      "\n",
      "Training: 100%|██████████| 15/15 [00:00<00:00, 28.87it/s, loss=1.77e-8]\n",
      "Validation: 100%|██████████| 5/5 [00:00<00:00, 50.49it/s, accuracy=1]"
     ]
    },
    {
     "name": "stdout",
     "output_type": "stream",
     "text": [
      "Epoch 82\n"
     ]
    },
    {
     "name": "stderr",
     "output_type": "stream",
     "text": [
      "\n",
      "Training: 100%|██████████| 15/15 [00:00<00:00, 28.90it/s, loss=1.29e-8]\n",
      "Validation: 100%|██████████| 5/5 [00:00<00:00, 53.49it/s, accuracy=1]"
     ]
    },
    {
     "name": "stdout",
     "output_type": "stream",
     "text": [
      "Epoch 83\n"
     ]
    },
    {
     "name": "stderr",
     "output_type": "stream",
     "text": [
      "\n",
      "Training: 100%|██████████| 15/15 [00:00<00:00, 29.77it/s, loss=1.95e-8]\n",
      "Validation: 100%|██████████| 5/5 [00:00<00:00, 51.25it/s, accuracy=1]"
     ]
    },
    {
     "name": "stdout",
     "output_type": "stream",
     "text": [
      "Epoch 84\n"
     ]
    },
    {
     "name": "stderr",
     "output_type": "stream",
     "text": [
      "\n",
      "Training: 100%|██████████| 15/15 [00:00<00:00, 29.41it/s, loss=1.43e-8]\n",
      "Validation: 100%|██████████| 5/5 [00:00<00:00, 50.98it/s, accuracy=1]"
     ]
    },
    {
     "name": "stdout",
     "output_type": "stream",
     "text": [
      "Epoch 85\n"
     ]
    },
    {
     "name": "stderr",
     "output_type": "stream",
     "text": [
      "\n",
      "Training: 100%|██████████| 15/15 [00:00<00:00, 29.57it/s, loss=1.47e-8]\n",
      "Validation: 100%|██████████| 5/5 [00:00<00:00, 49.72it/s, accuracy=1]"
     ]
    },
    {
     "name": "stdout",
     "output_type": "stream",
     "text": [
      "Epoch 86\n"
     ]
    },
    {
     "name": "stderr",
     "output_type": "stream",
     "text": [
      "\n",
      "Training: 100%|██████████| 15/15 [00:00<00:00, 29.71it/s, loss=2.92e-8]\n",
      "Validation: 100%|██████████| 5/5 [00:00<00:00, 48.26it/s, accuracy=1]"
     ]
    },
    {
     "name": "stdout",
     "output_type": "stream",
     "text": [
      "Epoch 87\n"
     ]
    },
    {
     "name": "stderr",
     "output_type": "stream",
     "text": [
      "\n",
      "Training: 100%|██████████| 15/15 [00:00<00:00, 29.19it/s, loss=1.79e-8]\n",
      "Validation: 100%|██████████| 5/5 [00:00<00:00, 53.47it/s, accuracy=1]"
     ]
    },
    {
     "name": "stdout",
     "output_type": "stream",
     "text": [
      "Epoch 88\n"
     ]
    },
    {
     "name": "stderr",
     "output_type": "stream",
     "text": [
      "\n",
      "Training: 100%|██████████| 15/15 [00:00<00:00, 29.47it/s, loss=1.95e-8]\n",
      "Validation: 100%|██████████| 5/5 [00:00<00:00, 53.30it/s, accuracy=1]\n"
     ]
    },
    {
     "name": "stdout",
     "output_type": "stream",
     "text": [
      "Epoch 89\n"
     ]
    },
    {
     "name": "stderr",
     "output_type": "stream",
     "text": [
      "Training: 100%|██████████| 15/15 [00:00<00:00, 29.74it/s, loss=1.03e-8]\n",
      "Validation: 100%|██████████| 5/5 [00:00<00:00, 51.24it/s, accuracy=1]"
     ]
    },
    {
     "name": "stdout",
     "output_type": "stream",
     "text": [
      "Epoch 90\n"
     ]
    },
    {
     "name": "stderr",
     "output_type": "stream",
     "text": [
      "\n",
      "Training: 100%|██████████| 15/15 [00:00<00:00, 29.88it/s, loss=2.01e-8]\n",
      "Validation: 100%|██████████| 5/5 [00:00<00:00, 53.12it/s, accuracy=1]"
     ]
    },
    {
     "name": "stdout",
     "output_type": "stream",
     "text": [
      "Epoch 91\n"
     ]
    },
    {
     "name": "stderr",
     "output_type": "stream",
     "text": [
      "\n",
      "Training: 100%|██████████| 15/15 [00:00<00:00, 28.76it/s, loss=2.52e-8]\n",
      "Validation: 100%|██████████| 5/5 [00:00<00:00, 48.48it/s, accuracy=1]"
     ]
    },
    {
     "name": "stdout",
     "output_type": "stream",
     "text": [
      "Epoch 92\n"
     ]
    },
    {
     "name": "stderr",
     "output_type": "stream",
     "text": [
      "\n",
      "Training: 100%|██████████| 15/15 [00:00<00:00, 28.93it/s, loss=1.37e-8]\n",
      "Validation: 100%|██████████| 5/5 [00:00<00:00, 45.46it/s, accuracy=1]"
     ]
    },
    {
     "name": "stdout",
     "output_type": "stream",
     "text": [
      "Epoch 93\n"
     ]
    },
    {
     "name": "stderr",
     "output_type": "stream",
     "text": [
      "\n",
      "Training: 100%|██████████| 15/15 [00:00<00:00, 27.83it/s, loss=2.64e-8]\n",
      "Validation: 100%|██████████| 5/5 [00:00<00:00, 49.38it/s, accuracy=1]"
     ]
    },
    {
     "name": "stdout",
     "output_type": "stream",
     "text": [
      "Epoch 94\n"
     ]
    },
    {
     "name": "stderr",
     "output_type": "stream",
     "text": [
      "\n",
      "Training: 100%|██████████| 15/15 [00:00<00:00, 29.12it/s, loss=1.77e-8]\n",
      "Validation: 100%|██████████| 5/5 [00:00<00:00, 49.72it/s, accuracy=1]"
     ]
    },
    {
     "name": "stdout",
     "output_type": "stream",
     "text": [
      "Epoch 95\n"
     ]
    },
    {
     "name": "stderr",
     "output_type": "stream",
     "text": [
      "\n",
      "Training: 100%|██████████| 15/15 [00:00<00:00, 29.69it/s, loss=1.23e-8]\n",
      "Validation: 100%|██████████| 5/5 [00:00<00:00, 49.56it/s, accuracy=1]"
     ]
    },
    {
     "name": "stdout",
     "output_type": "stream",
     "text": [
      "Epoch 96\n"
     ]
    },
    {
     "name": "stderr",
     "output_type": "stream",
     "text": [
      "\n",
      "Training: 100%|██████████| 15/15 [00:00<00:00, 29.81it/s, loss=2.82e-8]\n",
      "Validation: 100%|██████████| 5/5 [00:00<00:00, 51.55it/s, accuracy=1]"
     ]
    },
    {
     "name": "stdout",
     "output_type": "stream",
     "text": [
      "Epoch 97\n"
     ]
    },
    {
     "name": "stderr",
     "output_type": "stream",
     "text": [
      "\n",
      "Training: 100%|██████████| 15/15 [00:00<00:00, 29.37it/s, loss=6.95e-9]\n",
      "Validation: 100%|██████████| 5/5 [00:00<00:00, 50.51it/s, accuracy=1]"
     ]
    },
    {
     "name": "stdout",
     "output_type": "stream",
     "text": [
      "Epoch 98\n"
     ]
    },
    {
     "name": "stderr",
     "output_type": "stream",
     "text": [
      "\n",
      "Training: 100%|██████████| 15/15 [00:00<00:00, 29.55it/s, loss=2.15e-8]\n",
      "Validation: 100%|██████████| 5/5 [00:00<00:00, 50.23it/s, accuracy=1]"
     ]
    },
    {
     "name": "stdout",
     "output_type": "stream",
     "text": [
      "Epoch 99\n"
     ]
    },
    {
     "name": "stderr",
     "output_type": "stream",
     "text": [
      "\n",
      "Training: 100%|██████████| 15/15 [00:00<00:00, 29.23it/s, loss=1.21e-8]\n",
      "Validation: 100%|██████████| 5/5 [00:00<00:00, 51.33it/s, accuracy=1]"
     ]
    },
    {
     "name": "stdout",
     "output_type": "stream",
     "text": [
      "Epoch 100\n"
     ]
    },
    {
     "name": "stderr",
     "output_type": "stream",
     "text": [
      "\n",
      "Training: 100%|██████████| 15/15 [00:00<00:00, 30.24it/s, loss=1.63e-8]\n",
      "Validation: 100%|██████████| 5/5 [00:00<00:00, 51.72it/s, accuracy=1]\n"
     ]
    },
    {
     "name": "stdout",
     "output_type": "stream",
     "text": [
      "Epoch 101\n"
     ]
    },
    {
     "name": "stderr",
     "output_type": "stream",
     "text": [
      "Training: 100%|██████████| 15/15 [00:00<00:00, 29.53it/s, loss=1.05e-8]\n",
      "Validation: 100%|██████████| 5/5 [00:00<00:00, 52.61it/s, accuracy=1]"
     ]
    },
    {
     "name": "stdout",
     "output_type": "stream",
     "text": [
      "Epoch 102\n"
     ]
    },
    {
     "name": "stderr",
     "output_type": "stream",
     "text": [
      "\n",
      "Training: 100%|██████████| 15/15 [00:00<00:00, 28.64it/s, loss=1.29e-8]\n",
      "Validation: 100%|██████████| 5/5 [00:00<00:00, 53.64it/s, accuracy=1]"
     ]
    },
    {
     "name": "stdout",
     "output_type": "stream",
     "text": [
      "Epoch 103\n"
     ]
    },
    {
     "name": "stderr",
     "output_type": "stream",
     "text": [
      "\n",
      "Training: 100%|██████████| 15/15 [00:00<00:00, 28.76it/s, loss=1.73e-8]\n",
      "Validation: 100%|██████████| 5/5 [00:00<00:00, 50.99it/s, accuracy=1]"
     ]
    },
    {
     "name": "stdout",
     "output_type": "stream",
     "text": [
      "Epoch 104\n"
     ]
    },
    {
     "name": "stderr",
     "output_type": "stream",
     "text": [
      "\n",
      "Training: 100%|██████████| 15/15 [00:00<00:00, 29.75it/s, loss=1.39e-8]\n",
      "Validation: 100%|██████████| 5/5 [00:00<00:00, 47.32it/s, accuracy=1]"
     ]
    },
    {
     "name": "stdout",
     "output_type": "stream",
     "text": [
      "Epoch 105\n"
     ]
    },
    {
     "name": "stderr",
     "output_type": "stream",
     "text": [
      "\n",
      "Training: 100%|██████████| 15/15 [00:00<00:00, 27.83it/s, loss=2.32e-8]\n",
      "Validation: 100%|██████████| 5/5 [00:00<00:00, 50.83it/s, accuracy=1]"
     ]
    },
    {
     "name": "stdout",
     "output_type": "stream",
     "text": [
      "Epoch 106\n"
     ]
    },
    {
     "name": "stderr",
     "output_type": "stream",
     "text": [
      "\n",
      "Training: 100%|██████████| 15/15 [00:00<00:00, 29.96it/s, loss=8.34e-9]\n",
      "Validation: 100%|██████████| 5/5 [00:00<00:00, 54.04it/s, accuracy=1]"
     ]
    },
    {
     "name": "stdout",
     "output_type": "stream",
     "text": [
      "Epoch 107\n"
     ]
    },
    {
     "name": "stderr",
     "output_type": "stream",
     "text": [
      "\n",
      "Training: 100%|██████████| 15/15 [00:00<00:00, 29.75it/s, loss=2.25e-8]\n",
      "Validation: 100%|██████████| 5/5 [00:00<00:00, 51.05it/s, accuracy=1]"
     ]
    },
    {
     "name": "stdout",
     "output_type": "stream",
     "text": [
      "Epoch 108\n"
     ]
    },
    {
     "name": "stderr",
     "output_type": "stream",
     "text": [
      "\n",
      "Training: 100%|██████████| 15/15 [00:00<00:00, 29.84it/s, loss=2.7e-8]\n",
      "Validation: 100%|██████████| 5/5 [00:00<00:00, 49.54it/s, accuracy=1]"
     ]
    },
    {
     "name": "stdout",
     "output_type": "stream",
     "text": [
      "Epoch 109\n"
     ]
    },
    {
     "name": "stderr",
     "output_type": "stream",
     "text": [
      "\n",
      "Training: 100%|██████████| 15/15 [00:00<00:00, 29.81it/s, loss=2.7e-8]\n",
      "Validation: 100%|██████████| 5/5 [00:00<00:00, 49.09it/s, accuracy=1]"
     ]
    },
    {
     "name": "stdout",
     "output_type": "stream",
     "text": [
      "Epoch 110\n"
     ]
    },
    {
     "name": "stderr",
     "output_type": "stream",
     "text": [
      "\n",
      "Training: 100%|██████████| 15/15 [00:00<00:00, 29.16it/s, loss=1.13e-8]\n",
      "Validation: 100%|██████████| 5/5 [00:00<00:00, 48.90it/s, accuracy=1]"
     ]
    },
    {
     "name": "stdout",
     "output_type": "stream",
     "text": [
      "Epoch 111\n"
     ]
    },
    {
     "name": "stderr",
     "output_type": "stream",
     "text": [
      "\n",
      "Training: 100%|██████████| 15/15 [00:00<00:00, 28.93it/s, loss=2.01e-8]\n",
      "Validation: 100%|██████████| 5/5 [00:00<00:00, 49.06it/s, accuracy=1]"
     ]
    },
    {
     "name": "stdout",
     "output_type": "stream",
     "text": [
      "Epoch 112\n"
     ]
    },
    {
     "name": "stderr",
     "output_type": "stream",
     "text": [
      "\n",
      "Training: 100%|██████████| 15/15 [00:00<00:00, 29.44it/s, loss=9.54e-9]\n",
      "Validation: 100%|██████████| 5/5 [00:00<00:00, 51.02it/s, accuracy=1]"
     ]
    },
    {
     "name": "stdout",
     "output_type": "stream",
     "text": [
      "Epoch 113\n"
     ]
    },
    {
     "name": "stderr",
     "output_type": "stream",
     "text": [
      "\n",
      "Training: 100%|██████████| 15/15 [00:00<00:00, 29.66it/s, loss=1.71e-8]\n",
      "Validation: 100%|██████████| 5/5 [00:00<00:00, 49.26it/s, accuracy=1]"
     ]
    },
    {
     "name": "stdout",
     "output_type": "stream",
     "text": [
      "Epoch 114\n"
     ]
    },
    {
     "name": "stderr",
     "output_type": "stream",
     "text": [
      "\n",
      "Training: 100%|██████████| 15/15 [00:00<00:00, 29.70it/s, loss=2.32e-8]\n",
      "Validation: 100%|██████████| 5/5 [00:00<00:00, 48.75it/s, accuracy=1]"
     ]
    },
    {
     "name": "stdout",
     "output_type": "stream",
     "text": [
      "Epoch 115\n"
     ]
    },
    {
     "name": "stderr",
     "output_type": "stream",
     "text": [
      "\n",
      "Training: 100%|██████████| 15/15 [00:00<00:00, 28.87it/s, loss=4.13e-8]\n",
      "Validation: 100%|██████████| 5/5 [00:00<00:00, 49.45it/s, accuracy=1]"
     ]
    },
    {
     "name": "stdout",
     "output_type": "stream",
     "text": [
      "Epoch 116\n"
     ]
    },
    {
     "name": "stderr",
     "output_type": "stream",
     "text": [
      "\n",
      "Training: 100%|██████████| 15/15 [00:00<00:00, 26.74it/s, loss=1.97e-8]\n",
      "Validation: 100%|██████████| 5/5 [00:00<00:00, 42.23it/s, accuracy=1]"
     ]
    },
    {
     "name": "stdout",
     "output_type": "stream",
     "text": [
      "Epoch 117\n"
     ]
    },
    {
     "name": "stderr",
     "output_type": "stream",
     "text": [
      "\n",
      "Training: 100%|██████████| 15/15 [00:00<00:00, 25.32it/s, loss=2.54e-8]\n",
      "Validation: 100%|██████████| 5/5 [00:00<00:00, 42.34it/s, accuracy=1]"
     ]
    },
    {
     "name": "stdout",
     "output_type": "stream",
     "text": [
      "Epoch 118\n"
     ]
    },
    {
     "name": "stderr",
     "output_type": "stream",
     "text": [
      "\n",
      "Training: 100%|██████████| 15/15 [00:00<00:00, 29.01it/s, loss=2.07e-8]\n",
      "Validation: 100%|██████████| 5/5 [00:00<00:00, 47.28it/s, accuracy=1]"
     ]
    },
    {
     "name": "stdout",
     "output_type": "stream",
     "text": [
      "Epoch 119\n"
     ]
    },
    {
     "name": "stderr",
     "output_type": "stream",
     "text": [
      "\n",
      "Training: 100%|██████████| 15/15 [00:00<00:00, 29.49it/s, loss=1.07e-8]\n",
      "Validation: 100%|██████████| 5/5 [00:00<00:00, 49.60it/s, accuracy=1]"
     ]
    },
    {
     "name": "stdout",
     "output_type": "stream",
     "text": [
      "Epoch 120\n"
     ]
    },
    {
     "name": "stderr",
     "output_type": "stream",
     "text": [
      "\n",
      "Training: 100%|██████████| 15/15 [00:00<00:00, 29.65it/s, loss=2.13e-8]\n",
      "Validation: 100%|██████████| 5/5 [00:00<00:00, 44.39it/s, accuracy=1]"
     ]
    },
    {
     "name": "stdout",
     "output_type": "stream",
     "text": [
      "Epoch 121\n"
     ]
    },
    {
     "name": "stderr",
     "output_type": "stream",
     "text": [
      "\n",
      "Training: 100%|██████████| 15/15 [00:00<00:00, 28.49it/s, loss=2.56e-8]\n",
      "Validation: 100%|██████████| 5/5 [00:00<00:00, 52.35it/s, accuracy=1]"
     ]
    },
    {
     "name": "stdout",
     "output_type": "stream",
     "text": [
      "Epoch 122\n"
     ]
    },
    {
     "name": "stderr",
     "output_type": "stream",
     "text": [
      "\n",
      "Training: 100%|██████████| 15/15 [00:00<00:00, 29.59it/s, loss=1.37e-8]\n",
      "Validation: 100%|██████████| 5/5 [00:00<00:00, 50.31it/s, accuracy=1]"
     ]
    },
    {
     "name": "stdout",
     "output_type": "stream",
     "text": [
      "Epoch 123\n"
     ]
    },
    {
     "name": "stderr",
     "output_type": "stream",
     "text": [
      "\n",
      "Training: 100%|██████████| 15/15 [00:00<00:00, 29.16it/s, loss=3.04e-8]\n",
      "Validation: 100%|██████████| 5/5 [00:00<00:00, 52.86it/s, accuracy=1]"
     ]
    },
    {
     "name": "stdout",
     "output_type": "stream",
     "text": [
      "Epoch 124\n"
     ]
    },
    {
     "name": "stderr",
     "output_type": "stream",
     "text": [
      "\n",
      "Training: 100%|██████████| 15/15 [00:00<00:00, 29.34it/s, loss=3.42e-8]\n",
      "Validation: 100%|██████████| 5/5 [00:00<00:00, 52.72it/s, accuracy=1]"
     ]
    },
    {
     "name": "stdout",
     "output_type": "stream",
     "text": [
      "Epoch 125\n"
     ]
    },
    {
     "name": "stderr",
     "output_type": "stream",
     "text": [
      "\n",
      "Training: 100%|██████████| 15/15 [00:00<00:00, 29.00it/s, loss=1.39e-8]\n",
      "Validation: 100%|██████████| 5/5 [00:00<00:00, 50.68it/s, accuracy=1]"
     ]
    },
    {
     "name": "stdout",
     "output_type": "stream",
     "text": [
      "Epoch 126\n"
     ]
    },
    {
     "name": "stderr",
     "output_type": "stream",
     "text": [
      "\n",
      "Training: 100%|██████████| 15/15 [00:00<00:00, 28.50it/s, loss=2.01e-8]\n",
      "Validation: 100%|██████████| 5/5 [00:00<00:00, 49.41it/s, accuracy=1]"
     ]
    },
    {
     "name": "stdout",
     "output_type": "stream",
     "text": [
      "Epoch 127\n"
     ]
    },
    {
     "name": "stderr",
     "output_type": "stream",
     "text": [
      "\n",
      "Training: 100%|██████████| 15/15 [00:00<00:00, 29.70it/s, loss=1.19e-8]\n",
      "Validation: 100%|██████████| 5/5 [00:00<00:00, 51.50it/s, accuracy=1]"
     ]
    },
    {
     "name": "stdout",
     "output_type": "stream",
     "text": [
      "Epoch 128\n"
     ]
    },
    {
     "name": "stderr",
     "output_type": "stream",
     "text": [
      "\n",
      "Training: 100%|██████████| 15/15 [00:00<00:00, 28.12it/s, loss=3.48e-8]\n",
      "Validation: 100%|██████████| 5/5 [00:00<00:00, 48.03it/s, accuracy=1]"
     ]
    },
    {
     "name": "stdout",
     "output_type": "stream",
     "text": [
      "Epoch 129\n"
     ]
    },
    {
     "name": "stderr",
     "output_type": "stream",
     "text": [
      "\n",
      "Training: 100%|██████████| 15/15 [00:00<00:00, 28.97it/s, loss=1.45e-8]\n",
      "Validation: 100%|██████████| 5/5 [00:00<00:00, 53.42it/s, accuracy=1]"
     ]
    },
    {
     "name": "stdout",
     "output_type": "stream",
     "text": [
      "Epoch 130\n"
     ]
    },
    {
     "name": "stderr",
     "output_type": "stream",
     "text": [
      "\n",
      "Training: 100%|██████████| 15/15 [00:00<00:00, 29.37it/s, loss=3.46e-8]\n",
      "Validation: 100%|██████████| 5/5 [00:00<00:00, 50.33it/s, accuracy=1]"
     ]
    },
    {
     "name": "stdout",
     "output_type": "stream",
     "text": [
      "Epoch 131\n"
     ]
    },
    {
     "name": "stderr",
     "output_type": "stream",
     "text": [
      "\n",
      "Training: 100%|██████████| 15/15 [00:00<00:00, 29.72it/s, loss=3e-8]\n",
      "Validation: 100%|██████████| 5/5 [00:00<00:00, 46.54it/s, accuracy=1]"
     ]
    },
    {
     "name": "stdout",
     "output_type": "stream",
     "text": [
      "Epoch 132\n"
     ]
    },
    {
     "name": "stderr",
     "output_type": "stream",
     "text": [
      "\n",
      "Training: 100%|██████████| 15/15 [00:00<00:00, 29.32it/s, loss=8.54e-9]\n",
      "Validation: 100%|██████████| 5/5 [00:00<00:00, 47.41it/s, accuracy=1]"
     ]
    },
    {
     "name": "stdout",
     "output_type": "stream",
     "text": [
      "Epoch 133\n"
     ]
    },
    {
     "name": "stderr",
     "output_type": "stream",
     "text": [
      "\n",
      "Training: 100%|██████████| 15/15 [00:00<00:00, 29.16it/s, loss=1.89e-8]\n",
      "Validation: 100%|██████████| 5/5 [00:00<00:00, 50.29it/s, accuracy=1]"
     ]
    },
    {
     "name": "stdout",
     "output_type": "stream",
     "text": [
      "Epoch 134\n"
     ]
    },
    {
     "name": "stderr",
     "output_type": "stream",
     "text": [
      "\n",
      "Training: 100%|██████████| 15/15 [00:00<00:00, 28.61it/s, loss=2.01e-8]\n",
      "Validation: 100%|██████████| 5/5 [00:00<00:00, 51.29it/s, accuracy=1]"
     ]
    },
    {
     "name": "stdout",
     "output_type": "stream",
     "text": [
      "Epoch 135\n"
     ]
    },
    {
     "name": "stderr",
     "output_type": "stream",
     "text": [
      "\n",
      "Training: 100%|██████████| 15/15 [00:00<00:00, 29.19it/s, loss=1.97e-8]\n",
      "Validation: 100%|██████████| 5/5 [00:00<00:00, 51.23it/s, accuracy=1]\n"
     ]
    },
    {
     "name": "stdout",
     "output_type": "stream",
     "text": [
      "Epoch 136\n"
     ]
    },
    {
     "name": "stderr",
     "output_type": "stream",
     "text": [
      "Training: 100%|██████████| 15/15 [00:00<00:00, 29.67it/s, loss=3e-8]\n",
      "Validation: 100%|██████████| 5/5 [00:00<00:00, 46.73it/s, accuracy=1]"
     ]
    },
    {
     "name": "stdout",
     "output_type": "stream",
     "text": [
      "Epoch 137\n"
     ]
    },
    {
     "name": "stderr",
     "output_type": "stream",
     "text": [
      "\n",
      "Training: 100%|██████████| 15/15 [00:00<00:00, 29.15it/s, loss=1.67e-8]\n",
      "Validation: 100%|██████████| 5/5 [00:00<00:00, 53.13it/s, accuracy=1]\n"
     ]
    },
    {
     "name": "stdout",
     "output_type": "stream",
     "text": [
      "Epoch 138\n"
     ]
    },
    {
     "name": "stderr",
     "output_type": "stream",
     "text": [
      "Training: 100%|██████████| 15/15 [00:00<00:00, 28.99it/s, loss=1.85e-8]\n",
      "Validation: 100%|██████████| 5/5 [00:00<00:00, 45.47it/s, accuracy=1]"
     ]
    },
    {
     "name": "stdout",
     "output_type": "stream",
     "text": [
      "Epoch 139\n"
     ]
    },
    {
     "name": "stderr",
     "output_type": "stream",
     "text": [
      "\n",
      "Training: 100%|██████████| 15/15 [00:00<00:00, 28.92it/s, loss=2.15e-8]\n",
      "Validation: 100%|██████████| 5/5 [00:00<00:00, 50.85it/s, accuracy=1]"
     ]
    },
    {
     "name": "stdout",
     "output_type": "stream",
     "text": [
      "Epoch 140\n"
     ]
    },
    {
     "name": "stderr",
     "output_type": "stream",
     "text": [
      "\n",
      "Training: 100%|██████████| 15/15 [00:00<00:00, 28.23it/s, loss=1.55e-8]\n",
      "Validation: 100%|██████████| 5/5 [00:00<00:00, 37.37it/s, accuracy=1]"
     ]
    },
    {
     "name": "stdout",
     "output_type": "stream",
     "text": [
      "Epoch 141\n"
     ]
    },
    {
     "name": "stderr",
     "output_type": "stream",
     "text": [
      "\n",
      "Training: 100%|██████████| 15/15 [00:00<00:00, 29.34it/s, loss=2.42e-8]\n",
      "Validation: 100%|██████████| 5/5 [00:00<00:00, 42.65it/s, accuracy=1]"
     ]
    },
    {
     "name": "stdout",
     "output_type": "stream",
     "text": [
      "Epoch 142\n"
     ]
    },
    {
     "name": "stderr",
     "output_type": "stream",
     "text": [
      "\n",
      "Training: 100%|██████████| 15/15 [00:00<00:00, 29.39it/s, loss=2.03e-8]\n",
      "Validation: 100%|██████████| 5/5 [00:00<00:00, 49.24it/s, accuracy=1]"
     ]
    },
    {
     "name": "stdout",
     "output_type": "stream",
     "text": [
      "Epoch 143\n"
     ]
    },
    {
     "name": "stderr",
     "output_type": "stream",
     "text": [
      "\n",
      "Training: 100%|██████████| 15/15 [00:00<00:00, 28.98it/s, loss=4.49e-8]\n",
      "Validation: 100%|██████████| 5/5 [00:00<00:00, 51.83it/s, accuracy=1]"
     ]
    },
    {
     "name": "stdout",
     "output_type": "stream",
     "text": [
      "Epoch 144\n"
     ]
    },
    {
     "name": "stderr",
     "output_type": "stream",
     "text": [
      "\n",
      "Training: 100%|██████████| 15/15 [00:00<00:00, 28.81it/s, loss=1.33e-8]\n",
      "Validation: 100%|██████████| 5/5 [00:00<00:00, 50.74it/s, accuracy=1]"
     ]
    },
    {
     "name": "stdout",
     "output_type": "stream",
     "text": [
      "Epoch 145\n"
     ]
    },
    {
     "name": "stderr",
     "output_type": "stream",
     "text": [
      "\n",
      "Training: 100%|██████████| 15/15 [00:00<00:00, 28.95it/s, loss=2.82e-8]\n",
      "Validation: 100%|██████████| 5/5 [00:00<00:00, 52.28it/s, accuracy=1]"
     ]
    },
    {
     "name": "stdout",
     "output_type": "stream",
     "text": [
      "Epoch 146\n"
     ]
    },
    {
     "name": "stderr",
     "output_type": "stream",
     "text": [
      "\n",
      "Training: 100%|██████████| 15/15 [00:00<00:00, 29.15it/s, loss=2.98e-8]\n",
      "Validation: 100%|██████████| 5/5 [00:00<00:00, 55.43it/s, accuracy=1]"
     ]
    },
    {
     "name": "stdout",
     "output_type": "stream",
     "text": [
      "Epoch 147\n"
     ]
    },
    {
     "name": "stderr",
     "output_type": "stream",
     "text": [
      "\n",
      "Training: 100%|██████████| 15/15 [00:00<00:00, 29.23it/s, loss=2.96e-8]\n",
      "Validation: 100%|██████████| 5/5 [00:00<00:00, 53.60it/s, accuracy=1]"
     ]
    },
    {
     "name": "stdout",
     "output_type": "stream",
     "text": [
      "Epoch 148\n"
     ]
    },
    {
     "name": "stderr",
     "output_type": "stream",
     "text": [
      "\n",
      "Training: 100%|██████████| 15/15 [00:00<00:00, 28.40it/s, loss=2.5e-8]\n",
      "Validation: 100%|██████████| 5/5 [00:00<00:00, 51.13it/s, accuracy=1]"
     ]
    },
    {
     "name": "stdout",
     "output_type": "stream",
     "text": [
      "Epoch 149\n"
     ]
    },
    {
     "name": "stderr",
     "output_type": "stream",
     "text": [
      "\n",
      "Training: 100%|██████████| 15/15 [00:00<00:00, 29.16it/s, loss=1.57e-8]\n",
      "Validation: 100%|██████████| 5/5 [00:00<00:00, 47.44it/s, accuracy=1]"
     ]
    },
    {
     "name": "stdout",
     "output_type": "stream",
     "text": [
      "Epoch 150\n"
     ]
    },
    {
     "name": "stderr",
     "output_type": "stream",
     "text": [
      "\n",
      "Training: 100%|██████████| 15/15 [00:00<00:00, 28.70it/s, loss=3.85e-8]\n",
      "Validation: 100%|██████████| 5/5 [00:00<00:00, 49.81it/s, accuracy=1]"
     ]
    },
    {
     "name": "stdout",
     "output_type": "stream",
     "text": [
      "Epoch 151\n"
     ]
    },
    {
     "name": "stderr",
     "output_type": "stream",
     "text": [
      "\n",
      "Training: 100%|██████████| 15/15 [00:00<00:00, 28.88it/s, loss=1.43e-8]\n",
      "Validation: 100%|██████████| 5/5 [00:00<00:00, 47.85it/s, accuracy=1]"
     ]
    },
    {
     "name": "stdout",
     "output_type": "stream",
     "text": [
      "Epoch 152\n"
     ]
    },
    {
     "name": "stderr",
     "output_type": "stream",
     "text": [
      "\n",
      "Training: 100%|██████████| 15/15 [00:00<00:00, 27.82it/s, loss=1.83e-8]\n",
      "Validation: 100%|██████████| 5/5 [00:00<00:00, 51.01it/s, accuracy=1]"
     ]
    },
    {
     "name": "stdout",
     "output_type": "stream",
     "text": [
      "Epoch 153\n"
     ]
    },
    {
     "name": "stderr",
     "output_type": "stream",
     "text": [
      "\n",
      "Training: 100%|██████████| 15/15 [00:00<00:00, 28.85it/s, loss=2.25e-8]\n",
      "Validation: 100%|██████████| 5/5 [00:00<00:00, 42.73it/s, accuracy=1]"
     ]
    },
    {
     "name": "stdout",
     "output_type": "stream",
     "text": [
      "Epoch 154\n"
     ]
    },
    {
     "name": "stderr",
     "output_type": "stream",
     "text": [
      "\n",
      "Training: 100%|██████████| 15/15 [00:00<00:00, 27.30it/s, loss=2.4e-8]\n",
      "Validation: 100%|██████████| 5/5 [00:00<00:00, 43.02it/s, accuracy=1]"
     ]
    },
    {
     "name": "stdout",
     "output_type": "stream",
     "text": [
      "Epoch 155\n"
     ]
    },
    {
     "name": "stderr",
     "output_type": "stream",
     "text": [
      "\n",
      "Training: 100%|██████████| 15/15 [00:00<00:00, 28.86it/s, loss=3.74e-8]\n",
      "Validation: 100%|██████████| 5/5 [00:00<00:00, 51.64it/s, accuracy=1]"
     ]
    },
    {
     "name": "stdout",
     "output_type": "stream",
     "text": [
      "Epoch 156\n"
     ]
    },
    {
     "name": "stderr",
     "output_type": "stream",
     "text": [
      "\n",
      "Training: 100%|██████████| 15/15 [00:00<00:00, 29.13it/s, loss=1.03e-8]\n",
      "Validation: 100%|██████████| 5/5 [00:00<00:00, 50.40it/s, accuracy=1]"
     ]
    },
    {
     "name": "stdout",
     "output_type": "stream",
     "text": [
      "Epoch 157\n"
     ]
    },
    {
     "name": "stderr",
     "output_type": "stream",
     "text": [
      "\n",
      "Training: 100%|██████████| 15/15 [00:00<00:00, 28.64it/s, loss=1.91e-8]\n",
      "Validation: 100%|██████████| 5/5 [00:00<00:00, 50.51it/s, accuracy=1]"
     ]
    },
    {
     "name": "stdout",
     "output_type": "stream",
     "text": [
      "Epoch 158\n"
     ]
    },
    {
     "name": "stderr",
     "output_type": "stream",
     "text": [
      "\n",
      "Training: 100%|██████████| 15/15 [00:00<00:00, 28.79it/s, loss=2.62e-8]\n",
      "Validation: 100%|██████████| 5/5 [00:00<00:00, 50.20it/s, accuracy=1]"
     ]
    },
    {
     "name": "stdout",
     "output_type": "stream",
     "text": [
      "Epoch 159\n"
     ]
    },
    {
     "name": "stderr",
     "output_type": "stream",
     "text": [
      "\n",
      "Training: 100%|██████████| 15/15 [00:00<00:00, 28.57it/s, loss=3.87e-8]\n",
      "Validation: 100%|██████████| 5/5 [00:00<00:00, 49.27it/s, accuracy=1]"
     ]
    },
    {
     "name": "stdout",
     "output_type": "stream",
     "text": [
      "Epoch 160\n"
     ]
    },
    {
     "name": "stderr",
     "output_type": "stream",
     "text": [
      "\n",
      "Training: 100%|██████████| 15/15 [00:00<00:00, 28.16it/s, loss=2.11e-8]\n",
      "Validation: 100%|██████████| 5/5 [00:00<00:00, 53.44it/s, accuracy=1]\n"
     ]
    },
    {
     "name": "stdout",
     "output_type": "stream",
     "text": [
      "Epoch 161\n"
     ]
    },
    {
     "name": "stderr",
     "output_type": "stream",
     "text": [
      "Training: 100%|██████████| 15/15 [00:00<00:00, 29.09it/s, loss=2.76e-8]\n",
      "Validation: 100%|██████████| 5/5 [00:00<00:00, 54.22it/s, accuracy=1]"
     ]
    },
    {
     "name": "stdout",
     "output_type": "stream",
     "text": [
      "Epoch 162\n"
     ]
    },
    {
     "name": "stderr",
     "output_type": "stream",
     "text": [
      "\n",
      "Training: 100%|██████████| 15/15 [00:00<00:00, 28.86it/s, loss=1.59e-8]\n",
      "Validation: 100%|██████████| 5/5 [00:00<00:00, 51.41it/s, accuracy=1]"
     ]
    },
    {
     "name": "stdout",
     "output_type": "stream",
     "text": [
      "Epoch 163\n"
     ]
    },
    {
     "name": "stderr",
     "output_type": "stream",
     "text": [
      "\n",
      "Training: 100%|██████████| 15/15 [00:00<00:00, 28.01it/s, loss=8.54e-9]\n",
      "Validation: 100%|██████████| 5/5 [00:00<00:00, 51.38it/s, accuracy=1]"
     ]
    },
    {
     "name": "stdout",
     "output_type": "stream",
     "text": [
      "Epoch 164\n"
     ]
    },
    {
     "name": "stderr",
     "output_type": "stream",
     "text": [
      "\n",
      "Training: 100%|██████████| 15/15 [00:00<00:00, 28.01it/s, loss=1.51e-8]\n",
      "Validation: 100%|██████████| 5/5 [00:00<00:00, 50.29it/s, accuracy=1]"
     ]
    },
    {
     "name": "stdout",
     "output_type": "stream",
     "text": [
      "Epoch 165\n"
     ]
    },
    {
     "name": "stderr",
     "output_type": "stream",
     "text": [
      "\n",
      "Training: 100%|██████████| 15/15 [00:00<00:00, 29.21it/s, loss=2.92e-8]\n",
      "Validation: 100%|██████████| 5/5 [00:00<00:00, 50.04it/s, accuracy=1]"
     ]
    },
    {
     "name": "stdout",
     "output_type": "stream",
     "text": [
      "Epoch 166\n"
     ]
    },
    {
     "name": "stderr",
     "output_type": "stream",
     "text": [
      "\n",
      "Training: 100%|██████████| 15/15 [00:00<00:00, 28.64it/s, loss=4.15e-8]\n",
      "Validation: 100%|██████████| 5/5 [00:00<00:00, 54.48it/s, accuracy=1]\n"
     ]
    },
    {
     "name": "stdout",
     "output_type": "stream",
     "text": [
      "Epoch 167\n"
     ]
    },
    {
     "name": "stderr",
     "output_type": "stream",
     "text": [
      "Training: 100%|██████████| 15/15 [00:00<00:00, 29.09it/s, loss=1.29e-8]\n",
      "Validation: 100%|██████████| 5/5 [00:00<00:00, 48.96it/s, accuracy=1]"
     ]
    },
    {
     "name": "stdout",
     "output_type": "stream",
     "text": [
      "Epoch 168\n"
     ]
    },
    {
     "name": "stderr",
     "output_type": "stream",
     "text": [
      "\n",
      "Training: 100%|██████████| 15/15 [00:00<00:00, 28.89it/s, loss=2.11e-8]\n",
      "Validation: 100%|██████████| 5/5 [00:00<00:00, 52.03it/s, accuracy=1]"
     ]
    },
    {
     "name": "stdout",
     "output_type": "stream",
     "text": [
      "Epoch 169\n"
     ]
    },
    {
     "name": "stderr",
     "output_type": "stream",
     "text": [
      "\n",
      "Training: 100%|██████████| 15/15 [00:00<00:00, 28.26it/s, loss=2.5e-8]\n",
      "Validation: 100%|██████████| 5/5 [00:00<00:00, 47.72it/s, accuracy=1]"
     ]
    },
    {
     "name": "stdout",
     "output_type": "stream",
     "text": [
      "Epoch 170\n"
     ]
    },
    {
     "name": "stderr",
     "output_type": "stream",
     "text": [
      "\n",
      "Training: 100%|██████████| 15/15 [00:00<00:00, 28.43it/s, loss=2.23e-8]\n",
      "Validation: 100%|██████████| 5/5 [00:00<00:00, 48.48it/s, accuracy=1]"
     ]
    },
    {
     "name": "stdout",
     "output_type": "stream",
     "text": [
      "Epoch 171\n"
     ]
    },
    {
     "name": "stderr",
     "output_type": "stream",
     "text": [
      "\n",
      "Training: 100%|██████████| 15/15 [00:00<00:00, 28.78it/s, loss=3.16e-8]\n",
      "Validation: 100%|██████████| 5/5 [00:00<00:00, 50.50it/s, accuracy=1]"
     ]
    },
    {
     "name": "stdout",
     "output_type": "stream",
     "text": [
      "Epoch 172\n"
     ]
    },
    {
     "name": "stderr",
     "output_type": "stream",
     "text": [
      "\n",
      "Training: 100%|██████████| 15/15 [00:00<00:00, 28.29it/s, loss=2.54e-8]\n",
      "Validation: 100%|██████████| 5/5 [00:00<00:00, 49.09it/s, accuracy=1]"
     ]
    },
    {
     "name": "stdout",
     "output_type": "stream",
     "text": [
      "Epoch 173\n"
     ]
    },
    {
     "name": "stderr",
     "output_type": "stream",
     "text": [
      "\n",
      "Training: 100%|██████████| 15/15 [00:00<00:00, 28.64it/s, loss=1.73e-8]\n",
      "Validation: 100%|██████████| 5/5 [00:00<00:00, 51.28it/s, accuracy=1]"
     ]
    },
    {
     "name": "stdout",
     "output_type": "stream",
     "text": [
      "Epoch 174\n"
     ]
    },
    {
     "name": "stderr",
     "output_type": "stream",
     "text": [
      "\n",
      "Training: 100%|██████████| 15/15 [00:00<00:00, 27.86it/s, loss=2.38e-8]\n",
      "Validation: 100%|██████████| 5/5 [00:00<00:00, 49.80it/s, accuracy=1]"
     ]
    },
    {
     "name": "stdout",
     "output_type": "stream",
     "text": [
      "Epoch 175\n"
     ]
    },
    {
     "name": "stderr",
     "output_type": "stream",
     "text": [
      "\n",
      "Training: 100%|██████████| 15/15 [00:00<00:00, 28.72it/s, loss=3.64e-8]\n",
      "Validation: 100%|██████████| 5/5 [00:00<00:00, 40.54it/s, accuracy=1]"
     ]
    },
    {
     "name": "stdout",
     "output_type": "stream",
     "text": [
      "Epoch 176\n"
     ]
    },
    {
     "name": "stderr",
     "output_type": "stream",
     "text": [
      "\n",
      "Training: 100%|██████████| 15/15 [00:00<00:00, 28.72it/s, loss=1.93e-8]\n",
      "Validation: 100%|██████████| 5/5 [00:00<00:00, 51.27it/s, accuracy=1]"
     ]
    },
    {
     "name": "stdout",
     "output_type": "stream",
     "text": [
      "Epoch 177\n"
     ]
    },
    {
     "name": "stderr",
     "output_type": "stream",
     "text": [
      "\n",
      "Training: 100%|██████████| 15/15 [00:00<00:00, 28.11it/s, loss=1.45e-8]\n",
      "Validation: 100%|██████████| 5/5 [00:00<00:00, 52.87it/s, accuracy=1]"
     ]
    },
    {
     "name": "stdout",
     "output_type": "stream",
     "text": [
      "Epoch 178\n"
     ]
    },
    {
     "name": "stderr",
     "output_type": "stream",
     "text": [
      "\n",
      "Training: 100%|██████████| 15/15 [00:00<00:00, 29.30it/s, loss=2.58e-8]\n",
      "Validation: 100%|██████████| 5/5 [00:00<00:00, 50.02it/s, accuracy=1]"
     ]
    },
    {
     "name": "stdout",
     "output_type": "stream",
     "text": [
      "Epoch 179\n"
     ]
    },
    {
     "name": "stderr",
     "output_type": "stream",
     "text": [
      "\n",
      "Training: 100%|██████████| 15/15 [00:00<00:00, 28.95it/s, loss=2.23e-8]\n",
      "Validation: 100%|██████████| 5/5 [00:00<00:00, 47.55it/s, accuracy=1]"
     ]
    },
    {
     "name": "stdout",
     "output_type": "stream",
     "text": [
      "Epoch 180\n"
     ]
    },
    {
     "name": "stderr",
     "output_type": "stream",
     "text": [
      "\n",
      "Training: 100%|██████████| 15/15 [00:00<00:00, 29.07it/s, loss=1.69e-8]\n",
      "Validation: 100%|██████████| 5/5 [00:00<00:00, 51.90it/s, accuracy=1]"
     ]
    },
    {
     "name": "stdout",
     "output_type": "stream",
     "text": [
      "Epoch 181\n"
     ]
    },
    {
     "name": "stderr",
     "output_type": "stream",
     "text": [
      "\n",
      "Training: 100%|██████████| 15/15 [00:00<00:00, 28.09it/s, loss=3.6e-8]\n",
      "Validation: 100%|██████████| 5/5 [00:00<00:00, 51.74it/s, accuracy=1]"
     ]
    },
    {
     "name": "stdout",
     "output_type": "stream",
     "text": [
      "Epoch 182\n"
     ]
    },
    {
     "name": "stderr",
     "output_type": "stream",
     "text": [
      "\n",
      "Training: 100%|██████████| 15/15 [00:00<00:00, 28.70it/s, loss=1.03e-8]\n",
      "Validation: 100%|██████████| 5/5 [00:00<00:00, 50.44it/s, accuracy=1]"
     ]
    },
    {
     "name": "stdout",
     "output_type": "stream",
     "text": [
      "Epoch 183\n"
     ]
    },
    {
     "name": "stderr",
     "output_type": "stream",
     "text": [
      "\n",
      "Training: 100%|██████████| 15/15 [00:00<00:00, 28.93it/s, loss=1.63e-8]\n",
      "Validation: 100%|██████████| 5/5 [00:00<00:00, 51.59it/s, accuracy=1]"
     ]
    },
    {
     "name": "stdout",
     "output_type": "stream",
     "text": [
      "Epoch 184\n"
     ]
    },
    {
     "name": "stderr",
     "output_type": "stream",
     "text": [
      "\n",
      "Training: 100%|██████████| 15/15 [00:00<00:00, 28.82it/s, loss=1.77e-8]\n",
      "Validation: 100%|██████████| 5/5 [00:00<00:00, 53.04it/s, accuracy=1]"
     ]
    },
    {
     "name": "stdout",
     "output_type": "stream",
     "text": [
      "Epoch 185\n"
     ]
    },
    {
     "name": "stderr",
     "output_type": "stream",
     "text": [
      "\n",
      "Training: 100%|██████████| 15/15 [00:00<00:00, 28.73it/s, loss=1.09e-8]\n",
      "Validation: 100%|██████████| 5/5 [00:00<00:00, 49.74it/s, accuracy=1]"
     ]
    },
    {
     "name": "stdout",
     "output_type": "stream",
     "text": [
      "Epoch 186\n"
     ]
    },
    {
     "name": "stderr",
     "output_type": "stream",
     "text": [
      "\n",
      "Training: 100%|██████████| 15/15 [00:00<00:00, 28.57it/s, loss=2.03e-8]\n",
      "Validation: 100%|██████████| 5/5 [00:00<00:00, 52.96it/s, accuracy=1]"
     ]
    },
    {
     "name": "stdout",
     "output_type": "stream",
     "text": [
      "Epoch 187\n"
     ]
    },
    {
     "name": "stderr",
     "output_type": "stream",
     "text": [
      "\n",
      "Training: 100%|██████████| 15/15 [00:00<00:00, 27.74it/s, loss=3.83e-8]\n",
      "Validation: 100%|██████████| 5/5 [00:00<00:00, 48.27it/s, accuracy=1]"
     ]
    },
    {
     "name": "stdout",
     "output_type": "stream",
     "text": [
      "Epoch 188\n"
     ]
    },
    {
     "name": "stderr",
     "output_type": "stream",
     "text": [
      "\n",
      "Training: 100%|██████████| 15/15 [00:00<00:00, 27.93it/s, loss=2.38e-8]\n",
      "Validation: 100%|██████████| 5/5 [00:00<00:00, 51.95it/s, accuracy=1]\n"
     ]
    },
    {
     "name": "stdout",
     "output_type": "stream",
     "text": [
      "Epoch 189\n"
     ]
    },
    {
     "name": "stderr",
     "output_type": "stream",
     "text": [
      "Training: 100%|██████████| 15/15 [00:00<00:00, 28.38it/s, loss=3.24e-8]\n",
      "Validation: 100%|██████████| 5/5 [00:00<00:00, 47.51it/s, accuracy=1]"
     ]
    },
    {
     "name": "stdout",
     "output_type": "stream",
     "text": [
      "Epoch 190\n"
     ]
    },
    {
     "name": "stderr",
     "output_type": "stream",
     "text": [
      "\n",
      "Training: 100%|██████████| 15/15 [00:00<00:00, 29.06it/s, loss=1.55e-8]\n",
      "Validation: 100%|██████████| 5/5 [00:00<00:00, 38.76it/s, accuracy=1]"
     ]
    },
    {
     "name": "stdout",
     "output_type": "stream",
     "text": [
      "Epoch 191\n"
     ]
    },
    {
     "name": "stderr",
     "output_type": "stream",
     "text": [
      "\n",
      "Training: 100%|██████████| 15/15 [00:00<00:00, 26.60it/s, loss=8.54e-9]\n",
      "Validation: 100%|██████████| 5/5 [00:00<00:00, 39.99it/s, accuracy=1]"
     ]
    },
    {
     "name": "stdout",
     "output_type": "stream",
     "text": [
      "Epoch 192\n"
     ]
    },
    {
     "name": "stderr",
     "output_type": "stream",
     "text": [
      "\n",
      "Training: 100%|██████████| 15/15 [00:00<00:00, 27.44it/s, loss=2.05e-8]\n",
      "Validation: 100%|██████████| 5/5 [00:00<00:00, 53.96it/s, accuracy=1]\n"
     ]
    },
    {
     "name": "stdout",
     "output_type": "stream",
     "text": [
      "Epoch 193\n"
     ]
    },
    {
     "name": "stderr",
     "output_type": "stream",
     "text": [
      "Training: 100%|██████████| 15/15 [00:00<00:00, 28.99it/s, loss=4.65e-8]\n",
      "Validation: 100%|██████████| 5/5 [00:00<00:00, 49.43it/s, accuracy=1]"
     ]
    },
    {
     "name": "stdout",
     "output_type": "stream",
     "text": [
      "Epoch 194\n"
     ]
    },
    {
     "name": "stderr",
     "output_type": "stream",
     "text": [
      "\n",
      "Training: 100%|██████████| 15/15 [00:00<00:00, 29.77it/s, loss=1.47e-8]\n",
      "Validation: 100%|██████████| 5/5 [00:00<00:00, 48.59it/s, accuracy=1]"
     ]
    },
    {
     "name": "stdout",
     "output_type": "stream",
     "text": [
      "Epoch 195\n"
     ]
    },
    {
     "name": "stderr",
     "output_type": "stream",
     "text": [
      "\n",
      "Training: 100%|██████████| 15/15 [00:00<00:00, 29.23it/s, loss=2.05e-8]\n",
      "Validation: 100%|██████████| 5/5 [00:00<00:00, 51.14it/s, accuracy=1]"
     ]
    },
    {
     "name": "stdout",
     "output_type": "stream",
     "text": [
      "Epoch 196\n"
     ]
    },
    {
     "name": "stderr",
     "output_type": "stream",
     "text": [
      "\n",
      "Training: 100%|██████████| 15/15 [00:00<00:00, 29.16it/s, loss=1.93e-8]\n",
      "Validation: 100%|██████████| 5/5 [00:00<00:00, 50.51it/s, accuracy=1]"
     ]
    },
    {
     "name": "stdout",
     "output_type": "stream",
     "text": [
      "Epoch 197\n"
     ]
    },
    {
     "name": "stderr",
     "output_type": "stream",
     "text": [
      "\n",
      "Training: 100%|██████████| 15/15 [00:00<00:00, 28.94it/s, loss=2.94e-8]\n",
      "Validation: 100%|██████████| 5/5 [00:00<00:00, 48.72it/s, accuracy=1]"
     ]
    },
    {
     "name": "stdout",
     "output_type": "stream",
     "text": [
      "Epoch 198\n"
     ]
    },
    {
     "name": "stderr",
     "output_type": "stream",
     "text": [
      "\n",
      "Training: 100%|██████████| 15/15 [00:00<00:00, 28.29it/s, loss=6.95e-9]\n",
      "Validation: 100%|██████████| 5/5 [00:00<00:00, 48.62it/s, accuracy=1]"
     ]
    },
    {
     "name": "stdout",
     "output_type": "stream",
     "text": [
      "Epoch 199\n"
     ]
    },
    {
     "name": "stderr",
     "output_type": "stream",
     "text": [
      "\n",
      "Training: 100%|██████████| 15/15 [00:00<00:00, 27.99it/s, loss=2.09e-8]\n",
      "Validation: 100%|██████████| 5/5 [00:00<00:00, 52.11it/s, accuracy=1]\n"
     ]
    }
   ],
   "source": [
    "from easyfsl.utils import evaluate\n",
    "\n",
    "\n",
    "best_state = few_shot_classifier.state_dict()\n",
    "best_validation_accuracy = 0.0\n",
    "for epoch in range(n_epochs):\n",
    "    print(f\"Epoch {epoch}\")\n",
    "    average_loss = training_epoch(few_shot_classifier, train_loader, train_optimizer)\n",
    "    validation_accuracy = evaluate(\n",
    "        few_shot_classifier, val_loader, device=DEVICE, tqdm_prefix=\"Validation\"\n",
    "    )\n",
    "\n",
    "    if validation_accuracy > best_validation_accuracy:\n",
    "        best_validation_accuracy = validation_accuracy\n",
    "        best_state = copy.deepcopy(few_shot_classifier.state_dict())\n",
    "        # state_dict() returns a reference to the still evolving model's state so we deepcopy\n",
    "        # https://pytorch.org/tutorials/beginner/saving_loading_models\n",
    "        print(\"Ding ding ding! We found a new best model!\")\n",
    "\n",
    "    tb_writer.add_scalar(\"Train/loss\", average_loss, epoch)\n",
    "    tb_writer.add_scalar(\"Val/acc\", validation_accuracy, epoch)\n",
    "\n",
    "    # Warn the scheduler that we did an epoch\n",
    "    # so it knows when to decrease the learning rate\n",
    "    train_scheduler.step()"
   ]
  },
  {
   "cell_type": "code",
   "execution_count": 16,
   "id": "6ae5eccd",
   "metadata": {
    "execution": {
     "iopub.execute_input": "2025-04-17T21:59:10.260609Z",
     "iopub.status.busy": "2025-04-17T21:59:10.260247Z",
     "iopub.status.idle": "2025-04-17T21:59:10.270527Z",
     "shell.execute_reply": "2025-04-17T21:59:10.269682Z"
    },
    "papermill": {
     "duration": 0.293684,
     "end_time": "2025-04-17T21:59:10.271754",
     "exception": false,
     "start_time": "2025-04-17T21:59:09.978070",
     "status": "completed"
    },
    "tags": []
   },
   "outputs": [
    {
     "data": {
      "text/plain": [
       "<All keys matched successfully>"
      ]
     },
     "execution_count": 16,
     "metadata": {},
     "output_type": "execute_result"
    }
   ],
   "source": [
    "few_shot_classifier.load_state_dict(best_state)"
   ]
  },
  {
   "cell_type": "markdown",
   "id": "3dbcf422",
   "metadata": {
    "papermill": {
     "duration": 0.280292,
     "end_time": "2025-04-17T21:59:10.834401",
     "exception": false,
     "start_time": "2025-04-17T21:59:10.554109",
     "status": "completed"
    },
    "tags": []
   },
   "source": [
    "# ATTACK"
   ]
  },
  {
   "cell_type": "code",
   "execution_count": 17,
   "id": "05ec6e49",
   "metadata": {
    "execution": {
     "iopub.execute_input": "2025-04-17T21:59:11.448649Z",
     "iopub.status.busy": "2025-04-17T21:59:11.448263Z",
     "iopub.status.idle": "2025-04-17T22:01:59.925107Z",
     "shell.execute_reply": "2025-04-17T22:01:59.924045Z"
    },
    "papermill": {
     "duration": 168.806184,
     "end_time": "2025-04-17T22:01:59.926265",
     "exception": false,
     "start_time": "2025-04-17T21:59:11.120081",
     "status": "completed"
    },
    "tags": []
   },
   "outputs": [
    {
     "name": "stdout",
     "output_type": "stream",
     "text": [
      "Epoch 0\n"
     ]
    },
    {
     "name": "stderr",
     "output_type": "stream",
     "text": [
      "Training: 100%|██████████| 15/15 [00:00<00:00, 24.44it/s, loss=1.63]\n",
      "Validation: 100%|██████████| 5/5 [00:00<00:00, 51.35it/s, accuracy=1]"
     ]
    },
    {
     "name": "stdout",
     "output_type": "stream",
     "text": [
      "Ding ding ding! We found a new best model!\n",
      "Epoch 1\n"
     ]
    },
    {
     "name": "stderr",
     "output_type": "stream",
     "text": [
      "\n",
      "Training: 100%|██████████| 15/15 [00:00<00:00, 29.34it/s, loss=1.38]\n",
      "Validation: 100%|██████████| 5/5 [00:00<00:00, 48.30it/s, accuracy=1]"
     ]
    },
    {
     "name": "stdout",
     "output_type": "stream",
     "text": [
      "Epoch 2\n"
     ]
    },
    {
     "name": "stderr",
     "output_type": "stream",
     "text": [
      "\n",
      "Training: 100%|██████████| 15/15 [00:00<00:00, 29.33it/s, loss=1.07]\n",
      "Validation: 100%|██████████| 5/5 [00:00<00:00, 50.63it/s, accuracy=1]"
     ]
    },
    {
     "name": "stdout",
     "output_type": "stream",
     "text": [
      "Epoch 3\n"
     ]
    },
    {
     "name": "stderr",
     "output_type": "stream",
     "text": [
      "\n",
      "Training: 100%|██████████| 15/15 [00:00<00:00, 29.95it/s, loss=1.28]\n",
      "Validation: 100%|██████████| 5/5 [00:00<00:00, 54.03it/s, accuracy=1]"
     ]
    },
    {
     "name": "stdout",
     "output_type": "stream",
     "text": [
      "Epoch 4\n"
     ]
    },
    {
     "name": "stderr",
     "output_type": "stream",
     "text": [
      "\n",
      "Training: 100%|██████████| 15/15 [00:00<00:00, 29.63it/s, loss=1.22]\n",
      "Validation: 100%|██████████| 5/5 [00:00<00:00, 50.94it/s, accuracy=1]"
     ]
    },
    {
     "name": "stdout",
     "output_type": "stream",
     "text": [
      "Epoch 5\n"
     ]
    },
    {
     "name": "stderr",
     "output_type": "stream",
     "text": [
      "\n",
      "Training: 100%|██████████| 15/15 [00:00<00:00, 30.15it/s, loss=1.21]\n",
      "Validation: 100%|██████████| 5/5 [00:00<00:00, 48.44it/s, accuracy=1]"
     ]
    },
    {
     "name": "stdout",
     "output_type": "stream",
     "text": [
      "Epoch 6\n"
     ]
    },
    {
     "name": "stderr",
     "output_type": "stream",
     "text": [
      "\n",
      "Training: 100%|██████████| 15/15 [00:00<00:00, 29.71it/s, loss=0.982]\n",
      "Validation: 100%|██████████| 5/5 [00:00<00:00, 50.54it/s, accuracy=1]"
     ]
    },
    {
     "name": "stdout",
     "output_type": "stream",
     "text": [
      "Epoch 7\n"
     ]
    },
    {
     "name": "stderr",
     "output_type": "stream",
     "text": [
      "\n",
      "Training: 100%|██████████| 15/15 [00:00<00:00, 28.88it/s, loss=1.03]\n",
      "Validation: 100%|██████████| 5/5 [00:00<00:00, 46.67it/s, accuracy=1]"
     ]
    },
    {
     "name": "stdout",
     "output_type": "stream",
     "text": [
      "Epoch 8\n"
     ]
    },
    {
     "name": "stderr",
     "output_type": "stream",
     "text": [
      "\n",
      "Training: 100%|██████████| 15/15 [00:00<00:00, 29.30it/s, loss=0.897]\n",
      "Validation: 100%|██████████| 5/5 [00:00<00:00, 39.06it/s, accuracy=1]"
     ]
    },
    {
     "name": "stdout",
     "output_type": "stream",
     "text": [
      "Epoch 9\n"
     ]
    },
    {
     "name": "stderr",
     "output_type": "stream",
     "text": [
      "\n",
      "Training: 100%|██████████| 15/15 [00:00<00:00, 29.29it/s, loss=0.882]\n",
      "Validation: 100%|██████████| 5/5 [00:00<00:00, 51.54it/s, accuracy=1]"
     ]
    },
    {
     "name": "stdout",
     "output_type": "stream",
     "text": [
      "Epoch 10\n"
     ]
    },
    {
     "name": "stderr",
     "output_type": "stream",
     "text": [
      "\n",
      "Training: 100%|██████████| 15/15 [00:00<00:00, 29.47it/s, loss=1.01]\n",
      "Validation: 100%|██████████| 5/5 [00:00<00:00, 51.90it/s, accuracy=1]"
     ]
    },
    {
     "name": "stdout",
     "output_type": "stream",
     "text": [
      "Epoch 11\n"
     ]
    },
    {
     "name": "stderr",
     "output_type": "stream",
     "text": [
      "\n",
      "Training: 100%|██████████| 15/15 [00:00<00:00, 29.37it/s, loss=0.951]\n",
      "Validation: 100%|██████████| 5/5 [00:00<00:00, 48.12it/s, accuracy=1]"
     ]
    },
    {
     "name": "stdout",
     "output_type": "stream",
     "text": [
      "Epoch 12\n"
     ]
    },
    {
     "name": "stderr",
     "output_type": "stream",
     "text": [
      "\n",
      "Training: 100%|██████████| 15/15 [00:00<00:00, 29.35it/s, loss=0.935]\n",
      "Validation: 100%|██████████| 5/5 [00:00<00:00, 46.68it/s, accuracy=1]"
     ]
    },
    {
     "name": "stdout",
     "output_type": "stream",
     "text": [
      "Epoch 13\n"
     ]
    },
    {
     "name": "stderr",
     "output_type": "stream",
     "text": [
      "\n",
      "Training: 100%|██████████| 15/15 [00:00<00:00, 29.90it/s, loss=0.911]\n",
      "Validation: 100%|██████████| 5/5 [00:00<00:00, 51.77it/s, accuracy=0.86]"
     ]
    },
    {
     "name": "stdout",
     "output_type": "stream",
     "text": [
      "Epoch 14\n"
     ]
    },
    {
     "name": "stderr",
     "output_type": "stream",
     "text": [
      "\n",
      "Training: 100%|██████████| 15/15 [00:00<00:00, 29.25it/s, loss=0.799]\n",
      "Validation: 100%|██████████| 5/5 [00:00<00:00, 48.59it/s, accuracy=1]"
     ]
    },
    {
     "name": "stdout",
     "output_type": "stream",
     "text": [
      "Epoch 15\n"
     ]
    },
    {
     "name": "stderr",
     "output_type": "stream",
     "text": [
      "\n",
      "Training: 100%|██████████| 15/15 [00:00<00:00, 29.95it/s, loss=0.805]\n",
      "Validation: 100%|██████████| 5/5 [00:00<00:00, 52.52it/s, accuracy=1]"
     ]
    },
    {
     "name": "stdout",
     "output_type": "stream",
     "text": [
      "Epoch 16\n"
     ]
    },
    {
     "name": "stderr",
     "output_type": "stream",
     "text": [
      "\n",
      "Training: 100%|██████████| 15/15 [00:00<00:00, 30.06it/s, loss=0.873]\n",
      "Validation: 100%|██████████| 5/5 [00:00<00:00, 52.77it/s, accuracy=1]"
     ]
    },
    {
     "name": "stdout",
     "output_type": "stream",
     "text": [
      "Epoch 17\n"
     ]
    },
    {
     "name": "stderr",
     "output_type": "stream",
     "text": [
      "\n",
      "Training: 100%|██████████| 15/15 [00:00<00:00, 29.93it/s, loss=0.924]\n",
      "Validation: 100%|██████████| 5/5 [00:00<00:00, 49.49it/s, accuracy=0.845]"
     ]
    },
    {
     "name": "stdout",
     "output_type": "stream",
     "text": [
      "Epoch 18\n"
     ]
    },
    {
     "name": "stderr",
     "output_type": "stream",
     "text": [
      "\n",
      "Training: 100%|██████████| 15/15 [00:00<00:00, 29.66it/s, loss=0.83]\n",
      "Validation: 100%|██████████| 5/5 [00:00<00:00, 52.92it/s, accuracy=1]"
     ]
    },
    {
     "name": "stdout",
     "output_type": "stream",
     "text": [
      "Epoch 19\n"
     ]
    },
    {
     "name": "stderr",
     "output_type": "stream",
     "text": [
      "\n",
      "Training: 100%|██████████| 15/15 [00:00<00:00, 29.35it/s, loss=0.693]\n",
      "Validation: 100%|██████████| 5/5 [00:00<00:00, 53.12it/s, accuracy=0.865]"
     ]
    },
    {
     "name": "stdout",
     "output_type": "stream",
     "text": [
      "Epoch 20\n"
     ]
    },
    {
     "name": "stderr",
     "output_type": "stream",
     "text": [
      "\n",
      "Training: 100%|██████████| 15/15 [00:00<00:00, 28.82it/s, loss=0.799]\n",
      "Validation: 100%|██████████| 5/5 [00:00<00:00, 43.81it/s, accuracy=1]"
     ]
    },
    {
     "name": "stdout",
     "output_type": "stream",
     "text": [
      "Epoch 21\n"
     ]
    },
    {
     "name": "stderr",
     "output_type": "stream",
     "text": [
      "\n",
      "Training: 100%|██████████| 15/15 [00:00<00:00, 29.50it/s, loss=0.778]\n",
      "Validation: 100%|██████████| 5/5 [00:00<00:00, 50.82it/s, accuracy=1]"
     ]
    },
    {
     "name": "stdout",
     "output_type": "stream",
     "text": [
      "Epoch 22\n"
     ]
    },
    {
     "name": "stderr",
     "output_type": "stream",
     "text": [
      "\n",
      "Training: 100%|██████████| 15/15 [00:00<00:00, 29.42it/s, loss=0.684]\n",
      "Validation: 100%|██████████| 5/5 [00:00<00:00, 52.43it/s, accuracy=1]\n"
     ]
    },
    {
     "name": "stdout",
     "output_type": "stream",
     "text": [
      "Epoch 23\n"
     ]
    },
    {
     "name": "stderr",
     "output_type": "stream",
     "text": [
      "Training: 100%|██████████| 15/15 [00:00<00:00, 29.21it/s, loss=0.623]\n",
      "Validation: 100%|██████████| 5/5 [00:00<00:00, 50.91it/s, accuracy=1]"
     ]
    },
    {
     "name": "stdout",
     "output_type": "stream",
     "text": [
      "Epoch 24\n"
     ]
    },
    {
     "name": "stderr",
     "output_type": "stream",
     "text": [
      "\n",
      "Training: 100%|██████████| 15/15 [00:00<00:00, 29.90it/s, loss=0.722]\n",
      "Validation: 100%|██████████| 5/5 [00:00<00:00, 48.34it/s, accuracy=1]"
     ]
    },
    {
     "name": "stdout",
     "output_type": "stream",
     "text": [
      "Epoch 25\n"
     ]
    },
    {
     "name": "stderr",
     "output_type": "stream",
     "text": [
      "\n",
      "Training: 100%|██████████| 15/15 [00:00<00:00, 29.76it/s, loss=0.82]\n",
      "Validation: 100%|██████████| 5/5 [00:00<00:00, 51.16it/s, accuracy=1]"
     ]
    },
    {
     "name": "stdout",
     "output_type": "stream",
     "text": [
      "Epoch 26\n"
     ]
    },
    {
     "name": "stderr",
     "output_type": "stream",
     "text": [
      "\n",
      "Training: 100%|██████████| 15/15 [00:00<00:00, 27.62it/s, loss=0.779]\n",
      "Validation: 100%|██████████| 5/5 [00:00<00:00, 44.77it/s, accuracy=1]"
     ]
    },
    {
     "name": "stdout",
     "output_type": "stream",
     "text": [
      "Epoch 27\n"
     ]
    },
    {
     "name": "stderr",
     "output_type": "stream",
     "text": [
      "\n",
      "Training: 100%|██████████| 15/15 [00:00<00:00, 27.47it/s, loss=0.71]\n",
      "Validation: 100%|██████████| 5/5 [00:00<00:00, 44.28it/s, accuracy=1]"
     ]
    },
    {
     "name": "stdout",
     "output_type": "stream",
     "text": [
      "Epoch 28\n"
     ]
    },
    {
     "name": "stderr",
     "output_type": "stream",
     "text": [
      "\n",
      "Training: 100%|██████████| 15/15 [00:00<00:00, 30.13it/s, loss=0.674]\n",
      "Validation: 100%|██████████| 5/5 [00:00<00:00, 53.60it/s, accuracy=1]"
     ]
    },
    {
     "name": "stdout",
     "output_type": "stream",
     "text": [
      "Epoch 29\n"
     ]
    },
    {
     "name": "stderr",
     "output_type": "stream",
     "text": [
      "\n",
      "Training: 100%|██████████| 15/15 [00:00<00:00, 29.63it/s, loss=0.737]\n",
      "Validation: 100%|██████████| 5/5 [00:00<00:00, 50.65it/s, accuracy=1]"
     ]
    },
    {
     "name": "stdout",
     "output_type": "stream",
     "text": [
      "Epoch 30\n"
     ]
    },
    {
     "name": "stderr",
     "output_type": "stream",
     "text": [
      "\n",
      "Training: 100%|██████████| 15/15 [00:00<00:00, 29.68it/s, loss=0.658]\n",
      "Validation: 100%|██████████| 5/5 [00:00<00:00, 47.98it/s, accuracy=1]"
     ]
    },
    {
     "name": "stdout",
     "output_type": "stream",
     "text": [
      "Epoch 31\n"
     ]
    },
    {
     "name": "stderr",
     "output_type": "stream",
     "text": [
      "\n",
      "Training: 100%|██████████| 15/15 [00:00<00:00, 29.10it/s, loss=0.685]\n",
      "Validation: 100%|██████████| 5/5 [00:00<00:00, 52.81it/s, accuracy=1]"
     ]
    },
    {
     "name": "stdout",
     "output_type": "stream",
     "text": [
      "Epoch 32\n"
     ]
    },
    {
     "name": "stderr",
     "output_type": "stream",
     "text": [
      "\n",
      "Training: 100%|██████████| 15/15 [00:00<00:00, 28.37it/s, loss=0.578]\n",
      "Validation: 100%|██████████| 5/5 [00:00<00:00, 52.21it/s, accuracy=1]"
     ]
    },
    {
     "name": "stdout",
     "output_type": "stream",
     "text": [
      "Epoch 33\n"
     ]
    },
    {
     "name": "stderr",
     "output_type": "stream",
     "text": [
      "\n",
      "Training: 100%|██████████| 15/15 [00:00<00:00, 29.08it/s, loss=0.695]\n",
      "Validation: 100%|██████████| 5/5 [00:00<00:00, 52.85it/s, accuracy=1]"
     ]
    },
    {
     "name": "stdout",
     "output_type": "stream",
     "text": [
      "Epoch 34\n"
     ]
    },
    {
     "name": "stderr",
     "output_type": "stream",
     "text": [
      "\n",
      "Training: 100%|██████████| 15/15 [00:00<00:00, 29.51it/s, loss=0.739]\n",
      "Validation: 100%|██████████| 5/5 [00:00<00:00, 51.47it/s, accuracy=1]\n"
     ]
    },
    {
     "name": "stdout",
     "output_type": "stream",
     "text": [
      "Epoch 35\n"
     ]
    },
    {
     "name": "stderr",
     "output_type": "stream",
     "text": [
      "Training: 100%|██████████| 15/15 [00:00<00:00, 29.19it/s, loss=0.725]\n",
      "Validation: 100%|██████████| 5/5 [00:00<00:00, 44.99it/s, accuracy=1]"
     ]
    },
    {
     "name": "stdout",
     "output_type": "stream",
     "text": [
      "Epoch 36\n"
     ]
    },
    {
     "name": "stderr",
     "output_type": "stream",
     "text": [
      "\n",
      "Training: 100%|██████████| 15/15 [00:00<00:00, 29.22it/s, loss=0.679]\n",
      "Validation: 100%|██████████| 5/5 [00:00<00:00, 49.01it/s, accuracy=1]"
     ]
    },
    {
     "name": "stdout",
     "output_type": "stream",
     "text": [
      "Epoch 37\n"
     ]
    },
    {
     "name": "stderr",
     "output_type": "stream",
     "text": [
      "\n",
      "Training: 100%|██████████| 15/15 [00:00<00:00, 29.87it/s, loss=0.825]\n",
      "Validation: 100%|██████████| 5/5 [00:00<00:00, 51.03it/s, accuracy=1]"
     ]
    },
    {
     "name": "stdout",
     "output_type": "stream",
     "text": [
      "Epoch 38\n"
     ]
    },
    {
     "name": "stderr",
     "output_type": "stream",
     "text": [
      "\n",
      "Training: 100%|██████████| 15/15 [00:00<00:00, 29.59it/s, loss=0.645]\n",
      "Validation: 100%|██████████| 5/5 [00:00<00:00, 49.90it/s, accuracy=1]"
     ]
    },
    {
     "name": "stdout",
     "output_type": "stream",
     "text": [
      "Epoch 39\n"
     ]
    },
    {
     "name": "stderr",
     "output_type": "stream",
     "text": [
      "\n",
      "Training: 100%|██████████| 15/15 [00:00<00:00, 30.34it/s, loss=0.745]\n",
      "Validation: 100%|██████████| 5/5 [00:00<00:00, 51.60it/s, accuracy=1]"
     ]
    },
    {
     "name": "stdout",
     "output_type": "stream",
     "text": [
      "Epoch 40\n"
     ]
    },
    {
     "name": "stderr",
     "output_type": "stream",
     "text": [
      "\n",
      "Training: 100%|██████████| 15/15 [00:00<00:00, 29.88it/s, loss=0.771]\n",
      "Validation: 100%|██████████| 5/5 [00:00<00:00, 50.30it/s, accuracy=1]"
     ]
    },
    {
     "name": "stdout",
     "output_type": "stream",
     "text": [
      "Epoch 41\n"
     ]
    },
    {
     "name": "stderr",
     "output_type": "stream",
     "text": [
      "\n",
      "Training: 100%|██████████| 15/15 [00:00<00:00, 29.07it/s, loss=0.667]\n",
      "Validation: 100%|██████████| 5/5 [00:00<00:00, 52.10it/s, accuracy=1]"
     ]
    },
    {
     "name": "stdout",
     "output_type": "stream",
     "text": [
      "Epoch 42\n"
     ]
    },
    {
     "name": "stderr",
     "output_type": "stream",
     "text": [
      "\n",
      "Training: 100%|██████████| 15/15 [00:00<00:00, 28.98it/s, loss=0.677]\n",
      "Validation: 100%|██████████| 5/5 [00:00<00:00, 50.83it/s, accuracy=1]"
     ]
    },
    {
     "name": "stdout",
     "output_type": "stream",
     "text": [
      "Epoch 43\n"
     ]
    },
    {
     "name": "stderr",
     "output_type": "stream",
     "text": [
      "\n",
      "Training: 100%|██████████| 15/15 [00:00<00:00, 29.24it/s, loss=0.652]\n",
      "Validation: 100%|██████████| 5/5 [00:00<00:00, 50.01it/s, accuracy=1]"
     ]
    },
    {
     "name": "stdout",
     "output_type": "stream",
     "text": [
      "Epoch 44\n"
     ]
    },
    {
     "name": "stderr",
     "output_type": "stream",
     "text": [
      "\n",
      "Training: 100%|██████████| 15/15 [00:00<00:00, 27.25it/s, loss=0.643]\n",
      "Validation: 100%|██████████| 5/5 [00:00<00:00, 49.59it/s, accuracy=1]"
     ]
    },
    {
     "name": "stdout",
     "output_type": "stream",
     "text": [
      "Epoch 45\n"
     ]
    },
    {
     "name": "stderr",
     "output_type": "stream",
     "text": [
      "\n",
      "Training: 100%|██████████| 15/15 [00:00<00:00, 29.31it/s, loss=0.605]\n",
      "Validation: 100%|██████████| 5/5 [00:00<00:00, 51.41it/s, accuracy=1]"
     ]
    },
    {
     "name": "stdout",
     "output_type": "stream",
     "text": [
      "Epoch 46\n"
     ]
    },
    {
     "name": "stderr",
     "output_type": "stream",
     "text": [
      "\n",
      "Training: 100%|██████████| 15/15 [00:00<00:00, 29.23it/s, loss=0.525]\n",
      "Validation: 100%|██████████| 5/5 [00:00<00:00, 50.71it/s, accuracy=1]"
     ]
    },
    {
     "name": "stdout",
     "output_type": "stream",
     "text": [
      "Epoch 47\n"
     ]
    },
    {
     "name": "stderr",
     "output_type": "stream",
     "text": [
      "\n",
      "Training: 100%|██████████| 15/15 [00:00<00:00, 29.37it/s, loss=0.587]\n",
      "Validation: 100%|██████████| 5/5 [00:00<00:00, 49.79it/s, accuracy=1]"
     ]
    },
    {
     "name": "stdout",
     "output_type": "stream",
     "text": [
      "Epoch 48\n"
     ]
    },
    {
     "name": "stderr",
     "output_type": "stream",
     "text": [
      "\n",
      "Training: 100%|██████████| 15/15 [00:00<00:00, 29.69it/s, loss=0.538]\n",
      "Validation: 100%|██████████| 5/5 [00:00<00:00, 50.59it/s, accuracy=1]"
     ]
    },
    {
     "name": "stdout",
     "output_type": "stream",
     "text": [
      "Epoch 49\n"
     ]
    },
    {
     "name": "stderr",
     "output_type": "stream",
     "text": [
      "\n",
      "Training: 100%|██████████| 15/15 [00:00<00:00, 29.31it/s, loss=0.506]\n",
      "Validation: 100%|██████████| 5/5 [00:00<00:00, 50.13it/s, accuracy=1]"
     ]
    },
    {
     "name": "stdout",
     "output_type": "stream",
     "text": [
      "Epoch 50\n"
     ]
    },
    {
     "name": "stderr",
     "output_type": "stream",
     "text": [
      "\n",
      "Training: 100%|██████████| 15/15 [00:00<00:00, 29.27it/s, loss=0.499]\n",
      "Validation: 100%|██████████| 5/5 [00:00<00:00, 50.38it/s, accuracy=0.705]"
     ]
    },
    {
     "name": "stdout",
     "output_type": "stream",
     "text": [
      "Epoch 51\n"
     ]
    },
    {
     "name": "stderr",
     "output_type": "stream",
     "text": [
      "\n",
      "Training: 100%|██████████| 15/15 [00:00<00:00, 29.35it/s, loss=0.526]\n",
      "Validation: 100%|██████████| 5/5 [00:00<00:00, 46.52it/s, accuracy=1]"
     ]
    },
    {
     "name": "stdout",
     "output_type": "stream",
     "text": [
      "Epoch 52\n"
     ]
    },
    {
     "name": "stderr",
     "output_type": "stream",
     "text": [
      "\n",
      "Training: 100%|██████████| 15/15 [00:00<00:00, 29.99it/s, loss=0.546]\n",
      "Validation: 100%|██████████| 5/5 [00:00<00:00, 50.29it/s, accuracy=1]"
     ]
    },
    {
     "name": "stdout",
     "output_type": "stream",
     "text": [
      "Epoch 53\n"
     ]
    },
    {
     "name": "stderr",
     "output_type": "stream",
     "text": [
      "\n",
      "Training: 100%|██████████| 15/15 [00:00<00:00, 29.77it/s, loss=0.579]\n",
      "Validation: 100%|██████████| 5/5 [00:00<00:00, 53.88it/s, accuracy=1]"
     ]
    },
    {
     "name": "stdout",
     "output_type": "stream",
     "text": [
      "Epoch 54\n"
     ]
    },
    {
     "name": "stderr",
     "output_type": "stream",
     "text": [
      "\n",
      "Training: 100%|██████████| 15/15 [00:00<00:00, 29.19it/s, loss=0.526]\n",
      "Validation: 100%|██████████| 5/5 [00:00<00:00, 47.56it/s, accuracy=1]"
     ]
    },
    {
     "name": "stdout",
     "output_type": "stream",
     "text": [
      "Epoch 55\n"
     ]
    },
    {
     "name": "stderr",
     "output_type": "stream",
     "text": [
      "\n",
      "Training: 100%|██████████| 15/15 [00:00<00:00, 29.36it/s, loss=0.519]\n",
      "Validation: 100%|██████████| 5/5 [00:00<00:00, 48.71it/s, accuracy=1]"
     ]
    },
    {
     "name": "stdout",
     "output_type": "stream",
     "text": [
      "Epoch 56\n"
     ]
    },
    {
     "name": "stderr",
     "output_type": "stream",
     "text": [
      "\n",
      "Training: 100%|██████████| 15/15 [00:00<00:00, 27.95it/s, loss=0.52]\n",
      "Validation: 100%|██████████| 5/5 [00:00<00:00, 48.66it/s, accuracy=1]"
     ]
    },
    {
     "name": "stdout",
     "output_type": "stream",
     "text": [
      "Epoch 57\n"
     ]
    },
    {
     "name": "stderr",
     "output_type": "stream",
     "text": [
      "\n",
      "Training: 100%|██████████| 15/15 [00:00<00:00, 28.91it/s, loss=0.495]\n",
      "Validation: 100%|██████████| 5/5 [00:00<00:00, 54.14it/s, accuracy=1]"
     ]
    },
    {
     "name": "stdout",
     "output_type": "stream",
     "text": [
      "Epoch 58\n"
     ]
    },
    {
     "name": "stderr",
     "output_type": "stream",
     "text": [
      "\n",
      "Training: 100%|██████████| 15/15 [00:00<00:00, 29.97it/s, loss=0.544]\n",
      "Validation: 100%|██████████| 5/5 [00:00<00:00, 52.82it/s, accuracy=1]"
     ]
    },
    {
     "name": "stdout",
     "output_type": "stream",
     "text": [
      "Epoch 59\n"
     ]
    },
    {
     "name": "stderr",
     "output_type": "stream",
     "text": [
      "\n",
      "Training: 100%|██████████| 15/15 [00:00<00:00, 29.42it/s, loss=0.501]\n",
      "Validation: 100%|██████████| 5/5 [00:00<00:00, 48.35it/s, accuracy=1]"
     ]
    },
    {
     "name": "stdout",
     "output_type": "stream",
     "text": [
      "Epoch 60\n"
     ]
    },
    {
     "name": "stderr",
     "output_type": "stream",
     "text": [
      "\n",
      "Training: 100%|██████████| 15/15 [00:00<00:00, 29.49it/s, loss=0.572]\n",
      "Validation: 100%|██████████| 5/5 [00:00<00:00, 49.49it/s, accuracy=1]"
     ]
    },
    {
     "name": "stdout",
     "output_type": "stream",
     "text": [
      "Epoch 61\n"
     ]
    },
    {
     "name": "stderr",
     "output_type": "stream",
     "text": [
      "\n",
      "Training: 100%|██████████| 15/15 [00:00<00:00, 29.85it/s, loss=0.589]\n",
      "Validation: 100%|██████████| 5/5 [00:00<00:00, 50.66it/s, accuracy=0.835]"
     ]
    },
    {
     "name": "stdout",
     "output_type": "stream",
     "text": [
      "Epoch 62\n"
     ]
    },
    {
     "name": "stderr",
     "output_type": "stream",
     "text": [
      "\n",
      "Training: 100%|██████████| 15/15 [00:00<00:00, 29.49it/s, loss=0.484]\n",
      "Validation: 100%|██████████| 5/5 [00:00<00:00, 50.55it/s, accuracy=1]"
     ]
    },
    {
     "name": "stdout",
     "output_type": "stream",
     "text": [
      "Epoch 63\n"
     ]
    },
    {
     "name": "stderr",
     "output_type": "stream",
     "text": [
      "\n",
      "Training: 100%|██████████| 15/15 [00:00<00:00, 29.65it/s, loss=0.478]\n",
      "Validation: 100%|██████████| 5/5 [00:00<00:00, 51.52it/s, accuracy=1]"
     ]
    },
    {
     "name": "stdout",
     "output_type": "stream",
     "text": [
      "Epoch 64\n"
     ]
    },
    {
     "name": "stderr",
     "output_type": "stream",
     "text": [
      "\n",
      "Training: 100%|██████████| 15/15 [00:00<00:00, 27.49it/s, loss=0.459]\n",
      "Validation: 100%|██████████| 5/5 [00:00<00:00, 38.97it/s, accuracy=1]"
     ]
    },
    {
     "name": "stdout",
     "output_type": "stream",
     "text": [
      "Epoch 65\n"
     ]
    },
    {
     "name": "stderr",
     "output_type": "stream",
     "text": [
      "\n",
      "Training: 100%|██████████| 15/15 [00:00<00:00, 28.16it/s, loss=0.526]\n",
      "Validation: 100%|██████████| 5/5 [00:00<00:00, 48.44it/s, accuracy=1]"
     ]
    },
    {
     "name": "stdout",
     "output_type": "stream",
     "text": [
      "Epoch 66\n"
     ]
    },
    {
     "name": "stderr",
     "output_type": "stream",
     "text": [
      "\n",
      "Training: 100%|██████████| 15/15 [00:00<00:00, 29.52it/s, loss=0.4]\n",
      "Validation: 100%|██████████| 5/5 [00:00<00:00, 50.07it/s, accuracy=1]"
     ]
    },
    {
     "name": "stdout",
     "output_type": "stream",
     "text": [
      "Epoch 67\n"
     ]
    },
    {
     "name": "stderr",
     "output_type": "stream",
     "text": [
      "\n",
      "Training: 100%|██████████| 15/15 [00:00<00:00, 28.74it/s, loss=0.478]\n",
      "Validation: 100%|██████████| 5/5 [00:00<00:00, 42.54it/s, accuracy=1]"
     ]
    },
    {
     "name": "stdout",
     "output_type": "stream",
     "text": [
      "Epoch 68\n"
     ]
    },
    {
     "name": "stderr",
     "output_type": "stream",
     "text": [
      "\n",
      "Training: 100%|██████████| 15/15 [00:00<00:00, 28.32it/s, loss=0.409]\n",
      "Validation: 100%|██████████| 5/5 [00:00<00:00, 51.13it/s, accuracy=1]"
     ]
    },
    {
     "name": "stdout",
     "output_type": "stream",
     "text": [
      "Epoch 69\n"
     ]
    },
    {
     "name": "stderr",
     "output_type": "stream",
     "text": [
      "\n",
      "Training: 100%|██████████| 15/15 [00:00<00:00, 29.60it/s, loss=0.507]\n",
      "Validation: 100%|██████████| 5/5 [00:00<00:00, 53.00it/s, accuracy=1]\n"
     ]
    },
    {
     "name": "stdout",
     "output_type": "stream",
     "text": [
      "Epoch 70\n"
     ]
    },
    {
     "name": "stderr",
     "output_type": "stream",
     "text": [
      "Training: 100%|██████████| 15/15 [00:00<00:00, 29.42it/s, loss=0.459]\n",
      "Validation: 100%|██████████| 5/5 [00:00<00:00, 50.18it/s, accuracy=1]"
     ]
    },
    {
     "name": "stdout",
     "output_type": "stream",
     "text": [
      "Epoch 71\n"
     ]
    },
    {
     "name": "stderr",
     "output_type": "stream",
     "text": [
      "\n",
      "Training: 100%|██████████| 15/15 [00:00<00:00, 28.90it/s, loss=0.412]\n",
      "Validation: 100%|██████████| 5/5 [00:00<00:00, 43.07it/s, accuracy=0.835]"
     ]
    },
    {
     "name": "stdout",
     "output_type": "stream",
     "text": [
      "Epoch 72\n"
     ]
    },
    {
     "name": "stderr",
     "output_type": "stream",
     "text": [
      "\n",
      "Training: 100%|██████████| 15/15 [00:00<00:00, 29.02it/s, loss=0.381]\n",
      "Validation: 100%|██████████| 5/5 [00:00<00:00, 51.84it/s, accuracy=1]"
     ]
    },
    {
     "name": "stdout",
     "output_type": "stream",
     "text": [
      "Epoch 73\n"
     ]
    },
    {
     "name": "stderr",
     "output_type": "stream",
     "text": [
      "\n",
      "Training: 100%|██████████| 15/15 [00:00<00:00, 29.78it/s, loss=0.355]\n",
      "Validation: 100%|██████████| 5/5 [00:00<00:00, 51.73it/s, accuracy=1]"
     ]
    },
    {
     "name": "stdout",
     "output_type": "stream",
     "text": [
      "Epoch 74\n"
     ]
    },
    {
     "name": "stderr",
     "output_type": "stream",
     "text": [
      "\n",
      "Training: 100%|██████████| 15/15 [00:00<00:00, 29.66it/s, loss=0.355]\n",
      "Validation: 100%|██████████| 5/5 [00:00<00:00, 52.41it/s, accuracy=1]\n"
     ]
    },
    {
     "name": "stdout",
     "output_type": "stream",
     "text": [
      "Epoch 75\n"
     ]
    },
    {
     "name": "stderr",
     "output_type": "stream",
     "text": [
      "Training: 100%|██████████| 15/15 [00:00<00:00, 29.88it/s, loss=0.327]\n",
      "Validation: 100%|██████████| 5/5 [00:00<00:00, 48.00it/s, accuracy=1]"
     ]
    },
    {
     "name": "stdout",
     "output_type": "stream",
     "text": [
      "Epoch 76\n"
     ]
    },
    {
     "name": "stderr",
     "output_type": "stream",
     "text": [
      "\n",
      "Training: 100%|██████████| 15/15 [00:00<00:00, 29.55it/s, loss=0.324]\n",
      "Validation: 100%|██████████| 5/5 [00:00<00:00, 48.33it/s, accuracy=1]"
     ]
    },
    {
     "name": "stdout",
     "output_type": "stream",
     "text": [
      "Epoch 77\n"
     ]
    },
    {
     "name": "stderr",
     "output_type": "stream",
     "text": [
      "\n",
      "Training: 100%|██████████| 15/15 [00:00<00:00, 28.92it/s, loss=0.301]\n",
      "Validation: 100%|██████████| 5/5 [00:00<00:00, 49.62it/s, accuracy=1]"
     ]
    },
    {
     "name": "stdout",
     "output_type": "stream",
     "text": [
      "Epoch 78\n"
     ]
    },
    {
     "name": "stderr",
     "output_type": "stream",
     "text": [
      "\n",
      "Training: 100%|██████████| 15/15 [00:00<00:00, 29.15it/s, loss=0.31]\n",
      "Validation: 100%|██████████| 5/5 [00:00<00:00, 50.62it/s, accuracy=1]"
     ]
    },
    {
     "name": "stdout",
     "output_type": "stream",
     "text": [
      "Epoch 79\n"
     ]
    },
    {
     "name": "stderr",
     "output_type": "stream",
     "text": [
      "\n",
      "Training: 100%|██████████| 15/15 [00:00<00:00, 29.37it/s, loss=0.395]\n",
      "Validation: 100%|██████████| 5/5 [00:00<00:00, 41.99it/s, accuracy=1]"
     ]
    },
    {
     "name": "stdout",
     "output_type": "stream",
     "text": [
      "Epoch 80\n"
     ]
    },
    {
     "name": "stderr",
     "output_type": "stream",
     "text": [
      "\n",
      "Training: 100%|██████████| 15/15 [00:00<00:00, 29.50it/s, loss=0.299]\n",
      "Validation: 100%|██████████| 5/5 [00:00<00:00, 50.59it/s, accuracy=1]"
     ]
    },
    {
     "name": "stdout",
     "output_type": "stream",
     "text": [
      "Epoch 81\n"
     ]
    },
    {
     "name": "stderr",
     "output_type": "stream",
     "text": [
      "\n",
      "Training: 100%|██████████| 15/15 [00:00<00:00, 30.21it/s, loss=0.328]\n",
      "Validation: 100%|██████████| 5/5 [00:00<00:00, 48.87it/s, accuracy=1]"
     ]
    },
    {
     "name": "stdout",
     "output_type": "stream",
     "text": [
      "Epoch 82\n"
     ]
    },
    {
     "name": "stderr",
     "output_type": "stream",
     "text": [
      "\n",
      "Training: 100%|██████████| 15/15 [00:00<00:00, 29.97it/s, loss=0.3]\n",
      "Validation: 100%|██████████| 5/5 [00:00<00:00, 53.11it/s, accuracy=1]"
     ]
    },
    {
     "name": "stdout",
     "output_type": "stream",
     "text": [
      "Epoch 83\n"
     ]
    },
    {
     "name": "stderr",
     "output_type": "stream",
     "text": [
      "\n",
      "Training: 100%|██████████| 15/15 [00:00<00:00, 30.09it/s, loss=0.325]\n",
      "Validation: 100%|██████████| 5/5 [00:00<00:00, 50.12it/s, accuracy=1]"
     ]
    },
    {
     "name": "stdout",
     "output_type": "stream",
     "text": [
      "Epoch 84\n"
     ]
    },
    {
     "name": "stderr",
     "output_type": "stream",
     "text": [
      "\n",
      "Training: 100%|██████████| 15/15 [00:00<00:00, 29.99it/s, loss=0.213]\n",
      "Validation: 100%|██████████| 5/5 [00:00<00:00, 47.90it/s, accuracy=1]"
     ]
    },
    {
     "name": "stdout",
     "output_type": "stream",
     "text": [
      "Epoch 85\n"
     ]
    },
    {
     "name": "stderr",
     "output_type": "stream",
     "text": [
      "\n",
      "Training: 100%|██████████| 15/15 [00:00<00:00, 29.17it/s, loss=0.33]\n",
      "Validation: 100%|██████████| 5/5 [00:00<00:00, 51.20it/s, accuracy=1]"
     ]
    },
    {
     "name": "stdout",
     "output_type": "stream",
     "text": [
      "Epoch 86\n"
     ]
    },
    {
     "name": "stderr",
     "output_type": "stream",
     "text": [
      "\n",
      "Training: 100%|██████████| 15/15 [00:00<00:00, 29.36it/s, loss=0.289]\n",
      "Validation: 100%|██████████| 5/5 [00:00<00:00, 51.73it/s, accuracy=1]"
     ]
    },
    {
     "name": "stdout",
     "output_type": "stream",
     "text": [
      "Epoch 87\n"
     ]
    },
    {
     "name": "stderr",
     "output_type": "stream",
     "text": [
      "\n",
      "Training: 100%|██████████| 15/15 [00:00<00:00, 29.96it/s, loss=0.199]\n",
      "Validation: 100%|██████████| 5/5 [00:00<00:00, 52.25it/s, accuracy=1]"
     ]
    },
    {
     "name": "stdout",
     "output_type": "stream",
     "text": [
      "Epoch 88\n"
     ]
    },
    {
     "name": "stderr",
     "output_type": "stream",
     "text": [
      "\n",
      "Training: 100%|██████████| 15/15 [00:00<00:00, 29.56it/s, loss=0.27]\n",
      "Validation: 100%|██████████| 5/5 [00:00<00:00, 54.41it/s, accuracy=1]"
     ]
    },
    {
     "name": "stdout",
     "output_type": "stream",
     "text": [
      "Epoch 89\n"
     ]
    },
    {
     "name": "stderr",
     "output_type": "stream",
     "text": [
      "\n",
      "Training: 100%|██████████| 15/15 [00:00<00:00, 29.53it/s, loss=0.261]\n",
      "Validation: 100%|██████████| 5/5 [00:00<00:00, 49.64it/s, accuracy=1]"
     ]
    },
    {
     "name": "stdout",
     "output_type": "stream",
     "text": [
      "Epoch 90\n"
     ]
    },
    {
     "name": "stderr",
     "output_type": "stream",
     "text": [
      "\n",
      "Training: 100%|██████████| 15/15 [00:00<00:00, 29.63it/s, loss=0.347]\n",
      "Validation: 100%|██████████| 5/5 [00:00<00:00, 51.77it/s, accuracy=1]"
     ]
    },
    {
     "name": "stdout",
     "output_type": "stream",
     "text": [
      "Epoch 91\n"
     ]
    },
    {
     "name": "stderr",
     "output_type": "stream",
     "text": [
      "\n",
      "Training: 100%|██████████| 15/15 [00:00<00:00, 29.18it/s, loss=0.31]\n",
      "Validation: 100%|██████████| 5/5 [00:00<00:00, 45.17it/s, accuracy=1]"
     ]
    },
    {
     "name": "stdout",
     "output_type": "stream",
     "text": [
      "Epoch 92\n"
     ]
    },
    {
     "name": "stderr",
     "output_type": "stream",
     "text": [
      "\n",
      "Training: 100%|██████████| 15/15 [00:00<00:00, 28.73it/s, loss=0.284]\n",
      "Validation: 100%|██████████| 5/5 [00:00<00:00, 50.73it/s, accuracy=1]"
     ]
    },
    {
     "name": "stdout",
     "output_type": "stream",
     "text": [
      "Epoch 93\n"
     ]
    },
    {
     "name": "stderr",
     "output_type": "stream",
     "text": [
      "\n",
      "Training: 100%|██████████| 15/15 [00:00<00:00, 29.94it/s, loss=0.239]\n",
      "Validation: 100%|██████████| 5/5 [00:00<00:00, 48.86it/s, accuracy=1]"
     ]
    },
    {
     "name": "stdout",
     "output_type": "stream",
     "text": [
      "Epoch 94\n"
     ]
    },
    {
     "name": "stderr",
     "output_type": "stream",
     "text": [
      "\n",
      "Training: 100%|██████████| 15/15 [00:00<00:00, 29.94it/s, loss=0.334]\n",
      "Validation: 100%|██████████| 5/5 [00:00<00:00, 50.54it/s, accuracy=1]"
     ]
    },
    {
     "name": "stdout",
     "output_type": "stream",
     "text": [
      "Epoch 95\n"
     ]
    },
    {
     "name": "stderr",
     "output_type": "stream",
     "text": [
      "\n",
      "Training: 100%|██████████| 15/15 [00:00<00:00, 29.79it/s, loss=0.287]\n",
      "Validation: 100%|██████████| 5/5 [00:00<00:00, 50.91it/s, accuracy=1]"
     ]
    },
    {
     "name": "stdout",
     "output_type": "stream",
     "text": [
      "Epoch 96\n"
     ]
    },
    {
     "name": "stderr",
     "output_type": "stream",
     "text": [
      "\n",
      "Training: 100%|██████████| 15/15 [00:00<00:00, 29.12it/s, loss=0.255]\n",
      "Validation: 100%|██████████| 5/5 [00:00<00:00, 53.24it/s, accuracy=1]"
     ]
    },
    {
     "name": "stdout",
     "output_type": "stream",
     "text": [
      "Epoch 97\n"
     ]
    },
    {
     "name": "stderr",
     "output_type": "stream",
     "text": [
      "\n",
      "Training: 100%|██████████| 15/15 [00:00<00:00, 30.08it/s, loss=0.247]\n",
      "Validation: 100%|██████████| 5/5 [00:00<00:00, 47.17it/s, accuracy=0.845]"
     ]
    },
    {
     "name": "stdout",
     "output_type": "stream",
     "text": [
      "Epoch 98\n"
     ]
    },
    {
     "name": "stderr",
     "output_type": "stream",
     "text": [
      "\n",
      "Training: 100%|██████████| 15/15 [00:00<00:00, 30.33it/s, loss=0.146]\n",
      "Validation: 100%|██████████| 5/5 [00:00<00:00, 52.52it/s, accuracy=1]\n"
     ]
    },
    {
     "name": "stdout",
     "output_type": "stream",
     "text": [
      "Epoch 99\n"
     ]
    },
    {
     "name": "stderr",
     "output_type": "stream",
     "text": [
      "Training: 100%|██████████| 15/15 [00:00<00:00, 30.41it/s, loss=0.239]\n",
      "Validation: 100%|██████████| 5/5 [00:00<00:00, 51.73it/s, accuracy=1]"
     ]
    },
    {
     "name": "stdout",
     "output_type": "stream",
     "text": [
      "Epoch 100\n"
     ]
    },
    {
     "name": "stderr",
     "output_type": "stream",
     "text": [
      "\n",
      "Training: 100%|██████████| 15/15 [00:00<00:00, 29.97it/s, loss=0.246]\n",
      "Validation: 100%|██████████| 5/5 [00:00<00:00, 49.12it/s, accuracy=1]"
     ]
    },
    {
     "name": "stdout",
     "output_type": "stream",
     "text": [
      "Epoch 101\n"
     ]
    },
    {
     "name": "stderr",
     "output_type": "stream",
     "text": [
      "\n",
      "Training: 100%|██████████| 15/15 [00:00<00:00, 28.70it/s, loss=0.219]\n",
      "Validation: 100%|██████████| 5/5 [00:00<00:00, 40.64it/s, accuracy=1]"
     ]
    },
    {
     "name": "stdout",
     "output_type": "stream",
     "text": [
      "Epoch 102\n"
     ]
    },
    {
     "name": "stderr",
     "output_type": "stream",
     "text": [
      "\n",
      "Training: 100%|██████████| 15/15 [00:00<00:00, 27.62it/s, loss=0.216]\n",
      "Validation: 100%|██████████| 5/5 [00:00<00:00, 43.12it/s, accuracy=1]"
     ]
    },
    {
     "name": "stdout",
     "output_type": "stream",
     "text": [
      "Epoch 103\n"
     ]
    },
    {
     "name": "stderr",
     "output_type": "stream",
     "text": [
      "\n",
      "Training: 100%|██████████| 15/15 [00:00<00:00, 27.31it/s, loss=0.207]\n",
      "Validation: 100%|██████████| 5/5 [00:00<00:00, 48.50it/s, accuracy=1]"
     ]
    },
    {
     "name": "stdout",
     "output_type": "stream",
     "text": [
      "Epoch 104\n"
     ]
    },
    {
     "name": "stderr",
     "output_type": "stream",
     "text": [
      "\n",
      "Training: 100%|██████████| 15/15 [00:00<00:00, 29.65it/s, loss=0.18]\n",
      "Validation: 100%|██████████| 5/5 [00:00<00:00, 50.39it/s, accuracy=1]"
     ]
    },
    {
     "name": "stdout",
     "output_type": "stream",
     "text": [
      "Epoch 105\n"
     ]
    },
    {
     "name": "stderr",
     "output_type": "stream",
     "text": [
      "\n",
      "Training: 100%|██████████| 15/15 [00:00<00:00, 29.73it/s, loss=0.186]\n",
      "Validation: 100%|██████████| 5/5 [00:00<00:00, 50.87it/s, accuracy=1]"
     ]
    },
    {
     "name": "stdout",
     "output_type": "stream",
     "text": [
      "Epoch 106\n"
     ]
    },
    {
     "name": "stderr",
     "output_type": "stream",
     "text": [
      "\n",
      "Training: 100%|██████████| 15/15 [00:00<00:00, 29.05it/s, loss=0.227]\n",
      "Validation: 100%|██████████| 5/5 [00:00<00:00, 49.89it/s, accuracy=1]"
     ]
    },
    {
     "name": "stdout",
     "output_type": "stream",
     "text": [
      "Epoch 107\n"
     ]
    },
    {
     "name": "stderr",
     "output_type": "stream",
     "text": [
      "\n",
      "Training: 100%|██████████| 15/15 [00:00<00:00, 29.35it/s, loss=0.148]\n",
      "Validation: 100%|██████████| 5/5 [00:00<00:00, 47.86it/s, accuracy=1]"
     ]
    },
    {
     "name": "stdout",
     "output_type": "stream",
     "text": [
      "Epoch 108\n"
     ]
    },
    {
     "name": "stderr",
     "output_type": "stream",
     "text": [
      "\n",
      "Training: 100%|██████████| 15/15 [00:00<00:00, 28.54it/s, loss=0.199]\n",
      "Validation: 100%|██████████| 5/5 [00:00<00:00, 50.86it/s, accuracy=1]"
     ]
    },
    {
     "name": "stdout",
     "output_type": "stream",
     "text": [
      "Epoch 109\n"
     ]
    },
    {
     "name": "stderr",
     "output_type": "stream",
     "text": [
      "\n",
      "Training: 100%|██████████| 15/15 [00:00<00:00, 29.82it/s, loss=0.123]\n",
      "Validation: 100%|██████████| 5/5 [00:00<00:00, 54.69it/s, accuracy=1]"
     ]
    },
    {
     "name": "stdout",
     "output_type": "stream",
     "text": [
      "Epoch 110\n"
     ]
    },
    {
     "name": "stderr",
     "output_type": "stream",
     "text": [
      "\n",
      "Training: 100%|██████████| 15/15 [00:00<00:00, 29.73it/s, loss=0.179]\n",
      "Validation: 100%|██████████| 5/5 [00:00<00:00, 49.13it/s, accuracy=1]"
     ]
    },
    {
     "name": "stdout",
     "output_type": "stream",
     "text": [
      "Epoch 111\n"
     ]
    },
    {
     "name": "stderr",
     "output_type": "stream",
     "text": [
      "\n",
      "Training: 100%|██████████| 15/15 [00:00<00:00, 29.55it/s, loss=0.167]\n",
      "Validation: 100%|██████████| 5/5 [00:00<00:00, 50.81it/s, accuracy=1]"
     ]
    },
    {
     "name": "stdout",
     "output_type": "stream",
     "text": [
      "Epoch 112\n"
     ]
    },
    {
     "name": "stderr",
     "output_type": "stream",
     "text": [
      "\n",
      "Training: 100%|██████████| 15/15 [00:00<00:00, 29.95it/s, loss=0.137]\n",
      "Validation: 100%|██████████| 5/5 [00:00<00:00, 50.72it/s, accuracy=1]"
     ]
    },
    {
     "name": "stdout",
     "output_type": "stream",
     "text": [
      "Epoch 113\n"
     ]
    },
    {
     "name": "stderr",
     "output_type": "stream",
     "text": [
      "\n",
      "Training: 100%|██████████| 15/15 [00:00<00:00, 29.30it/s, loss=0.249]\n",
      "Validation: 100%|██████████| 5/5 [00:00<00:00, 48.20it/s, accuracy=1]"
     ]
    },
    {
     "name": "stdout",
     "output_type": "stream",
     "text": [
      "Epoch 114\n"
     ]
    },
    {
     "name": "stderr",
     "output_type": "stream",
     "text": [
      "\n",
      "Training: 100%|██████████| 15/15 [00:00<00:00, 29.15it/s, loss=0.283]\n",
      "Validation: 100%|██████████| 5/5 [00:00<00:00, 48.47it/s, accuracy=1]"
     ]
    },
    {
     "name": "stdout",
     "output_type": "stream",
     "text": [
      "Epoch 115\n"
     ]
    },
    {
     "name": "stderr",
     "output_type": "stream",
     "text": [
      "\n",
      "Training: 100%|██████████| 15/15 [00:00<00:00, 28.64it/s, loss=0.158]\n",
      "Validation: 100%|██████████| 5/5 [00:00<00:00, 51.73it/s, accuracy=1]"
     ]
    },
    {
     "name": "stdout",
     "output_type": "stream",
     "text": [
      "Epoch 116\n"
     ]
    },
    {
     "name": "stderr",
     "output_type": "stream",
     "text": [
      "\n",
      "Training: 100%|██████████| 15/15 [00:00<00:00, 28.51it/s, loss=0.184]\n",
      "Validation: 100%|██████████| 5/5 [00:00<00:00, 50.49it/s, accuracy=1]"
     ]
    },
    {
     "name": "stdout",
     "output_type": "stream",
     "text": [
      "Epoch 117\n"
     ]
    },
    {
     "name": "stderr",
     "output_type": "stream",
     "text": [
      "\n",
      "Training: 100%|██████████| 15/15 [00:00<00:00, 30.35it/s, loss=0.198]\n",
      "Validation: 100%|██████████| 5/5 [00:00<00:00, 52.31it/s, accuracy=1]"
     ]
    },
    {
     "name": "stdout",
     "output_type": "stream",
     "text": [
      "Epoch 118\n"
     ]
    },
    {
     "name": "stderr",
     "output_type": "stream",
     "text": [
      "\n",
      "Training: 100%|██████████| 15/15 [00:00<00:00, 30.05it/s, loss=0.172]\n",
      "Validation: 100%|██████████| 5/5 [00:00<00:00, 50.23it/s, accuracy=1]"
     ]
    },
    {
     "name": "stdout",
     "output_type": "stream",
     "text": [
      "Epoch 119\n"
     ]
    },
    {
     "name": "stderr",
     "output_type": "stream",
     "text": [
      "\n",
      "Training: 100%|██████████| 15/15 [00:00<00:00, 29.66it/s, loss=0.163]\n",
      "Validation: 100%|██████████| 5/5 [00:00<00:00, 51.38it/s, accuracy=1]"
     ]
    },
    {
     "name": "stdout",
     "output_type": "stream",
     "text": [
      "Epoch 120\n"
     ]
    },
    {
     "name": "stderr",
     "output_type": "stream",
     "text": [
      "\n",
      "Training: 100%|██████████| 15/15 [00:00<00:00, 28.67it/s, loss=0.119]\n",
      "Validation: 100%|██████████| 5/5 [00:00<00:00, 51.64it/s, accuracy=1]"
     ]
    },
    {
     "name": "stdout",
     "output_type": "stream",
     "text": [
      "Epoch 121\n"
     ]
    },
    {
     "name": "stderr",
     "output_type": "stream",
     "text": [
      "\n",
      "Training: 100%|██████████| 15/15 [00:00<00:00, 29.74it/s, loss=0.089]\n",
      "Validation: 100%|██████████| 5/5 [00:00<00:00, 49.12it/s, accuracy=1]"
     ]
    },
    {
     "name": "stdout",
     "output_type": "stream",
     "text": [
      "Epoch 122\n"
     ]
    },
    {
     "name": "stderr",
     "output_type": "stream",
     "text": [
      "\n",
      "Training: 100%|██████████| 15/15 [00:00<00:00, 30.16it/s, loss=0.0726]\n",
      "Validation: 100%|██████████| 5/5 [00:00<00:00, 52.60it/s, accuracy=1]"
     ]
    },
    {
     "name": "stdout",
     "output_type": "stream",
     "text": [
      "Epoch 123\n"
     ]
    },
    {
     "name": "stderr",
     "output_type": "stream",
     "text": [
      "\n",
      "Training: 100%|██████████| 15/15 [00:00<00:00, 29.61it/s, loss=0.0844]\n",
      "Validation: 100%|██████████| 5/5 [00:00<00:00, 51.07it/s, accuracy=1]"
     ]
    },
    {
     "name": "stdout",
     "output_type": "stream",
     "text": [
      "Epoch 124\n"
     ]
    },
    {
     "name": "stderr",
     "output_type": "stream",
     "text": [
      "\n",
      "Training: 100%|██████████| 15/15 [00:00<00:00, 29.44it/s, loss=0.0392]\n",
      "Validation: 100%|██████████| 5/5 [00:00<00:00, 49.01it/s, accuracy=1]"
     ]
    },
    {
     "name": "stdout",
     "output_type": "stream",
     "text": [
      "Epoch 125\n"
     ]
    },
    {
     "name": "stderr",
     "output_type": "stream",
     "text": [
      "\n",
      "Training: 100%|██████████| 15/15 [00:00<00:00, 29.82it/s, loss=0.0715]\n",
      "Validation: 100%|██████████| 5/5 [00:00<00:00, 50.73it/s, accuracy=1]"
     ]
    },
    {
     "name": "stdout",
     "output_type": "stream",
     "text": [
      "Epoch 126\n"
     ]
    },
    {
     "name": "stderr",
     "output_type": "stream",
     "text": [
      "\n",
      "Training: 100%|██████████| 15/15 [00:00<00:00, 29.77it/s, loss=0.0369]\n",
      "Validation: 100%|██████████| 5/5 [00:00<00:00, 50.31it/s, accuracy=1]"
     ]
    },
    {
     "name": "stdout",
     "output_type": "stream",
     "text": [
      "Epoch 127\n"
     ]
    },
    {
     "name": "stderr",
     "output_type": "stream",
     "text": [
      "\n",
      "Training: 100%|██████████| 15/15 [00:00<00:00, 28.40it/s, loss=0.0312]\n",
      "Validation: 100%|██████████| 5/5 [00:00<00:00, 50.56it/s, accuracy=1]"
     ]
    },
    {
     "name": "stdout",
     "output_type": "stream",
     "text": [
      "Epoch 128\n"
     ]
    },
    {
     "name": "stderr",
     "output_type": "stream",
     "text": [
      "\n",
      "Training: 100%|██████████| 15/15 [00:00<00:00, 29.74it/s, loss=0.0556]\n",
      "Validation: 100%|██████████| 5/5 [00:00<00:00, 48.84it/s, accuracy=1]"
     ]
    },
    {
     "name": "stdout",
     "output_type": "stream",
     "text": [
      "Epoch 129\n"
     ]
    },
    {
     "name": "stderr",
     "output_type": "stream",
     "text": [
      "\n",
      "Training: 100%|██████████| 15/15 [00:00<00:00, 30.46it/s, loss=0.055]\n",
      "Validation: 100%|██████████| 5/5 [00:00<00:00, 53.02it/s, accuracy=1]"
     ]
    },
    {
     "name": "stdout",
     "output_type": "stream",
     "text": [
      "Epoch 130\n"
     ]
    },
    {
     "name": "stderr",
     "output_type": "stream",
     "text": [
      "\n",
      "Training: 100%|██████████| 15/15 [00:00<00:00, 30.12it/s, loss=0.0479]\n",
      "Validation: 100%|██████████| 5/5 [00:00<00:00, 52.15it/s, accuracy=1]"
     ]
    },
    {
     "name": "stdout",
     "output_type": "stream",
     "text": [
      "Epoch 131\n"
     ]
    },
    {
     "name": "stderr",
     "output_type": "stream",
     "text": [
      "\n",
      "Training: 100%|██████████| 15/15 [00:00<00:00, 29.35it/s, loss=0.0542]\n",
      "Validation: 100%|██████████| 5/5 [00:00<00:00, 51.86it/s, accuracy=1]"
     ]
    },
    {
     "name": "stdout",
     "output_type": "stream",
     "text": [
      "Epoch 132\n"
     ]
    },
    {
     "name": "stderr",
     "output_type": "stream",
     "text": [
      "\n",
      "Training: 100%|██████████| 15/15 [00:00<00:00, 29.55it/s, loss=0.0408]\n",
      "Validation: 100%|██████████| 5/5 [00:00<00:00, 53.46it/s, accuracy=1]"
     ]
    },
    {
     "name": "stdout",
     "output_type": "stream",
     "text": [
      "Epoch 133\n"
     ]
    },
    {
     "name": "stderr",
     "output_type": "stream",
     "text": [
      "\n",
      "Training: 100%|██████████| 15/15 [00:00<00:00, 29.56it/s, loss=0.044]\n",
      "Validation: 100%|██████████| 5/5 [00:00<00:00, 48.60it/s, accuracy=1]"
     ]
    },
    {
     "name": "stdout",
     "output_type": "stream",
     "text": [
      "Epoch 134\n"
     ]
    },
    {
     "name": "stderr",
     "output_type": "stream",
     "text": [
      "\n",
      "Training: 100%|██████████| 15/15 [00:00<00:00, 29.36it/s, loss=0.0257]\n",
      "Validation: 100%|██████████| 5/5 [00:00<00:00, 49.16it/s, accuracy=1]"
     ]
    },
    {
     "name": "stdout",
     "output_type": "stream",
     "text": [
      "Epoch 135\n"
     ]
    },
    {
     "name": "stderr",
     "output_type": "stream",
     "text": [
      "\n",
      "Training: 100%|██████████| 15/15 [00:00<00:00, 30.34it/s, loss=0.0254]\n",
      "Validation: 100%|██████████| 5/5 [00:00<00:00, 53.66it/s, accuracy=1]\n"
     ]
    },
    {
     "name": "stdout",
     "output_type": "stream",
     "text": [
      "Epoch 136\n"
     ]
    },
    {
     "name": "stderr",
     "output_type": "stream",
     "text": [
      "Training: 100%|██████████| 15/15 [00:00<00:00, 29.90it/s, loss=0.0462]\n",
      "Validation: 100%|██████████| 5/5 [00:00<00:00, 49.79it/s, accuracy=1]"
     ]
    },
    {
     "name": "stdout",
     "output_type": "stream",
     "text": [
      "Epoch 137\n"
     ]
    },
    {
     "name": "stderr",
     "output_type": "stream",
     "text": [
      "\n",
      "Training: 100%|██████████| 15/15 [00:00<00:00, 29.86it/s, loss=0.0488]\n",
      "Validation: 100%|██████████| 5/5 [00:00<00:00, 48.14it/s, accuracy=1]"
     ]
    },
    {
     "name": "stdout",
     "output_type": "stream",
     "text": [
      "Epoch 138\n"
     ]
    },
    {
     "name": "stderr",
     "output_type": "stream",
     "text": [
      "\n",
      "Training: 100%|██████████| 15/15 [00:00<00:00, 29.43it/s, loss=0.0322]\n",
      "Validation: 100%|██████████| 5/5 [00:00<00:00, 53.97it/s, accuracy=1]"
     ]
    },
    {
     "name": "stdout",
     "output_type": "stream",
     "text": [
      "Epoch 139\n"
     ]
    },
    {
     "name": "stderr",
     "output_type": "stream",
     "text": [
      "\n",
      "Training: 100%|██████████| 15/15 [00:00<00:00, 28.00it/s, loss=0.0302]\n",
      "Validation: 100%|██████████| 5/5 [00:00<00:00, 39.10it/s, accuracy=1]"
     ]
    },
    {
     "name": "stdout",
     "output_type": "stream",
     "text": [
      "Epoch 140\n"
     ]
    },
    {
     "name": "stderr",
     "output_type": "stream",
     "text": [
      "\n",
      "Training: 100%|██████████| 15/15 [00:00<00:00, 26.93it/s, loss=0.024]\n",
      "Validation: 100%|██████████| 5/5 [00:00<00:00, 39.15it/s, accuracy=1]"
     ]
    },
    {
     "name": "stdout",
     "output_type": "stream",
     "text": [
      "Epoch 141\n"
     ]
    },
    {
     "name": "stderr",
     "output_type": "stream",
     "text": [
      "\n",
      "Training: 100%|██████████| 15/15 [00:00<00:00, 29.23it/s, loss=0.0364]\n",
      "Validation: 100%|██████████| 5/5 [00:00<00:00, 51.14it/s, accuracy=1]"
     ]
    },
    {
     "name": "stdout",
     "output_type": "stream",
     "text": [
      "Epoch 142\n"
     ]
    },
    {
     "name": "stderr",
     "output_type": "stream",
     "text": [
      "\n",
      "Training: 100%|██████████| 15/15 [00:00<00:00, 29.84it/s, loss=0.0302]\n",
      "Validation: 100%|██████████| 5/5 [00:00<00:00, 50.22it/s, accuracy=1]"
     ]
    },
    {
     "name": "stdout",
     "output_type": "stream",
     "text": [
      "Epoch 143\n"
     ]
    },
    {
     "name": "stderr",
     "output_type": "stream",
     "text": [
      "\n",
      "Training: 100%|██████████| 15/15 [00:00<00:00, 29.81it/s, loss=0.0253]\n",
      "Validation: 100%|██████████| 5/5 [00:00<00:00, 50.91it/s, accuracy=1]"
     ]
    },
    {
     "name": "stdout",
     "output_type": "stream",
     "text": [
      "Epoch 144\n"
     ]
    },
    {
     "name": "stderr",
     "output_type": "stream",
     "text": [
      "\n",
      "Training: 100%|██████████| 15/15 [00:00<00:00, 29.26it/s, loss=0.0355]\n",
      "Validation: 100%|██████████| 5/5 [00:00<00:00, 42.96it/s, accuracy=1]"
     ]
    },
    {
     "name": "stdout",
     "output_type": "stream",
     "text": [
      "Epoch 145\n"
     ]
    },
    {
     "name": "stderr",
     "output_type": "stream",
     "text": [
      "\n",
      "Training: 100%|██████████| 15/15 [00:00<00:00, 28.89it/s, loss=0.0266]\n",
      "Validation: 100%|██████████| 5/5 [00:00<00:00, 51.34it/s, accuracy=1]"
     ]
    },
    {
     "name": "stdout",
     "output_type": "stream",
     "text": [
      "Epoch 146\n"
     ]
    },
    {
     "name": "stderr",
     "output_type": "stream",
     "text": [
      "\n",
      "Training: 100%|██████████| 15/15 [00:00<00:00, 29.74it/s, loss=0.033]\n",
      "Validation: 100%|██████████| 5/5 [00:00<00:00, 53.98it/s, accuracy=1]"
     ]
    },
    {
     "name": "stdout",
     "output_type": "stream",
     "text": [
      "Epoch 147\n"
     ]
    },
    {
     "name": "stderr",
     "output_type": "stream",
     "text": [
      "\n",
      "Training: 100%|██████████| 15/15 [00:00<00:00, 29.31it/s, loss=0.0355]\n",
      "Validation: 100%|██████████| 5/5 [00:00<00:00, 52.44it/s, accuracy=1]"
     ]
    },
    {
     "name": "stdout",
     "output_type": "stream",
     "text": [
      "Epoch 148\n"
     ]
    },
    {
     "name": "stderr",
     "output_type": "stream",
     "text": [
      "\n",
      "Training: 100%|██████████| 15/15 [00:00<00:00, 29.52it/s, loss=0.0202]\n",
      "Validation: 100%|██████████| 5/5 [00:00<00:00, 47.60it/s, accuracy=1]"
     ]
    },
    {
     "name": "stdout",
     "output_type": "stream",
     "text": [
      "Epoch 149\n"
     ]
    },
    {
     "name": "stderr",
     "output_type": "stream",
     "text": [
      "\n",
      "Training: 100%|██████████| 15/15 [00:00<00:00, 29.21it/s, loss=0.0381]\n",
      "Validation: 100%|██████████| 5/5 [00:00<00:00, 48.92it/s, accuracy=1]"
     ]
    },
    {
     "name": "stdout",
     "output_type": "stream",
     "text": [
      "Epoch 150\n"
     ]
    },
    {
     "name": "stderr",
     "output_type": "stream",
     "text": [
      "\n",
      "Training: 100%|██████████| 15/15 [00:00<00:00, 29.64it/s, loss=0.0237]\n",
      "Validation: 100%|██████████| 5/5 [00:00<00:00, 50.89it/s, accuracy=1]"
     ]
    },
    {
     "name": "stdout",
     "output_type": "stream",
     "text": [
      "Epoch 151\n"
     ]
    },
    {
     "name": "stderr",
     "output_type": "stream",
     "text": [
      "\n",
      "Training: 100%|██████████| 15/15 [00:00<00:00, 28.08it/s, loss=0.0303]\n",
      "Validation: 100%|██████████| 5/5 [00:00<00:00, 55.94it/s, accuracy=1]\n"
     ]
    },
    {
     "name": "stdout",
     "output_type": "stream",
     "text": [
      "Epoch 152\n"
     ]
    },
    {
     "name": "stderr",
     "output_type": "stream",
     "text": [
      "Training: 100%|██████████| 15/15 [00:00<00:00, 29.09it/s, loss=0.03]\n",
      "Validation: 100%|██████████| 5/5 [00:00<00:00, 52.16it/s, accuracy=0.855]"
     ]
    },
    {
     "name": "stdout",
     "output_type": "stream",
     "text": [
      "Epoch 153\n"
     ]
    },
    {
     "name": "stderr",
     "output_type": "stream",
     "text": [
      "\n",
      "Training: 100%|██████████| 15/15 [00:00<00:00, 29.35it/s, loss=0.0242]\n",
      "Validation: 100%|██████████| 5/5 [00:00<00:00, 50.63it/s, accuracy=1]"
     ]
    },
    {
     "name": "stdout",
     "output_type": "stream",
     "text": [
      "Epoch 154\n"
     ]
    },
    {
     "name": "stderr",
     "output_type": "stream",
     "text": [
      "\n",
      "Training: 100%|██████████| 15/15 [00:00<00:00, 29.08it/s, loss=0.0191]\n",
      "Validation: 100%|██████████| 5/5 [00:00<00:00, 53.70it/s, accuracy=1]"
     ]
    },
    {
     "name": "stdout",
     "output_type": "stream",
     "text": [
      "Epoch 155\n"
     ]
    },
    {
     "name": "stderr",
     "output_type": "stream",
     "text": [
      "\n",
      "Training: 100%|██████████| 15/15 [00:00<00:00, 29.73it/s, loss=0.0254]\n",
      "Validation: 100%|██████████| 5/5 [00:00<00:00, 48.79it/s, accuracy=1]"
     ]
    },
    {
     "name": "stdout",
     "output_type": "stream",
     "text": [
      "Epoch 156\n"
     ]
    },
    {
     "name": "stderr",
     "output_type": "stream",
     "text": [
      "\n",
      "Training: 100%|██████████| 15/15 [00:00<00:00, 29.86it/s, loss=0.0236]\n",
      "Validation: 100%|██████████| 5/5 [00:00<00:00, 49.78it/s, accuracy=0.85]"
     ]
    },
    {
     "name": "stdout",
     "output_type": "stream",
     "text": [
      "Epoch 157\n"
     ]
    },
    {
     "name": "stderr",
     "output_type": "stream",
     "text": [
      "\n",
      "Training: 100%|██████████| 15/15 [00:00<00:00, 29.44it/s, loss=0.0296]\n",
      "Validation: 100%|██████████| 5/5 [00:00<00:00, 54.66it/s, accuracy=1]"
     ]
    },
    {
     "name": "stdout",
     "output_type": "stream",
     "text": [
      "Epoch 158\n"
     ]
    },
    {
     "name": "stderr",
     "output_type": "stream",
     "text": [
      "\n",
      "Training: 100%|██████████| 15/15 [00:00<00:00, 30.27it/s, loss=0.0305]\n",
      "Validation: 100%|██████████| 5/5 [00:00<00:00, 49.63it/s, accuracy=1]"
     ]
    },
    {
     "name": "stdout",
     "output_type": "stream",
     "text": [
      "Epoch 159\n"
     ]
    },
    {
     "name": "stderr",
     "output_type": "stream",
     "text": [
      "\n",
      "Training: 100%|██████████| 15/15 [00:00<00:00, 29.36it/s, loss=0.0228]\n",
      "Validation: 100%|██████████| 5/5 [00:00<00:00, 52.55it/s, accuracy=1]"
     ]
    },
    {
     "name": "stdout",
     "output_type": "stream",
     "text": [
      "Epoch 160\n"
     ]
    },
    {
     "name": "stderr",
     "output_type": "stream",
     "text": [
      "\n",
      "Training: 100%|██████████| 15/15 [00:00<00:00, 29.21it/s, loss=0.0256]\n",
      "Validation: 100%|██████████| 5/5 [00:00<00:00, 47.56it/s, accuracy=1]"
     ]
    },
    {
     "name": "stdout",
     "output_type": "stream",
     "text": [
      "Epoch 161\n"
     ]
    },
    {
     "name": "stderr",
     "output_type": "stream",
     "text": [
      "\n",
      "Training: 100%|██████████| 15/15 [00:00<00:00, 29.84it/s, loss=0.024]\n",
      "Validation: 100%|██████████| 5/5 [00:00<00:00, 48.79it/s, accuracy=1]"
     ]
    },
    {
     "name": "stdout",
     "output_type": "stream",
     "text": [
      "Epoch 162\n"
     ]
    },
    {
     "name": "stderr",
     "output_type": "stream",
     "text": [
      "\n",
      "Training: 100%|██████████| 15/15 [00:00<00:00, 29.82it/s, loss=0.023]\n",
      "Validation: 100%|██████████| 5/5 [00:00<00:00, 48.25it/s, accuracy=1]"
     ]
    },
    {
     "name": "stdout",
     "output_type": "stream",
     "text": [
      "Epoch 163\n"
     ]
    },
    {
     "name": "stderr",
     "output_type": "stream",
     "text": [
      "\n",
      "Training: 100%|██████████| 15/15 [00:00<00:00, 28.66it/s, loss=0.0179]\n",
      "Validation: 100%|██████████| 5/5 [00:00<00:00, 48.63it/s, accuracy=1]"
     ]
    },
    {
     "name": "stdout",
     "output_type": "stream",
     "text": [
      "Epoch 164\n"
     ]
    },
    {
     "name": "stderr",
     "output_type": "stream",
     "text": [
      "\n",
      "Training: 100%|██████████| 15/15 [00:00<00:00, 29.37it/s, loss=0.0248]\n",
      "Validation: 100%|██████████| 5/5 [00:00<00:00, 49.00it/s, accuracy=1]"
     ]
    },
    {
     "name": "stdout",
     "output_type": "stream",
     "text": [
      "Epoch 165\n"
     ]
    },
    {
     "name": "stderr",
     "output_type": "stream",
     "text": [
      "\n",
      "Training: 100%|██████████| 15/15 [00:00<00:00, 29.51it/s, loss=0.0313]\n",
      "Validation: 100%|██████████| 5/5 [00:00<00:00, 53.07it/s, accuracy=1]\n"
     ]
    },
    {
     "name": "stdout",
     "output_type": "stream",
     "text": [
      "Epoch 166\n"
     ]
    },
    {
     "name": "stderr",
     "output_type": "stream",
     "text": [
      "Training: 100%|██████████| 15/15 [00:00<00:00, 28.92it/s, loss=0.0166]\n",
      "Validation: 100%|██████████| 5/5 [00:00<00:00, 49.41it/s, accuracy=1]"
     ]
    },
    {
     "name": "stdout",
     "output_type": "stream",
     "text": [
      "Epoch 167\n"
     ]
    },
    {
     "name": "stderr",
     "output_type": "stream",
     "text": [
      "\n",
      "Training: 100%|██████████| 15/15 [00:00<00:00, 29.38it/s, loss=0.016]\n",
      "Validation: 100%|██████████| 5/5 [00:00<00:00, 48.47it/s, accuracy=1]"
     ]
    },
    {
     "name": "stdout",
     "output_type": "stream",
     "text": [
      "Epoch 168\n"
     ]
    },
    {
     "name": "stderr",
     "output_type": "stream",
     "text": [
      "\n",
      "Training: 100%|██████████| 15/15 [00:00<00:00, 29.93it/s, loss=0.0162]\n",
      "Validation: 100%|██████████| 5/5 [00:00<00:00, 50.83it/s, accuracy=1]"
     ]
    },
    {
     "name": "stdout",
     "output_type": "stream",
     "text": [
      "Epoch 169\n"
     ]
    },
    {
     "name": "stderr",
     "output_type": "stream",
     "text": [
      "\n",
      "Training: 100%|██████████| 15/15 [00:00<00:00, 28.82it/s, loss=0.0138]\n",
      "Validation: 100%|██████████| 5/5 [00:00<00:00, 51.45it/s, accuracy=0.85]"
     ]
    },
    {
     "name": "stdout",
     "output_type": "stream",
     "text": [
      "Epoch 170\n"
     ]
    },
    {
     "name": "stderr",
     "output_type": "stream",
     "text": [
      "\n",
      "Training: 100%|██████████| 15/15 [00:00<00:00, 29.15it/s, loss=0.0293]\n",
      "Validation: 100%|██████████| 5/5 [00:00<00:00, 49.32it/s, accuracy=1]\n"
     ]
    },
    {
     "name": "stdout",
     "output_type": "stream",
     "text": [
      "Epoch 171\n"
     ]
    },
    {
     "name": "stderr",
     "output_type": "stream",
     "text": [
      "Training: 100%|██████████| 15/15 [00:00<00:00, 29.74it/s, loss=0.0343]\n",
      "Validation: 100%|██████████| 5/5 [00:00<00:00, 52.10it/s, accuracy=1]"
     ]
    },
    {
     "name": "stdout",
     "output_type": "stream",
     "text": [
      "Epoch 172\n"
     ]
    },
    {
     "name": "stderr",
     "output_type": "stream",
     "text": [
      "\n",
      "Training: 100%|██████████| 15/15 [00:00<00:00, 29.52it/s, loss=0.0217]\n",
      "Validation: 100%|██████████| 5/5 [00:00<00:00, 50.67it/s, accuracy=1]"
     ]
    },
    {
     "name": "stdout",
     "output_type": "stream",
     "text": [
      "Epoch 173\n"
     ]
    },
    {
     "name": "stderr",
     "output_type": "stream",
     "text": [
      "\n",
      "Training: 100%|██████████| 15/15 [00:00<00:00, 29.52it/s, loss=0.0179]\n",
      "Validation: 100%|██████████| 5/5 [00:00<00:00, 50.45it/s, accuracy=1]"
     ]
    },
    {
     "name": "stdout",
     "output_type": "stream",
     "text": [
      "Epoch 174\n"
     ]
    },
    {
     "name": "stderr",
     "output_type": "stream",
     "text": [
      "\n",
      "Training: 100%|██████████| 15/15 [00:00<00:00, 29.51it/s, loss=0.0376]\n",
      "Validation: 100%|██████████| 5/5 [00:00<00:00, 50.54it/s, accuracy=1]"
     ]
    },
    {
     "name": "stdout",
     "output_type": "stream",
     "text": [
      "Epoch 175\n"
     ]
    },
    {
     "name": "stderr",
     "output_type": "stream",
     "text": [
      "\n",
      "Training: 100%|██████████| 15/15 [00:00<00:00, 28.39it/s, loss=0.0209]\n",
      "Validation: 100%|██████████| 5/5 [00:00<00:00, 55.17it/s, accuracy=1]\n"
     ]
    },
    {
     "name": "stdout",
     "output_type": "stream",
     "text": [
      "Epoch 176\n"
     ]
    },
    {
     "name": "stderr",
     "output_type": "stream",
     "text": [
      "Training: 100%|██████████| 15/15 [00:00<00:00, 30.04it/s, loss=0.0243]\n",
      "Validation: 100%|██████████| 5/5 [00:00<00:00, 52.36it/s, accuracy=1]"
     ]
    },
    {
     "name": "stdout",
     "output_type": "stream",
     "text": [
      "Epoch 177\n"
     ]
    },
    {
     "name": "stderr",
     "output_type": "stream",
     "text": [
      "\n",
      "Training: 100%|██████████| 15/15 [00:00<00:00, 28.76it/s, loss=0.0338]\n",
      "Validation: 100%|██████████| 5/5 [00:00<00:00, 41.43it/s, accuracy=1]"
     ]
    },
    {
     "name": "stdout",
     "output_type": "stream",
     "text": [
      "Epoch 178\n"
     ]
    },
    {
     "name": "stderr",
     "output_type": "stream",
     "text": [
      "\n",
      "Training: 100%|██████████| 15/15 [00:00<00:00, 27.07it/s, loss=0.032]\n",
      "Validation: 100%|██████████| 5/5 [00:00<00:00, 42.64it/s, accuracy=1]"
     ]
    },
    {
     "name": "stdout",
     "output_type": "stream",
     "text": [
      "Epoch 179\n"
     ]
    },
    {
     "name": "stderr",
     "output_type": "stream",
     "text": [
      "\n",
      "Training: 100%|██████████| 15/15 [00:00<00:00, 29.40it/s, loss=0.0154]\n",
      "Validation: 100%|██████████| 5/5 [00:00<00:00, 52.65it/s, accuracy=1]"
     ]
    },
    {
     "name": "stdout",
     "output_type": "stream",
     "text": [
      "Epoch 180\n"
     ]
    },
    {
     "name": "stderr",
     "output_type": "stream",
     "text": [
      "\n",
      "Training: 100%|██████████| 15/15 [00:00<00:00, 29.66it/s, loss=0.0129]\n",
      "Validation: 100%|██████████| 5/5 [00:00<00:00, 50.34it/s, accuracy=1]"
     ]
    },
    {
     "name": "stdout",
     "output_type": "stream",
     "text": [
      "Epoch 181\n"
     ]
    },
    {
     "name": "stderr",
     "output_type": "stream",
     "text": [
      "\n",
      "Training: 100%|██████████| 15/15 [00:00<00:00, 28.22it/s, loss=0.0344]\n",
      "Validation: 100%|██████████| 5/5 [00:00<00:00, 42.80it/s, accuracy=1]"
     ]
    },
    {
     "name": "stdout",
     "output_type": "stream",
     "text": [
      "Epoch 182\n"
     ]
    },
    {
     "name": "stderr",
     "output_type": "stream",
     "text": [
      "\n",
      "Training: 100%|██████████| 15/15 [00:00<00:00, 29.35it/s, loss=0.0187]\n",
      "Validation: 100%|██████████| 5/5 [00:00<00:00, 49.22it/s, accuracy=1]\n"
     ]
    },
    {
     "name": "stdout",
     "output_type": "stream",
     "text": [
      "Epoch 183\n"
     ]
    },
    {
     "name": "stderr",
     "output_type": "stream",
     "text": [
      "Training: 100%|██████████| 15/15 [00:00<00:00, 29.05it/s, loss=0.0136]\n",
      "Validation: 100%|██████████| 5/5 [00:00<00:00, 44.78it/s, accuracy=1]"
     ]
    },
    {
     "name": "stdout",
     "output_type": "stream",
     "text": [
      "Epoch 184\n"
     ]
    },
    {
     "name": "stderr",
     "output_type": "stream",
     "text": [
      "\n",
      "Training: 100%|██████████| 15/15 [00:00<00:00, 29.97it/s, loss=0.0143]\n",
      "Validation: 100%|██████████| 5/5 [00:00<00:00, 51.02it/s, accuracy=1]"
     ]
    },
    {
     "name": "stdout",
     "output_type": "stream",
     "text": [
      "Epoch 185\n"
     ]
    },
    {
     "name": "stderr",
     "output_type": "stream",
     "text": [
      "\n",
      "Training: 100%|██████████| 15/15 [00:00<00:00, 29.36it/s, loss=0.0199]\n",
      "Validation: 100%|██████████| 5/5 [00:00<00:00, 49.76it/s, accuracy=1]"
     ]
    },
    {
     "name": "stdout",
     "output_type": "stream",
     "text": [
      "Epoch 186\n"
     ]
    },
    {
     "name": "stderr",
     "output_type": "stream",
     "text": [
      "\n",
      "Training: 100%|██████████| 15/15 [00:00<00:00, 28.51it/s, loss=0.00705]\n",
      "Validation: 100%|██████████| 5/5 [00:00<00:00, 43.23it/s, accuracy=1]"
     ]
    },
    {
     "name": "stdout",
     "output_type": "stream",
     "text": [
      "Epoch 187\n"
     ]
    },
    {
     "name": "stderr",
     "output_type": "stream",
     "text": [
      "\n",
      "Training: 100%|██████████| 15/15 [00:00<00:00, 29.45it/s, loss=0.0243]\n",
      "Validation: 100%|██████████| 5/5 [00:00<00:00, 50.81it/s, accuracy=1]"
     ]
    },
    {
     "name": "stdout",
     "output_type": "stream",
     "text": [
      "Epoch 188\n"
     ]
    },
    {
     "name": "stderr",
     "output_type": "stream",
     "text": [
      "\n",
      "Training: 100%|██████████| 15/15 [00:00<00:00, 29.90it/s, loss=0.014]\n",
      "Validation: 100%|██████████| 5/5 [00:00<00:00, 49.79it/s, accuracy=1]"
     ]
    },
    {
     "name": "stdout",
     "output_type": "stream",
     "text": [
      "Epoch 189\n"
     ]
    },
    {
     "name": "stderr",
     "output_type": "stream",
     "text": [
      "\n",
      "Training: 100%|██████████| 15/15 [00:00<00:00, 29.42it/s, loss=0.0222]\n",
      "Validation: 100%|██████████| 5/5 [00:00<00:00, 50.92it/s, accuracy=1]"
     ]
    },
    {
     "name": "stdout",
     "output_type": "stream",
     "text": [
      "Epoch 190\n"
     ]
    },
    {
     "name": "stderr",
     "output_type": "stream",
     "text": [
      "\n",
      "Training: 100%|██████████| 15/15 [00:00<00:00, 29.16it/s, loss=0.019]\n",
      "Validation: 100%|██████████| 5/5 [00:00<00:00, 52.23it/s, accuracy=1]"
     ]
    },
    {
     "name": "stdout",
     "output_type": "stream",
     "text": [
      "Epoch 191\n"
     ]
    },
    {
     "name": "stderr",
     "output_type": "stream",
     "text": [
      "\n",
      "Training: 100%|██████████| 15/15 [00:00<00:00, 29.03it/s, loss=0.0154]\n",
      "Validation: 100%|██████████| 5/5 [00:00<00:00, 52.34it/s, accuracy=1]"
     ]
    },
    {
     "name": "stdout",
     "output_type": "stream",
     "text": [
      "Epoch 192\n"
     ]
    },
    {
     "name": "stderr",
     "output_type": "stream",
     "text": [
      "\n",
      "Training: 100%|██████████| 15/15 [00:00<00:00, 28.94it/s, loss=0.0178]\n",
      "Validation: 100%|██████████| 5/5 [00:00<00:00, 49.95it/s, accuracy=1]"
     ]
    },
    {
     "name": "stdout",
     "output_type": "stream",
     "text": [
      "Epoch 193\n"
     ]
    },
    {
     "name": "stderr",
     "output_type": "stream",
     "text": [
      "\n",
      "Training: 100%|██████████| 15/15 [00:00<00:00, 29.53it/s, loss=0.0233]\n",
      "Validation: 100%|██████████| 5/5 [00:00<00:00, 50.72it/s, accuracy=1]"
     ]
    },
    {
     "name": "stdout",
     "output_type": "stream",
     "text": [
      "Epoch 194\n"
     ]
    },
    {
     "name": "stderr",
     "output_type": "stream",
     "text": [
      "\n",
      "Training: 100%|██████████| 15/15 [00:00<00:00, 29.44it/s, loss=0.013]\n",
      "Validation: 100%|██████████| 5/5 [00:00<00:00, 51.85it/s, accuracy=1]"
     ]
    },
    {
     "name": "stdout",
     "output_type": "stream",
     "text": [
      "Epoch 195\n"
     ]
    },
    {
     "name": "stderr",
     "output_type": "stream",
     "text": [
      "\n",
      "Training: 100%|██████████| 15/15 [00:00<00:00, 29.58it/s, loss=0.0175]\n",
      "Validation: 100%|██████████| 5/5 [00:00<00:00, 50.79it/s, accuracy=0.845]"
     ]
    },
    {
     "name": "stdout",
     "output_type": "stream",
     "text": [
      "Epoch 196\n"
     ]
    },
    {
     "name": "stderr",
     "output_type": "stream",
     "text": [
      "\n",
      "Training: 100%|██████████| 15/15 [00:00<00:00, 29.98it/s, loss=0.0299]\n",
      "Validation: 100%|██████████| 5/5 [00:00<00:00, 48.08it/s, accuracy=1]"
     ]
    },
    {
     "name": "stdout",
     "output_type": "stream",
     "text": [
      "Epoch 197\n"
     ]
    },
    {
     "name": "stderr",
     "output_type": "stream",
     "text": [
      "\n",
      "Training: 100%|██████████| 15/15 [00:00<00:00, 29.97it/s, loss=0.0155]\n",
      "Validation: 100%|██████████| 5/5 [00:00<00:00, 50.27it/s, accuracy=1]"
     ]
    },
    {
     "name": "stdout",
     "output_type": "stream",
     "text": [
      "Epoch 198\n"
     ]
    },
    {
     "name": "stderr",
     "output_type": "stream",
     "text": [
      "\n",
      "Training: 100%|██████████| 15/15 [00:00<00:00, 28.88it/s, loss=0.0168]\n",
      "Validation: 100%|██████████| 5/5 [00:00<00:00, 40.72it/s, accuracy=1]"
     ]
    },
    {
     "name": "stdout",
     "output_type": "stream",
     "text": [
      "Epoch 199\n"
     ]
    },
    {
     "name": "stderr",
     "output_type": "stream",
     "text": [
      "\n",
      "Training: 100%|██████████| 15/15 [00:00<00:00, 29.32it/s, loss=0.0166]\n",
      "Validation: 100%|██████████| 5/5 [00:00<00:00, 53.08it/s, accuracy=1]\n"
     ]
    }
   ],
   "source": [
    "# Attack\n",
    "\n",
    "\n",
    "LOSS_FUNCTION = nn.CrossEntropyLoss()\n",
    "\n",
    "tb_writer = SummaryWriter(log_dir=str(tb_logs_dir))\n",
    "\n",
    "best_state = attack_classifier.state_dict()\n",
    "best_validation_accuracy = 0.0\n",
    "for epoch in range(n_epochs):\n",
    "    print(f\"Epoch {epoch}\")\n",
    "    average_loss = training_epoch(attack_classifier, atk_train_loader, atk_train_optimizer)\n",
    "    validation_accuracy = evaluate(\n",
    "        attack_classifier, atk_val_loader, device=DEVICE, tqdm_prefix=\"Validation\"\n",
    "    )\n",
    "\n",
    "    if validation_accuracy > best_validation_accuracy:\n",
    "        best_validation_accuracy = validation_accuracy\n",
    "        best_state = copy.deepcopy(attack_classifier.state_dict())\n",
    "        # state_dict() returns a reference to the still evolving model's state so we deepcopy\n",
    "        # https://pytorch.org/tutorials/beginner/saving_loading_models\n",
    "        print(\"Ding ding ding! We found a new best model!\")\n",
    "\n",
    "    tb_writer.add_scalar(\"Train/loss\", average_loss, epoch)\n",
    "    tb_writer.add_scalar(\"Val/acc\", validation_accuracy, epoch)\n",
    "\n",
    "    # Warn the scheduler that we did an epoch\n",
    "    # so it knows when to decrease the learning rate\n",
    "    atk_train_scheduler.step()"
   ]
  },
  {
   "cell_type": "markdown",
   "id": "9f45f078",
   "metadata": {
    "collapsed": false,
    "id": "GqDp1bhcornp",
    "jupyter": {
     "outputs_hidden": false
    },
    "papermill": {
     "duration": 0.561284,
     "end_time": "2025-04-17T22:02:01.095995",
     "exception": false,
     "start_time": "2025-04-17T22:02:00.534711",
     "status": "completed"
    },
    "pycharm": {
     "name": "#%% md\n"
    },
    "tags": []
   },
   "source": [
    "Congrats! You performed Episodic Training using EasyFSL. If you want to compare with a model trained using classical training, look at [this other example notebook](classical_training.ipynb).\n"
   ]
  },
  {
   "cell_type": "markdown",
   "id": "46ac7d98",
   "metadata": {
    "papermill": {
     "duration": 0.597718,
     "end_time": "2025-04-17T22:02:02.312733",
     "exception": false,
     "start_time": "2025-04-17T22:02:01.715015",
     "status": "completed"
    },
    "tags": []
   },
   "source": []
  },
  {
   "cell_type": "markdown",
   "id": "7537dabf",
   "metadata": {
    "papermill": {
     "duration": 0.565475,
     "end_time": "2025-04-17T22:02:03.505618",
     "exception": false,
     "start_time": "2025-04-17T22:02:02.940143",
     "status": "completed"
    },
    "tags": []
   },
   "source": []
  },
  {
   "cell_type": "markdown",
   "id": "61f56d30",
   "metadata": {
    "id": "rK6rVM6sWoDO",
    "papermill": {
     "duration": 0.57071,
     "end_time": "2025-04-17T22:02:04.692404",
     "exception": false,
     "start_time": "2025-04-17T22:02:04.121694",
     "status": "completed"
    },
    "tags": []
   },
   "source": [
    "# Classical Model"
   ]
  },
  {
   "cell_type": "code",
   "execution_count": 18,
   "id": "18e153e3",
   "metadata": {
    "execution": {
     "iopub.execute_input": "2025-04-17T22:02:05.854156Z",
     "iopub.status.busy": "2025-04-17T22:02:05.853835Z",
     "iopub.status.idle": "2025-04-17T22:02:06.020232Z",
     "shell.execute_reply": "2025-04-17T22:02:06.019560Z"
    },
    "papermill": {
     "duration": 0.770377,
     "end_time": "2025-04-17T22:02:06.021813",
     "exception": false,
     "start_time": "2025-04-17T22:02:05.251436",
     "status": "completed"
    },
    "tags": []
   },
   "outputs": [],
   "source": [
    "from torch.utils.data import DataLoader\n",
    "\n",
    "\n",
    "batch_size = 128\n",
    "classical_train_loader = DataLoader(carhacking_dataset, batch_size=batch_size, shuffle=True, num_workers=0)\n",
    "\n",
    "classical_classifier = resnet12(\n",
    "    use_fc=True,\n",
    "    num_classes=len(set(carhacking_dataset.get_labels())),\n",
    ").to(DEVICE)\n",
    "\n",
    "val_classifier = PrototypicalNetworks(classical_classifier).to(DEVICE)\n",
    "\n",
    "LOSS_FUNCTION = nn.CrossEntropyLoss()\n",
    "\n",
    "scheduler_milestones = [150, 180]\n",
    "scheduler_gamma = 0.1\n",
    "learning_rate = 1e-01\n",
    "tb_logs_dir = Path(\".\")\n",
    "\n",
    "classical_train_optimizer = SGD(\n",
    "    classical_classifier.parameters(), lr=learning_rate, momentum=0.9, weight_decay=5e-4\n",
    ")\n",
    "classical_train_scheduler = MultiStepLR(\n",
    "    classical_train_optimizer,\n",
    "    milestones=scheduler_milestones,\n",
    "    gamma=scheduler_gamma,\n",
    ")\n",
    "\n",
    "tb_writer = SummaryWriter(log_dir=str(tb_logs_dir))\n"
   ]
  },
  {
   "cell_type": "code",
   "execution_count": 19,
   "id": "c9c026ae",
   "metadata": {
    "execution": {
     "iopub.execute_input": "2025-04-17T22:02:07.217643Z",
     "iopub.status.busy": "2025-04-17T22:02:07.217290Z",
     "iopub.status.idle": "2025-04-17T22:02:07.222146Z",
     "shell.execute_reply": "2025-04-17T22:02:07.221558Z"
    },
    "papermill": {
     "duration": 0.631405,
     "end_time": "2025-04-17T22:02:07.223645",
     "exception": false,
     "start_time": "2025-04-17T22:02:06.592240",
     "status": "completed"
    },
    "tags": []
   },
   "outputs": [],
   "source": [
    "def training_epoch2(model_: nn.Module, data_loader: DataLoader, optimizer: Optimizer):\n",
    "    all_loss = []\n",
    "    model_.train()\n",
    "    with tqdm(data_loader, total=len(data_loader), desc=\"Training\") as tqdm_train:\n",
    "        for images, labels in tqdm_train:\n",
    "            optimizer.zero_grad()\n",
    "\n",
    "            loss = LOSS_FUNCTION(model_(images.to(DEVICE)), labels.to(DEVICE))\n",
    "            loss.backward()\n",
    "            optimizer.step()\n",
    "\n",
    "            all_loss.append(loss.item())\n",
    "\n",
    "            tqdm_train.set_postfix(loss=mean(all_loss))\n",
    "\n",
    "    return mean(all_loss)"
   ]
  },
  {
   "cell_type": "code",
   "execution_count": 20,
   "id": "92539607",
   "metadata": {
    "execution": {
     "iopub.execute_input": "2025-04-17T22:02:08.408060Z",
     "iopub.status.busy": "2025-04-17T22:02:08.407708Z",
     "iopub.status.idle": "2025-04-17T22:03:17.199647Z",
     "shell.execute_reply": "2025-04-17T22:03:17.198253Z"
    },
    "papermill": {
     "duration": 69.360774,
     "end_time": "2025-04-17T22:03:17.201345",
     "exception": false,
     "start_time": "2025-04-17T22:02:07.840571",
     "status": "completed"
    },
    "tags": []
   },
   "outputs": [
    {
     "name": "stdout",
     "output_type": "stream",
     "text": [
      "Epoch 0\n"
     ]
    },
    {
     "name": "stderr",
     "output_type": "stream",
     "text": [
      "Training: 100%|██████████| 8/8 [00:00<00:00, 18.39it/s, loss=0.2]\n"
     ]
    },
    {
     "name": "stdout",
     "output_type": "stream",
     "text": [
      "Epoch 1\n"
     ]
    },
    {
     "name": "stderr",
     "output_type": "stream",
     "text": [
      "Training: 100%|██████████| 8/8 [00:00<00:00, 25.20it/s, loss=2.79e-5]\n"
     ]
    },
    {
     "name": "stdout",
     "output_type": "stream",
     "text": [
      "Epoch 2\n"
     ]
    },
    {
     "name": "stderr",
     "output_type": "stream",
     "text": [
      "Training: 100%|██████████| 8/8 [00:00<00:00, 25.99it/s, loss=8.01e-6]\n"
     ]
    },
    {
     "name": "stdout",
     "output_type": "stream",
     "text": [
      "Epoch 3\n"
     ]
    },
    {
     "name": "stderr",
     "output_type": "stream",
     "text": [
      "Training: 100%|██████████| 8/8 [00:00<00:00, 25.70it/s, loss=5.56e-6]\n"
     ]
    },
    {
     "name": "stdout",
     "output_type": "stream",
     "text": [
      "Epoch 4\n"
     ]
    },
    {
     "name": "stderr",
     "output_type": "stream",
     "text": [
      "Training: 100%|██████████| 8/8 [00:00<00:00, 25.89it/s, loss=1.82e-6]\n"
     ]
    },
    {
     "name": "stdout",
     "output_type": "stream",
     "text": [
      "Epoch 5\n"
     ]
    },
    {
     "name": "stderr",
     "output_type": "stream",
     "text": [
      "Training: 100%|██████████| 8/8 [00:00<00:00, 25.74it/s, loss=4.75e-7]\n"
     ]
    },
    {
     "name": "stdout",
     "output_type": "stream",
     "text": [
      "Epoch 6\n"
     ]
    },
    {
     "name": "stderr",
     "output_type": "stream",
     "text": [
      "Training: 100%|██████████| 8/8 [00:00<00:00, 25.83it/s, loss=6.61e-7]\n"
     ]
    },
    {
     "name": "stdout",
     "output_type": "stream",
     "text": [
      "Epoch 7\n"
     ]
    },
    {
     "name": "stderr",
     "output_type": "stream",
     "text": [
      "Training: 100%|██████████| 8/8 [00:00<00:00, 25.79it/s, loss=6.97e-7]\n"
     ]
    },
    {
     "name": "stdout",
     "output_type": "stream",
     "text": [
      "Epoch 8\n"
     ]
    },
    {
     "name": "stderr",
     "output_type": "stream",
     "text": [
      "Training: 100%|██████████| 8/8 [00:00<00:00, 25.34it/s, loss=3.56e-7]\n"
     ]
    },
    {
     "name": "stdout",
     "output_type": "stream",
     "text": [
      "Epoch 9\n"
     ]
    },
    {
     "name": "stderr",
     "output_type": "stream",
     "text": [
      "Training: 100%|██████████| 8/8 [00:00<00:00, 25.57it/s, loss=1.56e-7]\n",
      "Validation: 100%|██████████| 5/5 [00:00<00:00, 50.63it/s, accuracy=1]\n"
     ]
    },
    {
     "name": "stdout",
     "output_type": "stream",
     "text": [
      "Ding ding ding! We found a new best model!\n",
      "Epoch 10\n"
     ]
    },
    {
     "name": "stderr",
     "output_type": "stream",
     "text": [
      "Training: 100%|██████████| 8/8 [00:00<00:00, 25.90it/s, loss=1.71e-7]\n"
     ]
    },
    {
     "name": "stdout",
     "output_type": "stream",
     "text": [
      "Epoch 11\n"
     ]
    },
    {
     "name": "stderr",
     "output_type": "stream",
     "text": [
      "Training: 100%|██████████| 8/8 [00:00<00:00, 25.34it/s, loss=1.36e-7]\n"
     ]
    },
    {
     "name": "stdout",
     "output_type": "stream",
     "text": [
      "Epoch 12\n"
     ]
    },
    {
     "name": "stderr",
     "output_type": "stream",
     "text": [
      "Training: 100%|██████████| 8/8 [00:00<00:00, 25.19it/s, loss=3.29e-7]\n"
     ]
    },
    {
     "name": "stdout",
     "output_type": "stream",
     "text": [
      "Epoch 13\n"
     ]
    },
    {
     "name": "stderr",
     "output_type": "stream",
     "text": [
      "Training: 100%|██████████| 8/8 [00:00<00:00, 25.12it/s, loss=8.13e-7]\n"
     ]
    },
    {
     "name": "stdout",
     "output_type": "stream",
     "text": [
      "Epoch 14\n"
     ]
    },
    {
     "name": "stderr",
     "output_type": "stream",
     "text": [
      "Training: 100%|██████████| 8/8 [00:00<00:00, 25.17it/s, loss=1.14e-6]\n"
     ]
    },
    {
     "name": "stdout",
     "output_type": "stream",
     "text": [
      "Epoch 15\n"
     ]
    },
    {
     "name": "stderr",
     "output_type": "stream",
     "text": [
      "Training: 100%|██████████| 8/8 [00:00<00:00, 24.97it/s, loss=1.05e-6]\n"
     ]
    },
    {
     "name": "stdout",
     "output_type": "stream",
     "text": [
      "Epoch 16\n"
     ]
    },
    {
     "name": "stderr",
     "output_type": "stream",
     "text": [
      "Training: 100%|██████████| 8/8 [00:00<00:00, 25.23it/s, loss=2.83e-7]\n"
     ]
    },
    {
     "name": "stdout",
     "output_type": "stream",
     "text": [
      "Epoch 17\n"
     ]
    },
    {
     "name": "stderr",
     "output_type": "stream",
     "text": [
      "Training: 100%|██████████| 8/8 [00:00<00:00, 25.37it/s, loss=4.6e-7]\n"
     ]
    },
    {
     "name": "stdout",
     "output_type": "stream",
     "text": [
      "Epoch 18\n"
     ]
    },
    {
     "name": "stderr",
     "output_type": "stream",
     "text": [
      "Training: 100%|██████████| 8/8 [00:00<00:00, 25.46it/s, loss=1.75e-7]\n"
     ]
    },
    {
     "name": "stdout",
     "output_type": "stream",
     "text": [
      "Epoch 19\n"
     ]
    },
    {
     "name": "stderr",
     "output_type": "stream",
     "text": [
      "Training: 100%|██████████| 8/8 [00:00<00:00, 25.62it/s, loss=1.8e-7]\n",
      "Validation: 100%|██████████| 5/5 [00:00<00:00, 52.81it/s, accuracy=1]\n"
     ]
    },
    {
     "name": "stdout",
     "output_type": "stream",
     "text": [
      "Epoch 20\n"
     ]
    },
    {
     "name": "stderr",
     "output_type": "stream",
     "text": [
      "Training: 100%|██████████| 8/8 [00:00<00:00, 25.79it/s, loss=3.52e-7]\n"
     ]
    },
    {
     "name": "stdout",
     "output_type": "stream",
     "text": [
      "Epoch 21\n"
     ]
    },
    {
     "name": "stderr",
     "output_type": "stream",
     "text": [
      "Training: 100%|██████████| 8/8 [00:00<00:00, 25.22it/s, loss=1.13e-7]\n"
     ]
    },
    {
     "name": "stdout",
     "output_type": "stream",
     "text": [
      "Epoch 22\n"
     ]
    },
    {
     "name": "stderr",
     "output_type": "stream",
     "text": [
      "Training: 100%|██████████| 8/8 [00:00<00:00, 25.39it/s, loss=2.07e-7]\n"
     ]
    },
    {
     "name": "stdout",
     "output_type": "stream",
     "text": [
      "Epoch 23\n"
     ]
    },
    {
     "name": "stderr",
     "output_type": "stream",
     "text": [
      "Training: 100%|██████████| 8/8 [00:00<00:00, 25.50it/s, loss=3.87e-7]\n"
     ]
    },
    {
     "name": "stdout",
     "output_type": "stream",
     "text": [
      "Epoch 24\n"
     ]
    },
    {
     "name": "stderr",
     "output_type": "stream",
     "text": [
      "Training: 100%|██████████| 8/8 [00:00<00:00, 25.40it/s, loss=2.56e-7]\n"
     ]
    },
    {
     "name": "stdout",
     "output_type": "stream",
     "text": [
      "Epoch 25\n"
     ]
    },
    {
     "name": "stderr",
     "output_type": "stream",
     "text": [
      "Training: 100%|██████████| 8/8 [00:00<00:00, 25.28it/s, loss=3.52e-7]\n"
     ]
    },
    {
     "name": "stdout",
     "output_type": "stream",
     "text": [
      "Epoch 26\n"
     ]
    },
    {
     "name": "stderr",
     "output_type": "stream",
     "text": [
      "Training: 100%|██████████| 8/8 [00:00<00:00, 25.19it/s, loss=5.77e-7]\n"
     ]
    },
    {
     "name": "stdout",
     "output_type": "stream",
     "text": [
      "Epoch 27\n"
     ]
    },
    {
     "name": "stderr",
     "output_type": "stream",
     "text": [
      "Training: 100%|██████████| 8/8 [00:00<00:00, 25.40it/s, loss=4.58e-7]\n"
     ]
    },
    {
     "name": "stdout",
     "output_type": "stream",
     "text": [
      "Epoch 28\n"
     ]
    },
    {
     "name": "stderr",
     "output_type": "stream",
     "text": [
      "Training: 100%|██████████| 8/8 [00:00<00:00, 25.45it/s, loss=1.62e-7]\n"
     ]
    },
    {
     "name": "stdout",
     "output_type": "stream",
     "text": [
      "Epoch 29\n"
     ]
    },
    {
     "name": "stderr",
     "output_type": "stream",
     "text": [
      "Training: 100%|██████████| 8/8 [00:00<00:00, 25.35it/s, loss=4.2e-7]\n",
      "Validation: 100%|██████████| 5/5 [00:00<00:00, 51.41it/s, accuracy=1]\n"
     ]
    },
    {
     "name": "stdout",
     "output_type": "stream",
     "text": [
      "Epoch 30\n"
     ]
    },
    {
     "name": "stderr",
     "output_type": "stream",
     "text": [
      "Training: 100%|██████████| 8/8 [00:00<00:00, 24.95it/s, loss=2.49e-7]\n"
     ]
    },
    {
     "name": "stdout",
     "output_type": "stream",
     "text": [
      "Epoch 31\n"
     ]
    },
    {
     "name": "stderr",
     "output_type": "stream",
     "text": [
      "Training: 100%|██████████| 8/8 [00:00<00:00, 25.25it/s, loss=2.86e-7]\n"
     ]
    },
    {
     "name": "stdout",
     "output_type": "stream",
     "text": [
      "Epoch 32\n"
     ]
    },
    {
     "name": "stderr",
     "output_type": "stream",
     "text": [
      "Training: 100%|██████████| 8/8 [00:00<00:00, 25.28it/s, loss=3.52e-7]\n"
     ]
    },
    {
     "name": "stdout",
     "output_type": "stream",
     "text": [
      "Epoch 33\n"
     ]
    },
    {
     "name": "stderr",
     "output_type": "stream",
     "text": [
      "Training: 100%|██████████| 8/8 [00:00<00:00, 25.21it/s, loss=1.78e-7]\n"
     ]
    },
    {
     "name": "stdout",
     "output_type": "stream",
     "text": [
      "Epoch 34\n"
     ]
    },
    {
     "name": "stderr",
     "output_type": "stream",
     "text": [
      "Training: 100%|██████████| 8/8 [00:00<00:00, 25.26it/s, loss=5.35e-7]\n"
     ]
    },
    {
     "name": "stdout",
     "output_type": "stream",
     "text": [
      "Epoch 35\n"
     ]
    },
    {
     "name": "stderr",
     "output_type": "stream",
     "text": [
      "Training: 100%|██████████| 8/8 [00:00<00:00, 25.16it/s, loss=6.68e-7]\n"
     ]
    },
    {
     "name": "stdout",
     "output_type": "stream",
     "text": [
      "Epoch 36\n"
     ]
    },
    {
     "name": "stderr",
     "output_type": "stream",
     "text": [
      "Training: 100%|██████████| 8/8 [00:00<00:00, 25.18it/s, loss=3.09e-7]\n"
     ]
    },
    {
     "name": "stdout",
     "output_type": "stream",
     "text": [
      "Epoch 37\n"
     ]
    },
    {
     "name": "stderr",
     "output_type": "stream",
     "text": [
      "Training: 100%|██████████| 8/8 [00:00<00:00, 25.35it/s, loss=2.02e-7]\n"
     ]
    },
    {
     "name": "stdout",
     "output_type": "stream",
     "text": [
      "Epoch 38\n"
     ]
    },
    {
     "name": "stderr",
     "output_type": "stream",
     "text": [
      "Training: 100%|██████████| 8/8 [00:00<00:00, 25.26it/s, loss=2.91e-7]\n"
     ]
    },
    {
     "name": "stdout",
     "output_type": "stream",
     "text": [
      "Epoch 39\n"
     ]
    },
    {
     "name": "stderr",
     "output_type": "stream",
     "text": [
      "Training: 100%|██████████| 8/8 [00:00<00:00, 25.27it/s, loss=2.97e-7]\n",
      "Validation: 100%|██████████| 5/5 [00:00<00:00, 48.67it/s, accuracy=1]\n"
     ]
    },
    {
     "name": "stdout",
     "output_type": "stream",
     "text": [
      "Epoch 40\n"
     ]
    },
    {
     "name": "stderr",
     "output_type": "stream",
     "text": [
      "Training: 100%|██████████| 8/8 [00:00<00:00, 25.53it/s, loss=8.7e-7]\n"
     ]
    },
    {
     "name": "stdout",
     "output_type": "stream",
     "text": [
      "Epoch 41\n"
     ]
    },
    {
     "name": "stderr",
     "output_type": "stream",
     "text": [
      "Training: 100%|██████████| 8/8 [00:00<00:00, 25.19it/s, loss=4.18e-7]\n"
     ]
    },
    {
     "name": "stdout",
     "output_type": "stream",
     "text": [
      "Epoch 42\n"
     ]
    },
    {
     "name": "stderr",
     "output_type": "stream",
     "text": [
      "Training: 100%|██████████| 8/8 [00:00<00:00, 24.95it/s, loss=2.78e-7]\n"
     ]
    },
    {
     "name": "stdout",
     "output_type": "stream",
     "text": [
      "Epoch 43\n"
     ]
    },
    {
     "name": "stderr",
     "output_type": "stream",
     "text": [
      "Training: 100%|██████████| 8/8 [00:00<00:00, 25.38it/s, loss=5.14e-7]\n"
     ]
    },
    {
     "name": "stdout",
     "output_type": "stream",
     "text": [
      "Epoch 44\n"
     ]
    },
    {
     "name": "stderr",
     "output_type": "stream",
     "text": [
      "Training: 100%|██████████| 8/8 [00:00<00:00, 25.10it/s, loss=3.32e-7]\n"
     ]
    },
    {
     "name": "stdout",
     "output_type": "stream",
     "text": [
      "Epoch 45\n"
     ]
    },
    {
     "name": "stderr",
     "output_type": "stream",
     "text": [
      "Training: 100%|██████████| 8/8 [00:00<00:00, 25.00it/s, loss=1.23e-6]\n"
     ]
    },
    {
     "name": "stdout",
     "output_type": "stream",
     "text": [
      "Epoch 46\n"
     ]
    },
    {
     "name": "stderr",
     "output_type": "stream",
     "text": [
      "Training: 100%|██████████| 8/8 [00:00<00:00, 24.98it/s, loss=5.16e-7]\n"
     ]
    },
    {
     "name": "stdout",
     "output_type": "stream",
     "text": [
      "Epoch 47\n"
     ]
    },
    {
     "name": "stderr",
     "output_type": "stream",
     "text": [
      "Training: 100%|██████████| 8/8 [00:00<00:00, 24.93it/s, loss=4.23e-7]\n"
     ]
    },
    {
     "name": "stdout",
     "output_type": "stream",
     "text": [
      "Epoch 48\n"
     ]
    },
    {
     "name": "stderr",
     "output_type": "stream",
     "text": [
      "Training: 100%|██████████| 8/8 [00:00<00:00, 24.57it/s, loss=2.16e-7]\n"
     ]
    },
    {
     "name": "stdout",
     "output_type": "stream",
     "text": [
      "Epoch 49\n"
     ]
    },
    {
     "name": "stderr",
     "output_type": "stream",
     "text": [
      "Training: 100%|██████████| 8/8 [00:00<00:00, 25.03it/s, loss=1.35e-6]\n",
      "Validation: 100%|██████████| 5/5 [00:00<00:00, 50.37it/s, accuracy=1]\n"
     ]
    },
    {
     "name": "stdout",
     "output_type": "stream",
     "text": [
      "Epoch 50\n"
     ]
    },
    {
     "name": "stderr",
     "output_type": "stream",
     "text": [
      "Training: 100%|██████████| 8/8 [00:00<00:00, 25.41it/s, loss=2.99e-7]\n"
     ]
    },
    {
     "name": "stdout",
     "output_type": "stream",
     "text": [
      "Epoch 51\n"
     ]
    },
    {
     "name": "stderr",
     "output_type": "stream",
     "text": [
      "Training: 100%|██████████| 8/8 [00:00<00:00, 25.04it/s, loss=6.07e-7]\n"
     ]
    },
    {
     "name": "stdout",
     "output_type": "stream",
     "text": [
      "Epoch 52\n"
     ]
    },
    {
     "name": "stderr",
     "output_type": "stream",
     "text": [
      "Training: 100%|██████████| 8/8 [00:00<00:00, 24.97it/s, loss=5.8e-7]\n"
     ]
    },
    {
     "name": "stdout",
     "output_type": "stream",
     "text": [
      "Epoch 53\n"
     ]
    },
    {
     "name": "stderr",
     "output_type": "stream",
     "text": [
      "Training: 100%|██████████| 8/8 [00:00<00:00, 25.11it/s, loss=8.39e-7]\n"
     ]
    },
    {
     "name": "stdout",
     "output_type": "stream",
     "text": [
      "Epoch 54\n"
     ]
    },
    {
     "name": "stderr",
     "output_type": "stream",
     "text": [
      "Training: 100%|██████████| 8/8 [00:00<00:00, 24.99it/s, loss=4.72e-7]\n"
     ]
    },
    {
     "name": "stdout",
     "output_type": "stream",
     "text": [
      "Epoch 55\n"
     ]
    },
    {
     "name": "stderr",
     "output_type": "stream",
     "text": [
      "Training: 100%|██████████| 8/8 [00:00<00:00, 25.10it/s, loss=4.12e-7]\n"
     ]
    },
    {
     "name": "stdout",
     "output_type": "stream",
     "text": [
      "Epoch 56\n"
     ]
    },
    {
     "name": "stderr",
     "output_type": "stream",
     "text": [
      "Training: 100%|██████████| 8/8 [00:00<00:00, 25.03it/s, loss=2.78e-7]\n"
     ]
    },
    {
     "name": "stdout",
     "output_type": "stream",
     "text": [
      "Epoch 57\n"
     ]
    },
    {
     "name": "stderr",
     "output_type": "stream",
     "text": [
      "Training: 100%|██████████| 8/8 [00:00<00:00, 24.98it/s, loss=2.84e-7]\n"
     ]
    },
    {
     "name": "stdout",
     "output_type": "stream",
     "text": [
      "Epoch 58\n"
     ]
    },
    {
     "name": "stderr",
     "output_type": "stream",
     "text": [
      "Training: 100%|██████████| 8/8 [00:00<00:00, 24.67it/s, loss=6.43e-7]\n"
     ]
    },
    {
     "name": "stdout",
     "output_type": "stream",
     "text": [
      "Epoch 59\n"
     ]
    },
    {
     "name": "stderr",
     "output_type": "stream",
     "text": [
      "Training: 100%|██████████| 8/8 [00:00<00:00, 24.61it/s, loss=4.97e-7]\n",
      "Validation: 100%|██████████| 5/5 [00:00<00:00, 42.25it/s, accuracy=1]\n"
     ]
    },
    {
     "name": "stdout",
     "output_type": "stream",
     "text": [
      "Epoch 60\n"
     ]
    },
    {
     "name": "stderr",
     "output_type": "stream",
     "text": [
      "Training: 100%|██████████| 8/8 [00:00<00:00, 24.99it/s, loss=4.94e-7]\n"
     ]
    },
    {
     "name": "stdout",
     "output_type": "stream",
     "text": [
      "Epoch 61\n"
     ]
    },
    {
     "name": "stderr",
     "output_type": "stream",
     "text": [
      "Training: 100%|██████████| 8/8 [00:00<00:00, 24.77it/s, loss=6.14e-7]\n"
     ]
    },
    {
     "name": "stdout",
     "output_type": "stream",
     "text": [
      "Epoch 62\n"
     ]
    },
    {
     "name": "stderr",
     "output_type": "stream",
     "text": [
      "Training: 100%|██████████| 8/8 [00:00<00:00, 24.78it/s, loss=4e-7]\n"
     ]
    },
    {
     "name": "stdout",
     "output_type": "stream",
     "text": [
      "Epoch 63\n"
     ]
    },
    {
     "name": "stderr",
     "output_type": "stream",
     "text": [
      "Training: 100%|██████████| 8/8 [00:00<00:00, 24.91it/s, loss=5.39e-7]\n"
     ]
    },
    {
     "name": "stdout",
     "output_type": "stream",
     "text": [
      "Epoch 64\n"
     ]
    },
    {
     "name": "stderr",
     "output_type": "stream",
     "text": [
      "Training: 100%|██████████| 8/8 [00:00<00:00, 24.99it/s, loss=4.56e-7]\n"
     ]
    },
    {
     "name": "stdout",
     "output_type": "stream",
     "text": [
      "Epoch 65\n"
     ]
    },
    {
     "name": "stderr",
     "output_type": "stream",
     "text": [
      "Training: 100%|██████████| 8/8 [00:00<00:00, 24.90it/s, loss=9.96e-7]\n"
     ]
    },
    {
     "name": "stdout",
     "output_type": "stream",
     "text": [
      "Epoch 66\n"
     ]
    },
    {
     "name": "stderr",
     "output_type": "stream",
     "text": [
      "Training: 100%|██████████| 8/8 [00:00<00:00, 24.88it/s, loss=5.59e-6]\n"
     ]
    },
    {
     "name": "stdout",
     "output_type": "stream",
     "text": [
      "Epoch 67\n"
     ]
    },
    {
     "name": "stderr",
     "output_type": "stream",
     "text": [
      "Training: 100%|██████████| 8/8 [00:00<00:00, 24.94it/s, loss=3.98e-7]\n"
     ]
    },
    {
     "name": "stdout",
     "output_type": "stream",
     "text": [
      "Epoch 68\n"
     ]
    },
    {
     "name": "stderr",
     "output_type": "stream",
     "text": [
      "Training: 100%|██████████| 8/8 [00:00<00:00, 24.75it/s, loss=8.11e-7]\n"
     ]
    },
    {
     "name": "stdout",
     "output_type": "stream",
     "text": [
      "Epoch 69\n"
     ]
    },
    {
     "name": "stderr",
     "output_type": "stream",
     "text": [
      "Training: 100%|██████████| 8/8 [00:00<00:00, 24.65it/s, loss=1.87e-6]\n",
      "Validation: 100%|██████████| 5/5 [00:00<00:00, 50.31it/s, accuracy=1]\n"
     ]
    },
    {
     "name": "stdout",
     "output_type": "stream",
     "text": [
      "Epoch 70\n"
     ]
    },
    {
     "name": "stderr",
     "output_type": "stream",
     "text": [
      "Training: 100%|██████████| 8/8 [00:00<00:00, 25.08it/s, loss=5.68e-7]\n"
     ]
    },
    {
     "name": "stdout",
     "output_type": "stream",
     "text": [
      "Epoch 71\n"
     ]
    },
    {
     "name": "stderr",
     "output_type": "stream",
     "text": [
      "Training: 100%|██████████| 8/8 [00:00<00:00, 24.92it/s, loss=6.43e-6]\n"
     ]
    },
    {
     "name": "stdout",
     "output_type": "stream",
     "text": [
      "Epoch 72\n"
     ]
    },
    {
     "name": "stderr",
     "output_type": "stream",
     "text": [
      "Training: 100%|██████████| 8/8 [00:00<00:00, 24.97it/s, loss=5.39e-7]\n"
     ]
    },
    {
     "name": "stdout",
     "output_type": "stream",
     "text": [
      "Epoch 73\n"
     ]
    },
    {
     "name": "stderr",
     "output_type": "stream",
     "text": [
      "Training: 100%|██████████| 8/8 [00:00<00:00, 24.65it/s, loss=3.92e-7]\n"
     ]
    },
    {
     "name": "stdout",
     "output_type": "stream",
     "text": [
      "Epoch 74\n"
     ]
    },
    {
     "name": "stderr",
     "output_type": "stream",
     "text": [
      "Training: 100%|██████████| 8/8 [00:00<00:00, 24.59it/s, loss=5.87e-7]\n"
     ]
    },
    {
     "name": "stdout",
     "output_type": "stream",
     "text": [
      "Epoch 75\n"
     ]
    },
    {
     "name": "stderr",
     "output_type": "stream",
     "text": [
      "Training: 100%|██████████| 8/8 [00:00<00:00, 24.47it/s, loss=4.57e-7]\n"
     ]
    },
    {
     "name": "stdout",
     "output_type": "stream",
     "text": [
      "Epoch 76\n"
     ]
    },
    {
     "name": "stderr",
     "output_type": "stream",
     "text": [
      "Training: 100%|██████████| 8/8 [00:00<00:00, 24.98it/s, loss=1.11e-6]\n"
     ]
    },
    {
     "name": "stdout",
     "output_type": "stream",
     "text": [
      "Epoch 77\n"
     ]
    },
    {
     "name": "stderr",
     "output_type": "stream",
     "text": [
      "Training: 100%|██████████| 8/8 [00:00<00:00, 24.86it/s, loss=5.85e-6]\n"
     ]
    },
    {
     "name": "stdout",
     "output_type": "stream",
     "text": [
      "Epoch 78\n"
     ]
    },
    {
     "name": "stderr",
     "output_type": "stream",
     "text": [
      "Training: 100%|██████████| 8/8 [00:00<00:00, 24.96it/s, loss=6.7e-7]\n"
     ]
    },
    {
     "name": "stdout",
     "output_type": "stream",
     "text": [
      "Epoch 79\n"
     ]
    },
    {
     "name": "stderr",
     "output_type": "stream",
     "text": [
      "Training: 100%|██████████| 8/8 [00:00<00:00, 24.76it/s, loss=1.87e-7]\n",
      "Validation: 100%|██████████| 5/5 [00:00<00:00, 50.25it/s, accuracy=1]\n"
     ]
    },
    {
     "name": "stdout",
     "output_type": "stream",
     "text": [
      "Epoch 80\n"
     ]
    },
    {
     "name": "stderr",
     "output_type": "stream",
     "text": [
      "Training: 100%|██████████| 8/8 [00:00<00:00, 25.15it/s, loss=3.79e-7]\n"
     ]
    },
    {
     "name": "stdout",
     "output_type": "stream",
     "text": [
      "Epoch 81\n"
     ]
    },
    {
     "name": "stderr",
     "output_type": "stream",
     "text": [
      "Training: 100%|██████████| 8/8 [00:00<00:00, 24.72it/s, loss=1.81e-7]\n"
     ]
    },
    {
     "name": "stdout",
     "output_type": "stream",
     "text": [
      "Epoch 82\n"
     ]
    },
    {
     "name": "stderr",
     "output_type": "stream",
     "text": [
      "Training: 100%|██████████| 8/8 [00:00<00:00, 24.87it/s, loss=3.78e-7]\n"
     ]
    },
    {
     "name": "stdout",
     "output_type": "stream",
     "text": [
      "Epoch 83\n"
     ]
    },
    {
     "name": "stderr",
     "output_type": "stream",
     "text": [
      "Training: 100%|██████████| 8/8 [00:00<00:00, 24.86it/s, loss=2.45e-7]\n"
     ]
    },
    {
     "name": "stdout",
     "output_type": "stream",
     "text": [
      "Epoch 84\n"
     ]
    },
    {
     "name": "stderr",
     "output_type": "stream",
     "text": [
      "Training: 100%|██████████| 8/8 [00:00<00:00, 24.89it/s, loss=2.92e-7]\n"
     ]
    },
    {
     "name": "stdout",
     "output_type": "stream",
     "text": [
      "Epoch 85\n"
     ]
    },
    {
     "name": "stderr",
     "output_type": "stream",
     "text": [
      "Training: 100%|██████████| 8/8 [00:00<00:00, 24.83it/s, loss=6.44e-7]\n"
     ]
    },
    {
     "name": "stdout",
     "output_type": "stream",
     "text": [
      "Epoch 86\n"
     ]
    },
    {
     "name": "stderr",
     "output_type": "stream",
     "text": [
      "Training: 100%|██████████| 8/8 [00:00<00:00, 24.75it/s, loss=4.15e-7]\n"
     ]
    },
    {
     "name": "stdout",
     "output_type": "stream",
     "text": [
      "Epoch 87\n"
     ]
    },
    {
     "name": "stderr",
     "output_type": "stream",
     "text": [
      "Training: 100%|██████████| 8/8 [00:00<00:00, 24.60it/s, loss=4e-7]\n"
     ]
    },
    {
     "name": "stdout",
     "output_type": "stream",
     "text": [
      "Epoch 88\n"
     ]
    },
    {
     "name": "stderr",
     "output_type": "stream",
     "text": [
      "Training: 100%|██████████| 8/8 [00:00<00:00, 24.70it/s, loss=2.92e-7]\n"
     ]
    },
    {
     "name": "stdout",
     "output_type": "stream",
     "text": [
      "Epoch 89\n"
     ]
    },
    {
     "name": "stderr",
     "output_type": "stream",
     "text": [
      "Training: 100%|██████████| 8/8 [00:00<00:00, 24.39it/s, loss=7.27e-7]\n",
      "Validation: 100%|██████████| 5/5 [00:00<00:00, 47.11it/s, accuracy=1]\n"
     ]
    },
    {
     "name": "stdout",
     "output_type": "stream",
     "text": [
      "Epoch 90\n"
     ]
    },
    {
     "name": "stderr",
     "output_type": "stream",
     "text": [
      "Training: 100%|██████████| 8/8 [00:00<00:00, 24.99it/s, loss=4.74e-7]\n"
     ]
    },
    {
     "name": "stdout",
     "output_type": "stream",
     "text": [
      "Epoch 91\n"
     ]
    },
    {
     "name": "stderr",
     "output_type": "stream",
     "text": [
      "Training: 100%|██████████| 8/8 [00:00<00:00, 25.00it/s, loss=5.98e-7]\n"
     ]
    },
    {
     "name": "stdout",
     "output_type": "stream",
     "text": [
      "Epoch 92\n"
     ]
    },
    {
     "name": "stderr",
     "output_type": "stream",
     "text": [
      "Training: 100%|██████████| 8/8 [00:00<00:00, 25.01it/s, loss=5.42e-7]\n"
     ]
    },
    {
     "name": "stdout",
     "output_type": "stream",
     "text": [
      "Epoch 93\n"
     ]
    },
    {
     "name": "stderr",
     "output_type": "stream",
     "text": [
      "Training: 100%|██████████| 8/8 [00:00<00:00, 24.98it/s, loss=7.52e-7]\n"
     ]
    },
    {
     "name": "stdout",
     "output_type": "stream",
     "text": [
      "Epoch 94\n"
     ]
    },
    {
     "name": "stderr",
     "output_type": "stream",
     "text": [
      "Training: 100%|██████████| 8/8 [00:00<00:00, 24.95it/s, loss=6.1e-7]\n"
     ]
    },
    {
     "name": "stdout",
     "output_type": "stream",
     "text": [
      "Epoch 95\n"
     ]
    },
    {
     "name": "stderr",
     "output_type": "stream",
     "text": [
      "Training: 100%|██████████| 8/8 [00:00<00:00, 24.86it/s, loss=5.88e-7]\n"
     ]
    },
    {
     "name": "stdout",
     "output_type": "stream",
     "text": [
      "Epoch 96\n"
     ]
    },
    {
     "name": "stderr",
     "output_type": "stream",
     "text": [
      "Training: 100%|██████████| 8/8 [00:00<00:00, 24.85it/s, loss=9.6e-7]\n"
     ]
    },
    {
     "name": "stdout",
     "output_type": "stream",
     "text": [
      "Epoch 97\n"
     ]
    },
    {
     "name": "stderr",
     "output_type": "stream",
     "text": [
      "Training: 100%|██████████| 8/8 [00:00<00:00, 25.09it/s, loss=6.65e-7]\n"
     ]
    },
    {
     "name": "stdout",
     "output_type": "stream",
     "text": [
      "Epoch 98\n"
     ]
    },
    {
     "name": "stderr",
     "output_type": "stream",
     "text": [
      "Training: 100%|██████████| 8/8 [00:00<00:00, 25.11it/s, loss=1.67e-6]\n"
     ]
    },
    {
     "name": "stdout",
     "output_type": "stream",
     "text": [
      "Epoch 99\n"
     ]
    },
    {
     "name": "stderr",
     "output_type": "stream",
     "text": [
      "Training: 100%|██████████| 8/8 [00:00<00:00, 25.15it/s, loss=9.32e-7]\n",
      "Validation: 100%|██████████| 5/5 [00:00<00:00, 52.11it/s, accuracy=1]\n"
     ]
    },
    {
     "name": "stdout",
     "output_type": "stream",
     "text": [
      "Epoch 100\n"
     ]
    },
    {
     "name": "stderr",
     "output_type": "stream",
     "text": [
      "Training: 100%|██████████| 8/8 [00:00<00:00, 25.42it/s, loss=9.17e-7]\n"
     ]
    },
    {
     "name": "stdout",
     "output_type": "stream",
     "text": [
      "Epoch 101\n"
     ]
    },
    {
     "name": "stderr",
     "output_type": "stream",
     "text": [
      "Training: 100%|██████████| 8/8 [00:00<00:00, 25.00it/s, loss=3.67e-6]\n"
     ]
    },
    {
     "name": "stdout",
     "output_type": "stream",
     "text": [
      "Epoch 102\n"
     ]
    },
    {
     "name": "stderr",
     "output_type": "stream",
     "text": [
      "Training: 100%|██████████| 8/8 [00:00<00:00, 24.75it/s, loss=1.44e-6]\n"
     ]
    },
    {
     "name": "stdout",
     "output_type": "stream",
     "text": [
      "Epoch 103\n"
     ]
    },
    {
     "name": "stderr",
     "output_type": "stream",
     "text": [
      "Training: 100%|██████████| 8/8 [00:00<00:00, 25.22it/s, loss=1.54e-6]\n"
     ]
    },
    {
     "name": "stdout",
     "output_type": "stream",
     "text": [
      "Epoch 104\n"
     ]
    },
    {
     "name": "stderr",
     "output_type": "stream",
     "text": [
      "Training: 100%|██████████| 8/8 [00:00<00:00, 24.78it/s, loss=1.2e-6]\n"
     ]
    },
    {
     "name": "stdout",
     "output_type": "stream",
     "text": [
      "Epoch 105\n"
     ]
    },
    {
     "name": "stderr",
     "output_type": "stream",
     "text": [
      "Training: 100%|██████████| 8/8 [00:00<00:00, 24.89it/s, loss=7.12e-7]\n"
     ]
    },
    {
     "name": "stdout",
     "output_type": "stream",
     "text": [
      "Epoch 106\n"
     ]
    },
    {
     "name": "stderr",
     "output_type": "stream",
     "text": [
      "Training: 100%|██████████| 8/8 [00:00<00:00, 25.16it/s, loss=1.9e-6]\n"
     ]
    },
    {
     "name": "stdout",
     "output_type": "stream",
     "text": [
      "Epoch 107\n"
     ]
    },
    {
     "name": "stderr",
     "output_type": "stream",
     "text": [
      "Training: 100%|██████████| 8/8 [00:00<00:00, 25.15it/s, loss=1.4e-6]\n"
     ]
    },
    {
     "name": "stdout",
     "output_type": "stream",
     "text": [
      "Epoch 108\n"
     ]
    },
    {
     "name": "stderr",
     "output_type": "stream",
     "text": [
      "Training: 100%|██████████| 8/8 [00:00<00:00, 25.30it/s, loss=2.88e-6]\n"
     ]
    },
    {
     "name": "stdout",
     "output_type": "stream",
     "text": [
      "Epoch 109\n"
     ]
    },
    {
     "name": "stderr",
     "output_type": "stream",
     "text": [
      "Training: 100%|██████████| 8/8 [00:00<00:00, 25.21it/s, loss=1.27e-6]\n",
      "Validation: 100%|██████████| 5/5 [00:00<00:00, 55.25it/s, accuracy=1]\n"
     ]
    },
    {
     "name": "stdout",
     "output_type": "stream",
     "text": [
      "Epoch 110\n"
     ]
    },
    {
     "name": "stderr",
     "output_type": "stream",
     "text": [
      "Training: 100%|██████████| 8/8 [00:00<00:00, 25.65it/s, loss=1.55e-6]\n"
     ]
    },
    {
     "name": "stdout",
     "output_type": "stream",
     "text": [
      "Epoch 111\n"
     ]
    },
    {
     "name": "stderr",
     "output_type": "stream",
     "text": [
      "Training: 100%|██████████| 8/8 [00:00<00:00, 25.21it/s, loss=1.62e-6]\n"
     ]
    },
    {
     "name": "stdout",
     "output_type": "stream",
     "text": [
      "Epoch 112\n"
     ]
    },
    {
     "name": "stderr",
     "output_type": "stream",
     "text": [
      "Training: 100%|██████████| 8/8 [00:00<00:00, 25.01it/s, loss=2.76e-6]\n"
     ]
    },
    {
     "name": "stdout",
     "output_type": "stream",
     "text": [
      "Epoch 113\n"
     ]
    },
    {
     "name": "stderr",
     "output_type": "stream",
     "text": [
      "Training: 100%|██████████| 8/8 [00:00<00:00, 24.97it/s, loss=1.68e-6]\n"
     ]
    },
    {
     "name": "stdout",
     "output_type": "stream",
     "text": [
      "Epoch 114\n"
     ]
    },
    {
     "name": "stderr",
     "output_type": "stream",
     "text": [
      "Training: 100%|██████████| 8/8 [00:00<00:00, 24.94it/s, loss=1.68e-6]\n"
     ]
    },
    {
     "name": "stdout",
     "output_type": "stream",
     "text": [
      "Epoch 115\n"
     ]
    },
    {
     "name": "stderr",
     "output_type": "stream",
     "text": [
      "Training: 100%|██████████| 8/8 [00:00<00:00, 25.08it/s, loss=1.08e-6]\n"
     ]
    },
    {
     "name": "stdout",
     "output_type": "stream",
     "text": [
      "Epoch 116\n"
     ]
    },
    {
     "name": "stderr",
     "output_type": "stream",
     "text": [
      "Training: 100%|██████████| 8/8 [00:00<00:00, 25.02it/s, loss=1.02e-6]\n"
     ]
    },
    {
     "name": "stdout",
     "output_type": "stream",
     "text": [
      "Epoch 117\n"
     ]
    },
    {
     "name": "stderr",
     "output_type": "stream",
     "text": [
      "Training: 100%|██████████| 8/8 [00:00<00:00, 24.88it/s, loss=1.86e-6]\n"
     ]
    },
    {
     "name": "stdout",
     "output_type": "stream",
     "text": [
      "Epoch 118\n"
     ]
    },
    {
     "name": "stderr",
     "output_type": "stream",
     "text": [
      "Training: 100%|██████████| 8/8 [00:00<00:00, 25.06it/s, loss=1.2e-6]\n"
     ]
    },
    {
     "name": "stdout",
     "output_type": "stream",
     "text": [
      "Epoch 119\n"
     ]
    },
    {
     "name": "stderr",
     "output_type": "stream",
     "text": [
      "Training: 100%|██████████| 8/8 [00:00<00:00, 24.90it/s, loss=4.16e-6]\n",
      "Validation: 100%|██████████| 5/5 [00:00<00:00, 49.47it/s, accuracy=1]\n"
     ]
    },
    {
     "name": "stdout",
     "output_type": "stream",
     "text": [
      "Epoch 120\n"
     ]
    },
    {
     "name": "stderr",
     "output_type": "stream",
     "text": [
      "Training: 100%|██████████| 8/8 [00:00<00:00, 25.44it/s, loss=2.42e-6]\n"
     ]
    },
    {
     "name": "stdout",
     "output_type": "stream",
     "text": [
      "Epoch 121\n"
     ]
    },
    {
     "name": "stderr",
     "output_type": "stream",
     "text": [
      "Training: 100%|██████████| 8/8 [00:00<00:00, 24.94it/s, loss=1.73e-6]\n"
     ]
    },
    {
     "name": "stdout",
     "output_type": "stream",
     "text": [
      "Epoch 122\n"
     ]
    },
    {
     "name": "stderr",
     "output_type": "stream",
     "text": [
      "Training: 100%|██████████| 8/8 [00:00<00:00, 25.01it/s, loss=2.87e-6]\n"
     ]
    },
    {
     "name": "stdout",
     "output_type": "stream",
     "text": [
      "Epoch 123\n"
     ]
    },
    {
     "name": "stderr",
     "output_type": "stream",
     "text": [
      "Training: 100%|██████████| 8/8 [00:00<00:00, 25.17it/s, loss=2.54e-6]\n"
     ]
    },
    {
     "name": "stdout",
     "output_type": "stream",
     "text": [
      "Epoch 124\n"
     ]
    },
    {
     "name": "stderr",
     "output_type": "stream",
     "text": [
      "Training: 100%|██████████| 8/8 [00:00<00:00, 25.20it/s, loss=2.16e-6]\n"
     ]
    },
    {
     "name": "stdout",
     "output_type": "stream",
     "text": [
      "Epoch 125\n"
     ]
    },
    {
     "name": "stderr",
     "output_type": "stream",
     "text": [
      "Training: 100%|██████████| 8/8 [00:00<00:00, 25.09it/s, loss=3.08e-6]\n"
     ]
    },
    {
     "name": "stdout",
     "output_type": "stream",
     "text": [
      "Epoch 126\n"
     ]
    },
    {
     "name": "stderr",
     "output_type": "stream",
     "text": [
      "Training: 100%|██████████| 8/8 [00:00<00:00, 25.30it/s, loss=2.13e-6]\n"
     ]
    },
    {
     "name": "stdout",
     "output_type": "stream",
     "text": [
      "Epoch 127\n"
     ]
    },
    {
     "name": "stderr",
     "output_type": "stream",
     "text": [
      "Training: 100%|██████████| 8/8 [00:00<00:00, 25.16it/s, loss=1.75e-6]\n"
     ]
    },
    {
     "name": "stdout",
     "output_type": "stream",
     "text": [
      "Epoch 128\n"
     ]
    },
    {
     "name": "stderr",
     "output_type": "stream",
     "text": [
      "Training: 100%|██████████| 8/8 [00:00<00:00, 25.40it/s, loss=2.62e-6]\n"
     ]
    },
    {
     "name": "stdout",
     "output_type": "stream",
     "text": [
      "Epoch 129\n"
     ]
    },
    {
     "name": "stderr",
     "output_type": "stream",
     "text": [
      "Training: 100%|██████████| 8/8 [00:00<00:00, 25.37it/s, loss=1.57e-6]\n",
      "Validation: 100%|██████████| 5/5 [00:00<00:00, 50.72it/s, accuracy=1]\n"
     ]
    },
    {
     "name": "stdout",
     "output_type": "stream",
     "text": [
      "Epoch 130\n"
     ]
    },
    {
     "name": "stderr",
     "output_type": "stream",
     "text": [
      "Training: 100%|██████████| 8/8 [00:00<00:00, 25.56it/s, loss=2.18e-6]\n"
     ]
    },
    {
     "name": "stdout",
     "output_type": "stream",
     "text": [
      "Epoch 131\n"
     ]
    },
    {
     "name": "stderr",
     "output_type": "stream",
     "text": [
      "Training: 100%|██████████| 8/8 [00:00<00:00, 25.40it/s, loss=2.43e-6]\n"
     ]
    },
    {
     "name": "stdout",
     "output_type": "stream",
     "text": [
      "Epoch 132\n"
     ]
    },
    {
     "name": "stderr",
     "output_type": "stream",
     "text": [
      "Training: 100%|██████████| 8/8 [00:00<00:00, 25.05it/s, loss=2.46e-6]\n"
     ]
    },
    {
     "name": "stdout",
     "output_type": "stream",
     "text": [
      "Epoch 133\n"
     ]
    },
    {
     "name": "stderr",
     "output_type": "stream",
     "text": [
      "Training: 100%|██████████| 8/8 [00:00<00:00, 25.11it/s, loss=1.96e-6]\n"
     ]
    },
    {
     "name": "stdout",
     "output_type": "stream",
     "text": [
      "Epoch 134\n"
     ]
    },
    {
     "name": "stderr",
     "output_type": "stream",
     "text": [
      "Training: 100%|██████████| 8/8 [00:00<00:00, 25.18it/s, loss=3.25e-6]\n"
     ]
    },
    {
     "name": "stdout",
     "output_type": "stream",
     "text": [
      "Epoch 135\n"
     ]
    },
    {
     "name": "stderr",
     "output_type": "stream",
     "text": [
      "Training: 100%|██████████| 8/8 [00:00<00:00, 25.32it/s, loss=2.74e-6]\n"
     ]
    },
    {
     "name": "stdout",
     "output_type": "stream",
     "text": [
      "Epoch 136\n"
     ]
    },
    {
     "name": "stderr",
     "output_type": "stream",
     "text": [
      "Training: 100%|██████████| 8/8 [00:00<00:00, 25.47it/s, loss=2.95e-6]\n"
     ]
    },
    {
     "name": "stdout",
     "output_type": "stream",
     "text": [
      "Epoch 137\n"
     ]
    },
    {
     "name": "stderr",
     "output_type": "stream",
     "text": [
      "Training: 100%|██████████| 8/8 [00:00<00:00, 25.67it/s, loss=2.5e-6]\n"
     ]
    },
    {
     "name": "stdout",
     "output_type": "stream",
     "text": [
      "Epoch 138\n"
     ]
    },
    {
     "name": "stderr",
     "output_type": "stream",
     "text": [
      "Training: 100%|██████████| 8/8 [00:00<00:00, 25.13it/s, loss=3e-6]\n"
     ]
    },
    {
     "name": "stdout",
     "output_type": "stream",
     "text": [
      "Epoch 139\n"
     ]
    },
    {
     "name": "stderr",
     "output_type": "stream",
     "text": [
      "Training: 100%|██████████| 8/8 [00:00<00:00, 25.31it/s, loss=2.22e-6]\n",
      "Validation: 100%|██████████| 5/5 [00:00<00:00, 49.25it/s, accuracy=1]\n"
     ]
    },
    {
     "name": "stdout",
     "output_type": "stream",
     "text": [
      "Epoch 140\n"
     ]
    },
    {
     "name": "stderr",
     "output_type": "stream",
     "text": [
      "Training: 100%|██████████| 8/8 [00:00<00:00, 25.40it/s, loss=2.86e-6]\n"
     ]
    },
    {
     "name": "stdout",
     "output_type": "stream",
     "text": [
      "Epoch 141\n"
     ]
    },
    {
     "name": "stderr",
     "output_type": "stream",
     "text": [
      "Training: 100%|██████████| 8/8 [00:00<00:00, 25.25it/s, loss=3.16e-6]\n"
     ]
    },
    {
     "name": "stdout",
     "output_type": "stream",
     "text": [
      "Epoch 142\n"
     ]
    },
    {
     "name": "stderr",
     "output_type": "stream",
     "text": [
      "Training: 100%|██████████| 8/8 [00:00<00:00, 25.19it/s, loss=6.71e-6]\n"
     ]
    },
    {
     "name": "stdout",
     "output_type": "stream",
     "text": [
      "Epoch 143\n"
     ]
    },
    {
     "name": "stderr",
     "output_type": "stream",
     "text": [
      "Training: 100%|██████████| 8/8 [00:00<00:00, 25.26it/s, loss=2.77e-6]\n"
     ]
    },
    {
     "name": "stdout",
     "output_type": "stream",
     "text": [
      "Epoch 144\n"
     ]
    },
    {
     "name": "stderr",
     "output_type": "stream",
     "text": [
      "Training: 100%|██████████| 8/8 [00:00<00:00, 25.53it/s, loss=6.09e-6]\n"
     ]
    },
    {
     "name": "stdout",
     "output_type": "stream",
     "text": [
      "Epoch 145\n"
     ]
    },
    {
     "name": "stderr",
     "output_type": "stream",
     "text": [
      "Training: 100%|██████████| 8/8 [00:00<00:00, 25.52it/s, loss=4.55e-6]\n"
     ]
    },
    {
     "name": "stdout",
     "output_type": "stream",
     "text": [
      "Epoch 146\n"
     ]
    },
    {
     "name": "stderr",
     "output_type": "stream",
     "text": [
      "Training: 100%|██████████| 8/8 [00:00<00:00, 24.99it/s, loss=5.3e-6]\n"
     ]
    },
    {
     "name": "stdout",
     "output_type": "stream",
     "text": [
      "Epoch 147\n"
     ]
    },
    {
     "name": "stderr",
     "output_type": "stream",
     "text": [
      "Training: 100%|██████████| 8/8 [00:00<00:00, 25.20it/s, loss=3.92e-6]\n"
     ]
    },
    {
     "name": "stdout",
     "output_type": "stream",
     "text": [
      "Epoch 148\n"
     ]
    },
    {
     "name": "stderr",
     "output_type": "stream",
     "text": [
      "Training: 100%|██████████| 8/8 [00:00<00:00, 25.22it/s, loss=5.57e-6]\n"
     ]
    },
    {
     "name": "stdout",
     "output_type": "stream",
     "text": [
      "Epoch 149\n"
     ]
    },
    {
     "name": "stderr",
     "output_type": "stream",
     "text": [
      "Training: 100%|██████████| 8/8 [00:00<00:00, 25.51it/s, loss=4.15e-6]\n",
      "Validation: 100%|██████████| 5/5 [00:00<00:00, 50.13it/s, accuracy=1]\n"
     ]
    },
    {
     "name": "stdout",
     "output_type": "stream",
     "text": [
      "Epoch 150\n"
     ]
    },
    {
     "name": "stderr",
     "output_type": "stream",
     "text": [
      "Training: 100%|██████████| 8/8 [00:00<00:00, 25.43it/s, loss=3.77e-6]\n"
     ]
    },
    {
     "name": "stdout",
     "output_type": "stream",
     "text": [
      "Epoch 151\n"
     ]
    },
    {
     "name": "stderr",
     "output_type": "stream",
     "text": [
      "Training: 100%|██████████| 8/8 [00:00<00:00, 25.64it/s, loss=6.6e-6]\n"
     ]
    },
    {
     "name": "stdout",
     "output_type": "stream",
     "text": [
      "Epoch 152\n"
     ]
    },
    {
     "name": "stderr",
     "output_type": "stream",
     "text": [
      "Training: 100%|██████████| 8/8 [00:00<00:00, 25.71it/s, loss=8.55e-6]\n"
     ]
    },
    {
     "name": "stdout",
     "output_type": "stream",
     "text": [
      "Epoch 153\n"
     ]
    },
    {
     "name": "stderr",
     "output_type": "stream",
     "text": [
      "Training: 100%|██████████| 8/8 [00:00<00:00, 24.98it/s, loss=5.03e-6]\n"
     ]
    },
    {
     "name": "stdout",
     "output_type": "stream",
     "text": [
      "Epoch 154\n"
     ]
    },
    {
     "name": "stderr",
     "output_type": "stream",
     "text": [
      "Training: 100%|██████████| 8/8 [00:00<00:00, 25.09it/s, loss=4.62e-6]\n"
     ]
    },
    {
     "name": "stdout",
     "output_type": "stream",
     "text": [
      "Epoch 155\n"
     ]
    },
    {
     "name": "stderr",
     "output_type": "stream",
     "text": [
      "Training: 100%|██████████| 8/8 [00:00<00:00, 25.18it/s, loss=4.44e-6]\n"
     ]
    },
    {
     "name": "stdout",
     "output_type": "stream",
     "text": [
      "Epoch 156\n"
     ]
    },
    {
     "name": "stderr",
     "output_type": "stream",
     "text": [
      "Training: 100%|██████████| 8/8 [00:00<00:00, 25.51it/s, loss=5.58e-6]\n"
     ]
    },
    {
     "name": "stdout",
     "output_type": "stream",
     "text": [
      "Epoch 157\n"
     ]
    },
    {
     "name": "stderr",
     "output_type": "stream",
     "text": [
      "Training: 100%|██████████| 8/8 [00:00<00:00, 25.81it/s, loss=4.03e-6]\n"
     ]
    },
    {
     "name": "stdout",
     "output_type": "stream",
     "text": [
      "Epoch 158\n"
     ]
    },
    {
     "name": "stderr",
     "output_type": "stream",
     "text": [
      "Training: 100%|██████████| 8/8 [00:00<00:00, 25.37it/s, loss=3.78e-6]\n"
     ]
    },
    {
     "name": "stdout",
     "output_type": "stream",
     "text": [
      "Epoch 159\n"
     ]
    },
    {
     "name": "stderr",
     "output_type": "stream",
     "text": [
      "Training: 100%|██████████| 8/8 [00:00<00:00, 25.48it/s, loss=1.01e-5]\n",
      "Validation: 100%|██████████| 5/5 [00:00<00:00, 51.49it/s, accuracy=1]\n"
     ]
    },
    {
     "name": "stdout",
     "output_type": "stream",
     "text": [
      "Epoch 160\n"
     ]
    },
    {
     "name": "stderr",
     "output_type": "stream",
     "text": [
      "Training: 100%|██████████| 8/8 [00:00<00:00, 25.44it/s, loss=8.9e-6]\n"
     ]
    },
    {
     "name": "stdout",
     "output_type": "stream",
     "text": [
      "Epoch 161\n"
     ]
    },
    {
     "name": "stderr",
     "output_type": "stream",
     "text": [
      "Training: 100%|██████████| 8/8 [00:00<00:00, 25.07it/s, loss=4.63e-6]\n"
     ]
    },
    {
     "name": "stdout",
     "output_type": "stream",
     "text": [
      "Epoch 162\n"
     ]
    },
    {
     "name": "stderr",
     "output_type": "stream",
     "text": [
      "Training: 100%|██████████| 8/8 [00:00<00:00, 25.64it/s, loss=4.73e-6]\n"
     ]
    },
    {
     "name": "stdout",
     "output_type": "stream",
     "text": [
      "Epoch 163\n"
     ]
    },
    {
     "name": "stderr",
     "output_type": "stream",
     "text": [
      "Training: 100%|██████████| 8/8 [00:00<00:00, 25.70it/s, loss=6.76e-6]\n"
     ]
    },
    {
     "name": "stdout",
     "output_type": "stream",
     "text": [
      "Epoch 164\n"
     ]
    },
    {
     "name": "stderr",
     "output_type": "stream",
     "text": [
      "Training: 100%|██████████| 8/8 [00:00<00:00, 25.28it/s, loss=1.25e-5]\n"
     ]
    },
    {
     "name": "stdout",
     "output_type": "stream",
     "text": [
      "Epoch 165\n"
     ]
    },
    {
     "name": "stderr",
     "output_type": "stream",
     "text": [
      "Training: 100%|██████████| 8/8 [00:00<00:00, 25.69it/s, loss=5.59e-6]\n"
     ]
    },
    {
     "name": "stdout",
     "output_type": "stream",
     "text": [
      "Epoch 166\n"
     ]
    },
    {
     "name": "stderr",
     "output_type": "stream",
     "text": [
      "Training: 100%|██████████| 8/8 [00:00<00:00, 25.90it/s, loss=5.48e-6]\n"
     ]
    },
    {
     "name": "stdout",
     "output_type": "stream",
     "text": [
      "Epoch 167\n"
     ]
    },
    {
     "name": "stderr",
     "output_type": "stream",
     "text": [
      "Training: 100%|██████████| 8/8 [00:00<00:00, 25.62it/s, loss=6.54e-6]\n"
     ]
    },
    {
     "name": "stdout",
     "output_type": "stream",
     "text": [
      "Epoch 168\n"
     ]
    },
    {
     "name": "stderr",
     "output_type": "stream",
     "text": [
      "Training: 100%|██████████| 8/8 [00:00<00:00, 25.41it/s, loss=5.79e-6]\n"
     ]
    },
    {
     "name": "stdout",
     "output_type": "stream",
     "text": [
      "Epoch 169\n"
     ]
    },
    {
     "name": "stderr",
     "output_type": "stream",
     "text": [
      "Training: 100%|██████████| 8/8 [00:00<00:00, 25.69it/s, loss=5.94e-6]\n",
      "Validation: 100%|██████████| 5/5 [00:00<00:00, 51.05it/s, accuracy=1]\n"
     ]
    },
    {
     "name": "stdout",
     "output_type": "stream",
     "text": [
      "Epoch 170\n"
     ]
    },
    {
     "name": "stderr",
     "output_type": "stream",
     "text": [
      "Training: 100%|██████████| 8/8 [00:00<00:00, 25.83it/s, loss=6.16e-6]\n"
     ]
    },
    {
     "name": "stdout",
     "output_type": "stream",
     "text": [
      "Epoch 171\n"
     ]
    },
    {
     "name": "stderr",
     "output_type": "stream",
     "text": [
      "Training: 100%|██████████| 8/8 [00:00<00:00, 25.38it/s, loss=7.76e-6]\n"
     ]
    },
    {
     "name": "stdout",
     "output_type": "stream",
     "text": [
      "Epoch 172\n"
     ]
    },
    {
     "name": "stderr",
     "output_type": "stream",
     "text": [
      "Training: 100%|██████████| 8/8 [00:00<00:00, 25.50it/s, loss=5.51e-6]\n"
     ]
    },
    {
     "name": "stdout",
     "output_type": "stream",
     "text": [
      "Epoch 173\n"
     ]
    },
    {
     "name": "stderr",
     "output_type": "stream",
     "text": [
      "Training: 100%|██████████| 8/8 [00:00<00:00, 25.84it/s, loss=6.37e-6]\n"
     ]
    },
    {
     "name": "stdout",
     "output_type": "stream",
     "text": [
      "Epoch 174\n"
     ]
    },
    {
     "name": "stderr",
     "output_type": "stream",
     "text": [
      "Training: 100%|██████████| 8/8 [00:00<00:00, 25.16it/s, loss=5.36e-6]\n"
     ]
    },
    {
     "name": "stdout",
     "output_type": "stream",
     "text": [
      "Epoch 175\n"
     ]
    },
    {
     "name": "stderr",
     "output_type": "stream",
     "text": [
      "Training: 100%|██████████| 8/8 [00:00<00:00, 25.10it/s, loss=8.67e-6]\n"
     ]
    },
    {
     "name": "stdout",
     "output_type": "stream",
     "text": [
      "Epoch 176\n"
     ]
    },
    {
     "name": "stderr",
     "output_type": "stream",
     "text": [
      "Training: 100%|██████████| 8/8 [00:00<00:00, 25.23it/s, loss=9.84e-6]\n"
     ]
    },
    {
     "name": "stdout",
     "output_type": "stream",
     "text": [
      "Epoch 177\n"
     ]
    },
    {
     "name": "stderr",
     "output_type": "stream",
     "text": [
      "Training: 100%|██████████| 8/8 [00:00<00:00, 25.54it/s, loss=7.7e-6]\n"
     ]
    },
    {
     "name": "stdout",
     "output_type": "stream",
     "text": [
      "Epoch 178\n"
     ]
    },
    {
     "name": "stderr",
     "output_type": "stream",
     "text": [
      "Training: 100%|██████████| 8/8 [00:00<00:00, 25.91it/s, loss=9.01e-6]\n"
     ]
    },
    {
     "name": "stdout",
     "output_type": "stream",
     "text": [
      "Epoch 179\n"
     ]
    },
    {
     "name": "stderr",
     "output_type": "stream",
     "text": [
      "Training: 100%|██████████| 8/8 [00:00<00:00, 25.36it/s, loss=6.39e-6]\n",
      "Validation: 100%|██████████| 5/5 [00:00<00:00, 53.17it/s, accuracy=1]\n"
     ]
    },
    {
     "name": "stdout",
     "output_type": "stream",
     "text": [
      "Epoch 180\n"
     ]
    },
    {
     "name": "stderr",
     "output_type": "stream",
     "text": [
      "Training: 100%|██████████| 8/8 [00:00<00:00, 25.94it/s, loss=8.17e-6]\n"
     ]
    },
    {
     "name": "stdout",
     "output_type": "stream",
     "text": [
      "Epoch 181\n"
     ]
    },
    {
     "name": "stderr",
     "output_type": "stream",
     "text": [
      "Training: 100%|██████████| 8/8 [00:00<00:00, 25.29it/s, loss=9.48e-6]\n"
     ]
    },
    {
     "name": "stdout",
     "output_type": "stream",
     "text": [
      "Epoch 182\n"
     ]
    },
    {
     "name": "stderr",
     "output_type": "stream",
     "text": [
      "Training: 100%|██████████| 8/8 [00:00<00:00, 25.36it/s, loss=9.16e-6]\n"
     ]
    },
    {
     "name": "stdout",
     "output_type": "stream",
     "text": [
      "Epoch 183\n"
     ]
    },
    {
     "name": "stderr",
     "output_type": "stream",
     "text": [
      "Training: 100%|██████████| 8/8 [00:00<00:00, 25.54it/s, loss=6.59e-6]\n"
     ]
    },
    {
     "name": "stdout",
     "output_type": "stream",
     "text": [
      "Epoch 184\n"
     ]
    },
    {
     "name": "stderr",
     "output_type": "stream",
     "text": [
      "Training: 100%|██████████| 8/8 [00:00<00:00, 25.47it/s, loss=1.33e-5]\n"
     ]
    },
    {
     "name": "stdout",
     "output_type": "stream",
     "text": [
      "Epoch 185\n"
     ]
    },
    {
     "name": "stderr",
     "output_type": "stream",
     "text": [
      "Training: 100%|██████████| 8/8 [00:00<00:00, 25.23it/s, loss=7.71e-6]\n"
     ]
    },
    {
     "name": "stdout",
     "output_type": "stream",
     "text": [
      "Epoch 186\n"
     ]
    },
    {
     "name": "stderr",
     "output_type": "stream",
     "text": [
      "Training: 100%|██████████| 8/8 [00:00<00:00, 25.34it/s, loss=8.6e-6]\n"
     ]
    },
    {
     "name": "stdout",
     "output_type": "stream",
     "text": [
      "Epoch 187\n"
     ]
    },
    {
     "name": "stderr",
     "output_type": "stream",
     "text": [
      "Training: 100%|██████████| 8/8 [00:00<00:00, 25.59it/s, loss=1.02e-5]\n"
     ]
    },
    {
     "name": "stdout",
     "output_type": "stream",
     "text": [
      "Epoch 188\n"
     ]
    },
    {
     "name": "stderr",
     "output_type": "stream",
     "text": [
      "Training: 100%|██████████| 8/8 [00:00<00:00, 25.61it/s, loss=7.39e-6]\n"
     ]
    },
    {
     "name": "stdout",
     "output_type": "stream",
     "text": [
      "Epoch 189\n"
     ]
    },
    {
     "name": "stderr",
     "output_type": "stream",
     "text": [
      "Training: 100%|██████████| 8/8 [00:00<00:00, 25.40it/s, loss=8.6e-6]\n",
      "Validation: 100%|██████████| 5/5 [00:00<00:00, 50.27it/s, accuracy=1]\n"
     ]
    },
    {
     "name": "stdout",
     "output_type": "stream",
     "text": [
      "Epoch 190\n"
     ]
    },
    {
     "name": "stderr",
     "output_type": "stream",
     "text": [
      "Training: 100%|██████████| 8/8 [00:00<00:00, 25.70it/s, loss=9.47e-6]\n"
     ]
    },
    {
     "name": "stdout",
     "output_type": "stream",
     "text": [
      "Epoch 191\n"
     ]
    },
    {
     "name": "stderr",
     "output_type": "stream",
     "text": [
      "Training: 100%|██████████| 8/8 [00:00<00:00, 25.33it/s, loss=1.05e-5]\n"
     ]
    },
    {
     "name": "stdout",
     "output_type": "stream",
     "text": [
      "Epoch 192\n"
     ]
    },
    {
     "name": "stderr",
     "output_type": "stream",
     "text": [
      "Training: 100%|██████████| 8/8 [00:00<00:00, 25.56it/s, loss=8.86e-6]\n"
     ]
    },
    {
     "name": "stdout",
     "output_type": "stream",
     "text": [
      "Epoch 193\n"
     ]
    },
    {
     "name": "stderr",
     "output_type": "stream",
     "text": [
      "Training: 100%|██████████| 8/8 [00:00<00:00, 25.44it/s, loss=7.17e-6]\n"
     ]
    },
    {
     "name": "stdout",
     "output_type": "stream",
     "text": [
      "Epoch 194\n"
     ]
    },
    {
     "name": "stderr",
     "output_type": "stream",
     "text": [
      "Training: 100%|██████████| 8/8 [00:00<00:00, 25.70it/s, loss=1.09e-5]\n"
     ]
    },
    {
     "name": "stdout",
     "output_type": "stream",
     "text": [
      "Epoch 195\n"
     ]
    },
    {
     "name": "stderr",
     "output_type": "stream",
     "text": [
      "Training: 100%|██████████| 8/8 [00:00<00:00, 25.74it/s, loss=1.73e-5]\n"
     ]
    },
    {
     "name": "stdout",
     "output_type": "stream",
     "text": [
      "Epoch 196\n"
     ]
    },
    {
     "name": "stderr",
     "output_type": "stream",
     "text": [
      "Training: 100%|██████████| 8/8 [00:00<00:00, 25.45it/s, loss=7.57e-6]\n"
     ]
    },
    {
     "name": "stdout",
     "output_type": "stream",
     "text": [
      "Epoch 197\n"
     ]
    },
    {
     "name": "stderr",
     "output_type": "stream",
     "text": [
      "Training: 100%|██████████| 8/8 [00:00<00:00, 25.02it/s, loss=1.37e-5]\n"
     ]
    },
    {
     "name": "stdout",
     "output_type": "stream",
     "text": [
      "Epoch 198\n"
     ]
    },
    {
     "name": "stderr",
     "output_type": "stream",
     "text": [
      "Training: 100%|██████████| 8/8 [00:00<00:00, 25.20it/s, loss=9.26e-6]\n"
     ]
    },
    {
     "name": "stdout",
     "output_type": "stream",
     "text": [
      "Epoch 199\n"
     ]
    },
    {
     "name": "stderr",
     "output_type": "stream",
     "text": [
      "Training: 100%|██████████| 8/8 [00:00<00:00, 25.36it/s, loss=1.79e-5]\n",
      "Validation: 100%|██████████| 5/5 [00:00<00:00, 43.38it/s, accuracy=1]\n"
     ]
    }
   ],
   "source": [
    "from easyfsl.utils import evaluate\n",
    "\n",
    "\n",
    "best_state = classical_classifier.state_dict()\n",
    "best_validation_accuracy = 0.0\n",
    "validation_frequency = 10\n",
    "for epoch in range(n_epochs):\n",
    "    print(f\"Epoch {epoch}\")\n",
    "    average_loss = training_epoch2(classical_classifier, classical_train_loader, classical_train_optimizer)\n",
    "\n",
    "    if epoch % validation_frequency == validation_frequency - 1:\n",
    "\n",
    "        # We use this very convenient method from EasyFSL's ResNet to specify\n",
    "        # that the model shouldn't use its last fully connected layer during validation.\n",
    "        classical_classifier.set_use_fc(False)\n",
    "        validation_accuracy = evaluate(\n",
    "            val_classifier, val_loader, device=DEVICE, tqdm_prefix=\"Validation\"\n",
    "        )\n",
    "        classical_classifier.set_use_fc(True)\n",
    "\n",
    "        if validation_accuracy > best_validation_accuracy:\n",
    "            best_validation_accuracy = validation_accuracy\n",
    "            best_state = copy.deepcopy(val_classifier.state_dict())\n",
    "            # state_dict() returns a reference to the still evolving model's state so we deepcopy\n",
    "            # https://pytorch.org/tutorials/beginner/saving_loading_models\n",
    "            print(\"Ding ding ding! We found a new best model!\")\n",
    "\n",
    "        tb_writer.add_scalar(\"Val/acc\", validation_accuracy, epoch)\n",
    "\n",
    "    tb_writer.add_scalar(\"Train/loss\", average_loss, epoch)\n",
    "\n",
    "    # Warn the scheduler that we did an epoch\n",
    "    # so it knows when to decrease the learning rate\n",
    "    train_scheduler.step()"
   ]
  },
  {
   "cell_type": "code",
   "execution_count": 21,
   "id": "bc975e14",
   "metadata": {
    "execution": {
     "iopub.execute_input": "2025-04-17T22:03:18.697521Z",
     "iopub.status.busy": "2025-04-17T22:03:18.697157Z",
     "iopub.status.idle": "2025-04-17T22:03:18.879699Z",
     "shell.execute_reply": "2025-04-17T22:03:18.878847Z"
    },
    "papermill": {
     "duration": 0.952328,
     "end_time": "2025-04-17T22:03:18.881191",
     "exception": false,
     "start_time": "2025-04-17T22:03:17.928863",
     "status": "completed"
    },
    "tags": []
   },
   "outputs": [],
   "source": [
    "from torch.utils.data import DataLoader\n",
    "\n",
    "batch_size = 128\n",
    "classical_train_loader = DataLoader(attack_dataset, batch_size=batch_size, shuffle=True, num_workers=n_workers)\n",
    "\n",
    "classical_classifier = resnet12(\n",
    "    use_fc=True,\n",
    "    num_classes=len(set(attack_dataset.get_labels())),\n",
    ").to(DEVICE)\n",
    "\n",
    "val_classifier = PrototypicalNetworks(classical_classifier).to(DEVICE)\n",
    "\n",
    "LOSS_FUNCTION = nn.CrossEntropyLoss()\n",
    "\n",
    "scheduler_milestones = [150, 180]\n",
    "scheduler_gamma = 0.1\n",
    "learning_rate = 1e-01\n",
    "tb_logs_dir = Path(\".\")\n",
    "\n",
    "classical_train_optimizer = SGD(\n",
    "    classical_classifier.parameters(), lr=learning_rate, momentum=0.9, weight_decay=5e-4\n",
    ")\n",
    "classical_train_scheduler = MultiStepLR(\n",
    "    classical_train_optimizer,\n",
    "    milestones=scheduler_milestones,\n",
    "    gamma=scheduler_gamma,\n",
    ")\n",
    "\n",
    "tb_writer = SummaryWriter(log_dir=str(tb_logs_dir))"
   ]
  },
  {
   "cell_type": "code",
   "execution_count": 22,
   "id": "9932432e",
   "metadata": {
    "execution": {
     "iopub.execute_input": "2025-04-17T22:03:20.403377Z",
     "iopub.status.busy": "2025-04-17T22:03:20.403086Z",
     "iopub.status.idle": "2025-04-17T22:04:25.816030Z",
     "shell.execute_reply": "2025-04-17T22:04:25.814928Z"
    },
    "papermill": {
     "duration": 66.117959,
     "end_time": "2025-04-17T22:04:25.817235",
     "exception": false,
     "start_time": "2025-04-17T22:03:19.699276",
     "status": "completed"
    },
    "tags": []
   },
   "outputs": [
    {
     "name": "stdout",
     "output_type": "stream",
     "text": [
      "Epoch 0\n"
     ]
    },
    {
     "name": "stderr",
     "output_type": "stream",
     "text": [
      "Training: 100%|██████████| 4/4 [00:00<00:00,  9.63it/s, loss=1.91]\n"
     ]
    },
    {
     "name": "stdout",
     "output_type": "stream",
     "text": [
      "Epoch 1\n"
     ]
    },
    {
     "name": "stderr",
     "output_type": "stream",
     "text": [
      "Training: 100%|██████████| 4/4 [00:00<00:00, 13.54it/s, loss=2.37]\n"
     ]
    },
    {
     "name": "stdout",
     "output_type": "stream",
     "text": [
      "Epoch 2\n"
     ]
    },
    {
     "name": "stderr",
     "output_type": "stream",
     "text": [
      "Training: 100%|██████████| 4/4 [00:00<00:00, 13.56it/s, loss=2.21]\n"
     ]
    },
    {
     "name": "stdout",
     "output_type": "stream",
     "text": [
      "Epoch 3\n"
     ]
    },
    {
     "name": "stderr",
     "output_type": "stream",
     "text": [
      "Training: 100%|██████████| 4/4 [00:00<00:00, 13.32it/s, loss=1.25]\n"
     ]
    },
    {
     "name": "stdout",
     "output_type": "stream",
     "text": [
      "Epoch 4\n"
     ]
    },
    {
     "name": "stderr",
     "output_type": "stream",
     "text": [
      "Training: 100%|██████████| 4/4 [00:00<00:00, 13.47it/s, loss=1.1]\n"
     ]
    },
    {
     "name": "stdout",
     "output_type": "stream",
     "text": [
      "Epoch 5\n"
     ]
    },
    {
     "name": "stderr",
     "output_type": "stream",
     "text": [
      "Training: 100%|██████████| 4/4 [00:00<00:00, 13.49it/s, loss=1.08]\n"
     ]
    },
    {
     "name": "stdout",
     "output_type": "stream",
     "text": [
      "Epoch 6\n"
     ]
    },
    {
     "name": "stderr",
     "output_type": "stream",
     "text": [
      "Training: 100%|██████████| 4/4 [00:00<00:00, 13.39it/s, loss=1.12]\n"
     ]
    },
    {
     "name": "stdout",
     "output_type": "stream",
     "text": [
      "Epoch 7\n"
     ]
    },
    {
     "name": "stderr",
     "output_type": "stream",
     "text": [
      "Training: 100%|██████████| 4/4 [00:00<00:00, 13.61it/s, loss=1.05]\n"
     ]
    },
    {
     "name": "stdout",
     "output_type": "stream",
     "text": [
      "Epoch 8\n"
     ]
    },
    {
     "name": "stderr",
     "output_type": "stream",
     "text": [
      "Training: 100%|██████████| 4/4 [00:00<00:00, 13.58it/s, loss=0.996]\n"
     ]
    },
    {
     "name": "stdout",
     "output_type": "stream",
     "text": [
      "Epoch 9\n"
     ]
    },
    {
     "name": "stderr",
     "output_type": "stream",
     "text": [
      "Training: 100%|██████████| 4/4 [00:00<00:00, 13.29it/s, loss=0.923]\n",
      "Validation: 100%|██████████| 5/5 [00:00<00:00, 49.12it/s, accuracy=1]\n"
     ]
    },
    {
     "name": "stdout",
     "output_type": "stream",
     "text": [
      "Ding ding ding! We found a new best model!\n",
      "Epoch 10\n"
     ]
    },
    {
     "name": "stderr",
     "output_type": "stream",
     "text": [
      "Training: 100%|██████████| 4/4 [00:00<00:00, 13.16it/s, loss=0.871]\n"
     ]
    },
    {
     "name": "stdout",
     "output_type": "stream",
     "text": [
      "Epoch 11\n"
     ]
    },
    {
     "name": "stderr",
     "output_type": "stream",
     "text": [
      "Training: 100%|██████████| 4/4 [00:00<00:00, 13.58it/s, loss=0.925]\n"
     ]
    },
    {
     "name": "stdout",
     "output_type": "stream",
     "text": [
      "Epoch 12\n"
     ]
    },
    {
     "name": "stderr",
     "output_type": "stream",
     "text": [
      "Training: 100%|██████████| 4/4 [00:00<00:00, 13.23it/s, loss=0.875]\n"
     ]
    },
    {
     "name": "stdout",
     "output_type": "stream",
     "text": [
      "Epoch 13\n"
     ]
    },
    {
     "name": "stderr",
     "output_type": "stream",
     "text": [
      "Training: 100%|██████████| 4/4 [00:00<00:00, 13.59it/s, loss=0.971]\n"
     ]
    },
    {
     "name": "stdout",
     "output_type": "stream",
     "text": [
      "Epoch 14\n"
     ]
    },
    {
     "name": "stderr",
     "output_type": "stream",
     "text": [
      "Training: 100%|██████████| 4/4 [00:00<00:00, 13.73it/s, loss=1.01]\n"
     ]
    },
    {
     "name": "stdout",
     "output_type": "stream",
     "text": [
      "Epoch 15\n"
     ]
    },
    {
     "name": "stderr",
     "output_type": "stream",
     "text": [
      "Training: 100%|██████████| 4/4 [00:00<00:00, 13.79it/s, loss=0.856]\n"
     ]
    },
    {
     "name": "stdout",
     "output_type": "stream",
     "text": [
      "Epoch 16\n"
     ]
    },
    {
     "name": "stderr",
     "output_type": "stream",
     "text": [
      "Training: 100%|██████████| 4/4 [00:00<00:00, 13.95it/s, loss=0.873]\n"
     ]
    },
    {
     "name": "stdout",
     "output_type": "stream",
     "text": [
      "Epoch 17\n"
     ]
    },
    {
     "name": "stderr",
     "output_type": "stream",
     "text": [
      "Training: 100%|██████████| 4/4 [00:00<00:00, 13.71it/s, loss=0.909]\n"
     ]
    },
    {
     "name": "stdout",
     "output_type": "stream",
     "text": [
      "Epoch 18\n"
     ]
    },
    {
     "name": "stderr",
     "output_type": "stream",
     "text": [
      "Training: 100%|██████████| 4/4 [00:00<00:00, 13.54it/s, loss=0.832]\n"
     ]
    },
    {
     "name": "stdout",
     "output_type": "stream",
     "text": [
      "Epoch 19\n"
     ]
    },
    {
     "name": "stderr",
     "output_type": "stream",
     "text": [
      "Training: 100%|██████████| 4/4 [00:00<00:00, 14.10it/s, loss=0.791]\n",
      "Validation: 100%|██████████| 5/5 [00:00<00:00, 51.58it/s, accuracy=1]\n"
     ]
    },
    {
     "name": "stdout",
     "output_type": "stream",
     "text": [
      "Epoch 20\n"
     ]
    },
    {
     "name": "stderr",
     "output_type": "stream",
     "text": [
      "Training: 100%|██████████| 4/4 [00:00<00:00, 13.69it/s, loss=0.843]\n"
     ]
    },
    {
     "name": "stdout",
     "output_type": "stream",
     "text": [
      "Epoch 21\n"
     ]
    },
    {
     "name": "stderr",
     "output_type": "stream",
     "text": [
      "Training: 100%|██████████| 4/4 [00:00<00:00, 13.53it/s, loss=0.796]\n"
     ]
    },
    {
     "name": "stdout",
     "output_type": "stream",
     "text": [
      "Epoch 22\n"
     ]
    },
    {
     "name": "stderr",
     "output_type": "stream",
     "text": [
      "Training: 100%|██████████| 4/4 [00:00<00:00, 13.57it/s, loss=0.815]\n"
     ]
    },
    {
     "name": "stdout",
     "output_type": "stream",
     "text": [
      "Epoch 23\n"
     ]
    },
    {
     "name": "stderr",
     "output_type": "stream",
     "text": [
      "Training: 100%|██████████| 4/4 [00:00<00:00, 13.78it/s, loss=0.817]\n"
     ]
    },
    {
     "name": "stdout",
     "output_type": "stream",
     "text": [
      "Epoch 24\n"
     ]
    },
    {
     "name": "stderr",
     "output_type": "stream",
     "text": [
      "Training: 100%|██████████| 4/4 [00:00<00:00, 13.32it/s, loss=0.874]\n"
     ]
    },
    {
     "name": "stdout",
     "output_type": "stream",
     "text": [
      "Epoch 25\n"
     ]
    },
    {
     "name": "stderr",
     "output_type": "stream",
     "text": [
      "Training: 100%|██████████| 4/4 [00:00<00:00, 13.46it/s, loss=0.978]\n"
     ]
    },
    {
     "name": "stdout",
     "output_type": "stream",
     "text": [
      "Epoch 26\n"
     ]
    },
    {
     "name": "stderr",
     "output_type": "stream",
     "text": [
      "Training: 100%|██████████| 4/4 [00:00<00:00, 12.78it/s, loss=0.993]\n"
     ]
    },
    {
     "name": "stdout",
     "output_type": "stream",
     "text": [
      "Epoch 27\n"
     ]
    },
    {
     "name": "stderr",
     "output_type": "stream",
     "text": [
      "Training: 100%|██████████| 4/4 [00:00<00:00, 13.51it/s, loss=0.918]\n"
     ]
    },
    {
     "name": "stdout",
     "output_type": "stream",
     "text": [
      "Epoch 28\n"
     ]
    },
    {
     "name": "stderr",
     "output_type": "stream",
     "text": [
      "Training: 100%|██████████| 4/4 [00:00<00:00, 13.36it/s, loss=0.84]\n"
     ]
    },
    {
     "name": "stdout",
     "output_type": "stream",
     "text": [
      "Epoch 29\n"
     ]
    },
    {
     "name": "stderr",
     "output_type": "stream",
     "text": [
      "Training: 100%|██████████| 4/4 [00:00<00:00, 13.85it/s, loss=0.795]\n",
      "Validation: 100%|██████████| 5/5 [00:00<00:00, 49.57it/s, accuracy=1]\n"
     ]
    },
    {
     "name": "stdout",
     "output_type": "stream",
     "text": [
      "Epoch 30\n"
     ]
    },
    {
     "name": "stderr",
     "output_type": "stream",
     "text": [
      "Training: 100%|██████████| 4/4 [00:00<00:00, 14.13it/s, loss=0.833]\n"
     ]
    },
    {
     "name": "stdout",
     "output_type": "stream",
     "text": [
      "Epoch 31\n"
     ]
    },
    {
     "name": "stderr",
     "output_type": "stream",
     "text": [
      "Training: 100%|██████████| 4/4 [00:00<00:00, 13.81it/s, loss=0.797]\n"
     ]
    },
    {
     "name": "stdout",
     "output_type": "stream",
     "text": [
      "Epoch 32\n"
     ]
    },
    {
     "name": "stderr",
     "output_type": "stream",
     "text": [
      "Training: 100%|██████████| 4/4 [00:00<00:00, 13.43it/s, loss=0.77]\n"
     ]
    },
    {
     "name": "stdout",
     "output_type": "stream",
     "text": [
      "Epoch 33\n"
     ]
    },
    {
     "name": "stderr",
     "output_type": "stream",
     "text": [
      "Training: 100%|██████████| 4/4 [00:00<00:00, 13.77it/s, loss=0.722]\n"
     ]
    },
    {
     "name": "stdout",
     "output_type": "stream",
     "text": [
      "Epoch 34\n"
     ]
    },
    {
     "name": "stderr",
     "output_type": "stream",
     "text": [
      "Training: 100%|██████████| 4/4 [00:00<00:00, 13.78it/s, loss=0.743]\n"
     ]
    },
    {
     "name": "stdout",
     "output_type": "stream",
     "text": [
      "Epoch 35\n"
     ]
    },
    {
     "name": "stderr",
     "output_type": "stream",
     "text": [
      "Training: 100%|██████████| 4/4 [00:00<00:00, 13.35it/s, loss=0.687]\n"
     ]
    },
    {
     "name": "stdout",
     "output_type": "stream",
     "text": [
      "Epoch 36\n"
     ]
    },
    {
     "name": "stderr",
     "output_type": "stream",
     "text": [
      "Training: 100%|██████████| 4/4 [00:00<00:00, 13.61it/s, loss=0.696]\n"
     ]
    },
    {
     "name": "stdout",
     "output_type": "stream",
     "text": [
      "Epoch 37\n"
     ]
    },
    {
     "name": "stderr",
     "output_type": "stream",
     "text": [
      "Training: 100%|██████████| 4/4 [00:00<00:00, 13.29it/s, loss=0.692]\n"
     ]
    },
    {
     "name": "stdout",
     "output_type": "stream",
     "text": [
      "Epoch 38\n"
     ]
    },
    {
     "name": "stderr",
     "output_type": "stream",
     "text": [
      "Training: 100%|██████████| 4/4 [00:00<00:00, 13.61it/s, loss=0.636]\n"
     ]
    },
    {
     "name": "stdout",
     "output_type": "stream",
     "text": [
      "Epoch 39\n"
     ]
    },
    {
     "name": "stderr",
     "output_type": "stream",
     "text": [
      "Training: 100%|██████████| 4/4 [00:00<00:00, 13.66it/s, loss=0.612]\n",
      "Validation: 100%|██████████| 5/5 [00:00<00:00, 49.90it/s, accuracy=1]\n"
     ]
    },
    {
     "name": "stdout",
     "output_type": "stream",
     "text": [
      "Epoch 40\n"
     ]
    },
    {
     "name": "stderr",
     "output_type": "stream",
     "text": [
      "Training: 100%|██████████| 4/4 [00:00<00:00, 13.96it/s, loss=0.601]\n"
     ]
    },
    {
     "name": "stdout",
     "output_type": "stream",
     "text": [
      "Epoch 41\n"
     ]
    },
    {
     "name": "stderr",
     "output_type": "stream",
     "text": [
      "Training: 100%|██████████| 4/4 [00:00<00:00, 13.85it/s, loss=0.58]\n"
     ]
    },
    {
     "name": "stdout",
     "output_type": "stream",
     "text": [
      "Epoch 42\n"
     ]
    },
    {
     "name": "stderr",
     "output_type": "stream",
     "text": [
      "Training: 100%|██████████| 4/4 [00:00<00:00, 13.80it/s, loss=0.608]\n"
     ]
    },
    {
     "name": "stdout",
     "output_type": "stream",
     "text": [
      "Epoch 43\n"
     ]
    },
    {
     "name": "stderr",
     "output_type": "stream",
     "text": [
      "Training: 100%|██████████| 4/4 [00:00<00:00, 13.63it/s, loss=0.597]\n"
     ]
    },
    {
     "name": "stdout",
     "output_type": "stream",
     "text": [
      "Epoch 44\n"
     ]
    },
    {
     "name": "stderr",
     "output_type": "stream",
     "text": [
      "Training: 100%|██████████| 4/4 [00:00<00:00, 13.97it/s, loss=0.58]\n"
     ]
    },
    {
     "name": "stdout",
     "output_type": "stream",
     "text": [
      "Epoch 45\n"
     ]
    },
    {
     "name": "stderr",
     "output_type": "stream",
     "text": [
      "Training: 100%|██████████| 4/4 [00:00<00:00, 13.96it/s, loss=0.621]\n"
     ]
    },
    {
     "name": "stdout",
     "output_type": "stream",
     "text": [
      "Epoch 46\n"
     ]
    },
    {
     "name": "stderr",
     "output_type": "stream",
     "text": [
      "Training: 100%|██████████| 4/4 [00:00<00:00, 13.79it/s, loss=0.618]\n"
     ]
    },
    {
     "name": "stdout",
     "output_type": "stream",
     "text": [
      "Epoch 47\n"
     ]
    },
    {
     "name": "stderr",
     "output_type": "stream",
     "text": [
      "Training: 100%|██████████| 4/4 [00:00<00:00, 13.83it/s, loss=0.599]\n"
     ]
    },
    {
     "name": "stdout",
     "output_type": "stream",
     "text": [
      "Epoch 48\n"
     ]
    },
    {
     "name": "stderr",
     "output_type": "stream",
     "text": [
      "Training: 100%|██████████| 4/4 [00:00<00:00, 13.56it/s, loss=0.542]\n"
     ]
    },
    {
     "name": "stdout",
     "output_type": "stream",
     "text": [
      "Epoch 49\n"
     ]
    },
    {
     "name": "stderr",
     "output_type": "stream",
     "text": [
      "Training: 100%|██████████| 4/4 [00:00<00:00, 13.61it/s, loss=0.583]\n",
      "Validation: 100%|██████████| 5/5 [00:00<00:00, 51.93it/s, accuracy=1]\n"
     ]
    },
    {
     "name": "stdout",
     "output_type": "stream",
     "text": [
      "Epoch 50\n"
     ]
    },
    {
     "name": "stderr",
     "output_type": "stream",
     "text": [
      "Training: 100%|██████████| 4/4 [00:00<00:00, 13.43it/s, loss=0.642]\n"
     ]
    },
    {
     "name": "stdout",
     "output_type": "stream",
     "text": [
      "Epoch 51\n"
     ]
    },
    {
     "name": "stderr",
     "output_type": "stream",
     "text": [
      "Training: 100%|██████████| 4/4 [00:00<00:00, 13.65it/s, loss=0.603]\n"
     ]
    },
    {
     "name": "stdout",
     "output_type": "stream",
     "text": [
      "Epoch 52\n"
     ]
    },
    {
     "name": "stderr",
     "output_type": "stream",
     "text": [
      "Training: 100%|██████████| 4/4 [00:00<00:00, 13.65it/s, loss=0.872]\n"
     ]
    },
    {
     "name": "stdout",
     "output_type": "stream",
     "text": [
      "Epoch 53\n"
     ]
    },
    {
     "name": "stderr",
     "output_type": "stream",
     "text": [
      "Training: 100%|██████████| 4/4 [00:00<00:00, 13.75it/s, loss=0.739]\n"
     ]
    },
    {
     "name": "stdout",
     "output_type": "stream",
     "text": [
      "Epoch 54\n"
     ]
    },
    {
     "name": "stderr",
     "output_type": "stream",
     "text": [
      "Training: 100%|██████████| 4/4 [00:00<00:00, 13.58it/s, loss=0.714]\n"
     ]
    },
    {
     "name": "stdout",
     "output_type": "stream",
     "text": [
      "Epoch 55\n"
     ]
    },
    {
     "name": "stderr",
     "output_type": "stream",
     "text": [
      "Training: 100%|██████████| 4/4 [00:00<00:00, 13.25it/s, loss=0.758]\n"
     ]
    },
    {
     "name": "stdout",
     "output_type": "stream",
     "text": [
      "Epoch 56\n"
     ]
    },
    {
     "name": "stderr",
     "output_type": "stream",
     "text": [
      "Training: 100%|██████████| 4/4 [00:00<00:00, 13.46it/s, loss=0.708]\n"
     ]
    },
    {
     "name": "stdout",
     "output_type": "stream",
     "text": [
      "Epoch 57\n"
     ]
    },
    {
     "name": "stderr",
     "output_type": "stream",
     "text": [
      "Training: 100%|██████████| 4/4 [00:00<00:00, 13.61it/s, loss=0.721]\n"
     ]
    },
    {
     "name": "stdout",
     "output_type": "stream",
     "text": [
      "Epoch 58\n"
     ]
    },
    {
     "name": "stderr",
     "output_type": "stream",
     "text": [
      "Training: 100%|██████████| 4/4 [00:00<00:00, 12.33it/s, loss=0.699]\n"
     ]
    },
    {
     "name": "stdout",
     "output_type": "stream",
     "text": [
      "Epoch 59\n"
     ]
    },
    {
     "name": "stderr",
     "output_type": "stream",
     "text": [
      "Training: 100%|██████████| 4/4 [00:00<00:00, 13.48it/s, loss=0.59]\n",
      "Validation: 100%|██████████| 5/5 [00:00<00:00, 53.22it/s, accuracy=1]\n"
     ]
    },
    {
     "name": "stdout",
     "output_type": "stream",
     "text": [
      "Epoch 60\n"
     ]
    },
    {
     "name": "stderr",
     "output_type": "stream",
     "text": [
      "Training: 100%|██████████| 4/4 [00:00<00:00, 13.74it/s, loss=0.615]\n"
     ]
    },
    {
     "name": "stdout",
     "output_type": "stream",
     "text": [
      "Epoch 61\n"
     ]
    },
    {
     "name": "stderr",
     "output_type": "stream",
     "text": [
      "Training: 100%|██████████| 4/4 [00:00<00:00, 13.97it/s, loss=0.574]\n"
     ]
    },
    {
     "name": "stdout",
     "output_type": "stream",
     "text": [
      "Epoch 62\n"
     ]
    },
    {
     "name": "stderr",
     "output_type": "stream",
     "text": [
      "Training: 100%|██████████| 4/4 [00:00<00:00, 13.85it/s, loss=0.644]\n"
     ]
    },
    {
     "name": "stdout",
     "output_type": "stream",
     "text": [
      "Epoch 63\n"
     ]
    },
    {
     "name": "stderr",
     "output_type": "stream",
     "text": [
      "Training: 100%|██████████| 4/4 [00:00<00:00, 13.63it/s, loss=0.507]\n"
     ]
    },
    {
     "name": "stdout",
     "output_type": "stream",
     "text": [
      "Epoch 64\n"
     ]
    },
    {
     "name": "stderr",
     "output_type": "stream",
     "text": [
      "Training: 100%|██████████| 4/4 [00:00<00:00, 13.39it/s, loss=0.586]\n"
     ]
    },
    {
     "name": "stdout",
     "output_type": "stream",
     "text": [
      "Epoch 65\n"
     ]
    },
    {
     "name": "stderr",
     "output_type": "stream",
     "text": [
      "Training: 100%|██████████| 4/4 [00:00<00:00, 13.43it/s, loss=0.53]\n"
     ]
    },
    {
     "name": "stdout",
     "output_type": "stream",
     "text": [
      "Epoch 66\n"
     ]
    },
    {
     "name": "stderr",
     "output_type": "stream",
     "text": [
      "Training: 100%|██████████| 4/4 [00:00<00:00, 13.55it/s, loss=0.468]\n"
     ]
    },
    {
     "name": "stdout",
     "output_type": "stream",
     "text": [
      "Epoch 67\n"
     ]
    },
    {
     "name": "stderr",
     "output_type": "stream",
     "text": [
      "Training: 100%|██████████| 4/4 [00:00<00:00, 13.11it/s, loss=0.469]\n"
     ]
    },
    {
     "name": "stdout",
     "output_type": "stream",
     "text": [
      "Epoch 68\n"
     ]
    },
    {
     "name": "stderr",
     "output_type": "stream",
     "text": [
      "Training: 100%|██████████| 4/4 [00:00<00:00, 13.52it/s, loss=0.438]\n"
     ]
    },
    {
     "name": "stdout",
     "output_type": "stream",
     "text": [
      "Epoch 69\n"
     ]
    },
    {
     "name": "stderr",
     "output_type": "stream",
     "text": [
      "Training: 100%|██████████| 4/4 [00:00<00:00, 13.25it/s, loss=0.412]\n",
      "Validation: 100%|██████████| 5/5 [00:00<00:00, 49.58it/s, accuracy=1]\n"
     ]
    },
    {
     "name": "stdout",
     "output_type": "stream",
     "text": [
      "Epoch 70\n"
     ]
    },
    {
     "name": "stderr",
     "output_type": "stream",
     "text": [
      "Training: 100%|██████████| 4/4 [00:00<00:00, 13.64it/s, loss=0.461]\n"
     ]
    },
    {
     "name": "stdout",
     "output_type": "stream",
     "text": [
      "Epoch 71\n"
     ]
    },
    {
     "name": "stderr",
     "output_type": "stream",
     "text": [
      "Training: 100%|██████████| 4/4 [00:00<00:00, 13.38it/s, loss=0.458]\n"
     ]
    },
    {
     "name": "stdout",
     "output_type": "stream",
     "text": [
      "Epoch 72\n"
     ]
    },
    {
     "name": "stderr",
     "output_type": "stream",
     "text": [
      "Training: 100%|██████████| 4/4 [00:00<00:00, 13.07it/s, loss=0.442]\n"
     ]
    },
    {
     "name": "stdout",
     "output_type": "stream",
     "text": [
      "Epoch 73\n"
     ]
    },
    {
     "name": "stderr",
     "output_type": "stream",
     "text": [
      "Training: 100%|██████████| 4/4 [00:00<00:00, 13.21it/s, loss=0.485]\n"
     ]
    },
    {
     "name": "stdout",
     "output_type": "stream",
     "text": [
      "Epoch 74\n"
     ]
    },
    {
     "name": "stderr",
     "output_type": "stream",
     "text": [
      "Training: 100%|██████████| 4/4 [00:00<00:00, 13.63it/s, loss=0.571]\n"
     ]
    },
    {
     "name": "stdout",
     "output_type": "stream",
     "text": [
      "Epoch 75\n"
     ]
    },
    {
     "name": "stderr",
     "output_type": "stream",
     "text": [
      "Training: 100%|██████████| 4/4 [00:00<00:00, 13.63it/s, loss=0.427]\n"
     ]
    },
    {
     "name": "stdout",
     "output_type": "stream",
     "text": [
      "Epoch 76\n"
     ]
    },
    {
     "name": "stderr",
     "output_type": "stream",
     "text": [
      "Training: 100%|██████████| 4/4 [00:00<00:00, 13.74it/s, loss=0.433]\n"
     ]
    },
    {
     "name": "stdout",
     "output_type": "stream",
     "text": [
      "Epoch 77\n"
     ]
    },
    {
     "name": "stderr",
     "output_type": "stream",
     "text": [
      "Training: 100%|██████████| 4/4 [00:00<00:00, 13.70it/s, loss=0.458]\n"
     ]
    },
    {
     "name": "stdout",
     "output_type": "stream",
     "text": [
      "Epoch 78\n"
     ]
    },
    {
     "name": "stderr",
     "output_type": "stream",
     "text": [
      "Training: 100%|██████████| 4/4 [00:00<00:00, 13.62it/s, loss=0.402]\n"
     ]
    },
    {
     "name": "stdout",
     "output_type": "stream",
     "text": [
      "Epoch 79\n"
     ]
    },
    {
     "name": "stderr",
     "output_type": "stream",
     "text": [
      "Training: 100%|██████████| 4/4 [00:00<00:00, 13.48it/s, loss=0.387]\n",
      "Validation: 100%|██████████| 5/5 [00:00<00:00, 50.11it/s, accuracy=1]\n"
     ]
    },
    {
     "name": "stdout",
     "output_type": "stream",
     "text": [
      "Epoch 80\n"
     ]
    },
    {
     "name": "stderr",
     "output_type": "stream",
     "text": [
      "Training: 100%|██████████| 4/4 [00:00<00:00, 13.41it/s, loss=0.38]\n"
     ]
    },
    {
     "name": "stdout",
     "output_type": "stream",
     "text": [
      "Epoch 81\n"
     ]
    },
    {
     "name": "stderr",
     "output_type": "stream",
     "text": [
      "Training: 100%|██████████| 4/4 [00:00<00:00, 13.53it/s, loss=0.355]\n"
     ]
    },
    {
     "name": "stdout",
     "output_type": "stream",
     "text": [
      "Epoch 82\n"
     ]
    },
    {
     "name": "stderr",
     "output_type": "stream",
     "text": [
      "Training: 100%|██████████| 4/4 [00:00<00:00, 13.44it/s, loss=0.376]\n"
     ]
    },
    {
     "name": "stdout",
     "output_type": "stream",
     "text": [
      "Epoch 83\n"
     ]
    },
    {
     "name": "stderr",
     "output_type": "stream",
     "text": [
      "Training: 100%|██████████| 4/4 [00:00<00:00, 13.40it/s, loss=0.348]\n"
     ]
    },
    {
     "name": "stdout",
     "output_type": "stream",
     "text": [
      "Epoch 84\n"
     ]
    },
    {
     "name": "stderr",
     "output_type": "stream",
     "text": [
      "Training: 100%|██████████| 4/4 [00:00<00:00, 12.17it/s, loss=0.428]\n"
     ]
    },
    {
     "name": "stdout",
     "output_type": "stream",
     "text": [
      "Epoch 85\n"
     ]
    },
    {
     "name": "stderr",
     "output_type": "stream",
     "text": [
      "Training: 100%|██████████| 4/4 [00:00<00:00, 11.82it/s, loss=0.382]\n"
     ]
    },
    {
     "name": "stdout",
     "output_type": "stream",
     "text": [
      "Epoch 86\n"
     ]
    },
    {
     "name": "stderr",
     "output_type": "stream",
     "text": [
      "Training: 100%|██████████| 4/4 [00:00<00:00, 11.52it/s, loss=0.373]\n"
     ]
    },
    {
     "name": "stdout",
     "output_type": "stream",
     "text": [
      "Epoch 87\n"
     ]
    },
    {
     "name": "stderr",
     "output_type": "stream",
     "text": [
      "Training: 100%|██████████| 4/4 [00:00<00:00, 11.81it/s, loss=0.317]\n"
     ]
    },
    {
     "name": "stdout",
     "output_type": "stream",
     "text": [
      "Epoch 88\n"
     ]
    },
    {
     "name": "stderr",
     "output_type": "stream",
     "text": [
      "Training: 100%|██████████| 4/4 [00:00<00:00, 11.94it/s, loss=0.333]\n"
     ]
    },
    {
     "name": "stdout",
     "output_type": "stream",
     "text": [
      "Epoch 89\n"
     ]
    },
    {
     "name": "stderr",
     "output_type": "stream",
     "text": [
      "Training: 100%|██████████| 4/4 [00:00<00:00, 13.94it/s, loss=0.566]\n",
      "Validation: 100%|██████████| 5/5 [00:00<00:00, 52.01it/s, accuracy=1]\n"
     ]
    },
    {
     "name": "stdout",
     "output_type": "stream",
     "text": [
      "Epoch 90\n"
     ]
    },
    {
     "name": "stderr",
     "output_type": "stream",
     "text": [
      "Training: 100%|██████████| 4/4 [00:00<00:00, 13.61it/s, loss=0.922]\n"
     ]
    },
    {
     "name": "stdout",
     "output_type": "stream",
     "text": [
      "Epoch 91\n"
     ]
    },
    {
     "name": "stderr",
     "output_type": "stream",
     "text": [
      "Training: 100%|██████████| 4/4 [00:00<00:00, 13.58it/s, loss=0.654]\n"
     ]
    },
    {
     "name": "stdout",
     "output_type": "stream",
     "text": [
      "Epoch 92\n"
     ]
    },
    {
     "name": "stderr",
     "output_type": "stream",
     "text": [
      "Training: 100%|██████████| 4/4 [00:00<00:00, 12.94it/s, loss=0.589]\n"
     ]
    },
    {
     "name": "stdout",
     "output_type": "stream",
     "text": [
      "Epoch 93\n"
     ]
    },
    {
     "name": "stderr",
     "output_type": "stream",
     "text": [
      "Training: 100%|██████████| 4/4 [00:00<00:00, 12.22it/s, loss=0.542]\n"
     ]
    },
    {
     "name": "stdout",
     "output_type": "stream",
     "text": [
      "Epoch 94\n"
     ]
    },
    {
     "name": "stderr",
     "output_type": "stream",
     "text": [
      "Training: 100%|██████████| 4/4 [00:00<00:00, 12.60it/s, loss=0.462]\n"
     ]
    },
    {
     "name": "stdout",
     "output_type": "stream",
     "text": [
      "Epoch 95\n"
     ]
    },
    {
     "name": "stderr",
     "output_type": "stream",
     "text": [
      "Training: 100%|██████████| 4/4 [00:00<00:00, 12.36it/s, loss=0.394]\n"
     ]
    },
    {
     "name": "stdout",
     "output_type": "stream",
     "text": [
      "Epoch 96\n"
     ]
    },
    {
     "name": "stderr",
     "output_type": "stream",
     "text": [
      "Training: 100%|██████████| 4/4 [00:00<00:00, 13.38it/s, loss=0.401]\n"
     ]
    },
    {
     "name": "stdout",
     "output_type": "stream",
     "text": [
      "Epoch 97\n"
     ]
    },
    {
     "name": "stderr",
     "output_type": "stream",
     "text": [
      "Training: 100%|██████████| 4/4 [00:00<00:00, 13.56it/s, loss=0.413]\n"
     ]
    },
    {
     "name": "stdout",
     "output_type": "stream",
     "text": [
      "Epoch 98\n"
     ]
    },
    {
     "name": "stderr",
     "output_type": "stream",
     "text": [
      "Training: 100%|██████████| 4/4 [00:00<00:00, 13.38it/s, loss=0.446]\n"
     ]
    },
    {
     "name": "stdout",
     "output_type": "stream",
     "text": [
      "Epoch 99\n"
     ]
    },
    {
     "name": "stderr",
     "output_type": "stream",
     "text": [
      "Training: 100%|██████████| 4/4 [00:00<00:00, 13.21it/s, loss=0.435]\n",
      "Validation: 100%|██████████| 5/5 [00:00<00:00, 52.96it/s, accuracy=1]\n"
     ]
    },
    {
     "name": "stdout",
     "output_type": "stream",
     "text": [
      "Epoch 100\n"
     ]
    },
    {
     "name": "stderr",
     "output_type": "stream",
     "text": [
      "Training: 100%|██████████| 4/4 [00:00<00:00, 13.64it/s, loss=0.374]\n"
     ]
    },
    {
     "name": "stdout",
     "output_type": "stream",
     "text": [
      "Epoch 101\n"
     ]
    },
    {
     "name": "stderr",
     "output_type": "stream",
     "text": [
      "Training: 100%|██████████| 4/4 [00:00<00:00, 13.39it/s, loss=0.375]\n"
     ]
    },
    {
     "name": "stdout",
     "output_type": "stream",
     "text": [
      "Epoch 102\n"
     ]
    },
    {
     "name": "stderr",
     "output_type": "stream",
     "text": [
      "Training: 100%|██████████| 4/4 [00:00<00:00, 13.50it/s, loss=0.294]\n"
     ]
    },
    {
     "name": "stdout",
     "output_type": "stream",
     "text": [
      "Epoch 103\n"
     ]
    },
    {
     "name": "stderr",
     "output_type": "stream",
     "text": [
      "Training: 100%|██████████| 4/4 [00:00<00:00, 13.62it/s, loss=0.286]\n"
     ]
    },
    {
     "name": "stdout",
     "output_type": "stream",
     "text": [
      "Epoch 104\n"
     ]
    },
    {
     "name": "stderr",
     "output_type": "stream",
     "text": [
      "Training: 100%|██████████| 4/4 [00:00<00:00, 13.21it/s, loss=0.29]\n"
     ]
    },
    {
     "name": "stdout",
     "output_type": "stream",
     "text": [
      "Epoch 105\n"
     ]
    },
    {
     "name": "stderr",
     "output_type": "stream",
     "text": [
      "Training: 100%|██████████| 4/4 [00:00<00:00, 13.12it/s, loss=0.277]\n"
     ]
    },
    {
     "name": "stdout",
     "output_type": "stream",
     "text": [
      "Epoch 106\n"
     ]
    },
    {
     "name": "stderr",
     "output_type": "stream",
     "text": [
      "Training: 100%|██████████| 4/4 [00:00<00:00, 13.87it/s, loss=0.286]\n"
     ]
    },
    {
     "name": "stdout",
     "output_type": "stream",
     "text": [
      "Epoch 107\n"
     ]
    },
    {
     "name": "stderr",
     "output_type": "stream",
     "text": [
      "Training: 100%|██████████| 4/4 [00:00<00:00, 13.80it/s, loss=0.309]\n"
     ]
    },
    {
     "name": "stdout",
     "output_type": "stream",
     "text": [
      "Epoch 108\n"
     ]
    },
    {
     "name": "stderr",
     "output_type": "stream",
     "text": [
      "Training: 100%|██████████| 4/4 [00:00<00:00, 13.83it/s, loss=0.321]\n"
     ]
    },
    {
     "name": "stdout",
     "output_type": "stream",
     "text": [
      "Epoch 109\n"
     ]
    },
    {
     "name": "stderr",
     "output_type": "stream",
     "text": [
      "Training: 100%|██████████| 4/4 [00:00<00:00, 13.58it/s, loss=0.335]\n",
      "Validation: 100%|██████████| 5/5 [00:00<00:00, 51.90it/s, accuracy=1]\n"
     ]
    },
    {
     "name": "stdout",
     "output_type": "stream",
     "text": [
      "Epoch 110\n"
     ]
    },
    {
     "name": "stderr",
     "output_type": "stream",
     "text": [
      "Training: 100%|██████████| 4/4 [00:00<00:00, 14.37it/s, loss=0.368]\n"
     ]
    },
    {
     "name": "stdout",
     "output_type": "stream",
     "text": [
      "Epoch 111\n"
     ]
    },
    {
     "name": "stderr",
     "output_type": "stream",
     "text": [
      "Training: 100%|██████████| 4/4 [00:00<00:00, 13.64it/s, loss=0.254]\n"
     ]
    },
    {
     "name": "stdout",
     "output_type": "stream",
     "text": [
      "Epoch 112\n"
     ]
    },
    {
     "name": "stderr",
     "output_type": "stream",
     "text": [
      "Training: 100%|██████████| 4/4 [00:00<00:00, 13.25it/s, loss=0.284]\n"
     ]
    },
    {
     "name": "stdout",
     "output_type": "stream",
     "text": [
      "Epoch 113\n"
     ]
    },
    {
     "name": "stderr",
     "output_type": "stream",
     "text": [
      "Training: 100%|██████████| 4/4 [00:00<00:00, 13.08it/s, loss=0.334]\n"
     ]
    },
    {
     "name": "stdout",
     "output_type": "stream",
     "text": [
      "Epoch 114\n"
     ]
    },
    {
     "name": "stderr",
     "output_type": "stream",
     "text": [
      "Training: 100%|██████████| 4/4 [00:00<00:00, 13.23it/s, loss=0.34]\n"
     ]
    },
    {
     "name": "stdout",
     "output_type": "stream",
     "text": [
      "Epoch 115\n"
     ]
    },
    {
     "name": "stderr",
     "output_type": "stream",
     "text": [
      "Training: 100%|██████████| 4/4 [00:00<00:00, 13.39it/s, loss=0.284]\n"
     ]
    },
    {
     "name": "stdout",
     "output_type": "stream",
     "text": [
      "Epoch 116\n"
     ]
    },
    {
     "name": "stderr",
     "output_type": "stream",
     "text": [
      "Training: 100%|██████████| 4/4 [00:00<00:00, 13.54it/s, loss=0.248]\n"
     ]
    },
    {
     "name": "stdout",
     "output_type": "stream",
     "text": [
      "Epoch 117\n"
     ]
    },
    {
     "name": "stderr",
     "output_type": "stream",
     "text": [
      "Training: 100%|██████████| 4/4 [00:00<00:00, 13.41it/s, loss=0.313]\n"
     ]
    },
    {
     "name": "stdout",
     "output_type": "stream",
     "text": [
      "Epoch 118\n"
     ]
    },
    {
     "name": "stderr",
     "output_type": "stream",
     "text": [
      "Training: 100%|██████████| 4/4 [00:00<00:00, 13.46it/s, loss=0.232]\n"
     ]
    },
    {
     "name": "stdout",
     "output_type": "stream",
     "text": [
      "Epoch 119\n"
     ]
    },
    {
     "name": "stderr",
     "output_type": "stream",
     "text": [
      "Training: 100%|██████████| 4/4 [00:00<00:00, 13.01it/s, loss=0.263]\n",
      "Validation: 100%|██████████| 5/5 [00:00<00:00, 50.68it/s, accuracy=1]\n"
     ]
    },
    {
     "name": "stdout",
     "output_type": "stream",
     "text": [
      "Epoch 120\n"
     ]
    },
    {
     "name": "stderr",
     "output_type": "stream",
     "text": [
      "Training: 100%|██████████| 4/4 [00:00<00:00, 13.27it/s, loss=0.181]\n"
     ]
    },
    {
     "name": "stdout",
     "output_type": "stream",
     "text": [
      "Epoch 121\n"
     ]
    },
    {
     "name": "stderr",
     "output_type": "stream",
     "text": [
      "Training: 100%|██████████| 4/4 [00:00<00:00, 13.53it/s, loss=0.22]\n"
     ]
    },
    {
     "name": "stdout",
     "output_type": "stream",
     "text": [
      "Epoch 122\n"
     ]
    },
    {
     "name": "stderr",
     "output_type": "stream",
     "text": [
      "Training: 100%|██████████| 4/4 [00:00<00:00, 13.78it/s, loss=0.226]\n"
     ]
    },
    {
     "name": "stdout",
     "output_type": "stream",
     "text": [
      "Epoch 123\n"
     ]
    },
    {
     "name": "stderr",
     "output_type": "stream",
     "text": [
      "Training: 100%|██████████| 4/4 [00:00<00:00, 13.62it/s, loss=0.16]\n"
     ]
    },
    {
     "name": "stdout",
     "output_type": "stream",
     "text": [
      "Epoch 124\n"
     ]
    },
    {
     "name": "stderr",
     "output_type": "stream",
     "text": [
      "Training: 100%|██████████| 4/4 [00:00<00:00, 13.42it/s, loss=0.2]\n"
     ]
    },
    {
     "name": "stdout",
     "output_type": "stream",
     "text": [
      "Epoch 125\n"
     ]
    },
    {
     "name": "stderr",
     "output_type": "stream",
     "text": [
      "Training: 100%|██████████| 4/4 [00:00<00:00, 13.62it/s, loss=0.253]\n"
     ]
    },
    {
     "name": "stdout",
     "output_type": "stream",
     "text": [
      "Epoch 126\n"
     ]
    },
    {
     "name": "stderr",
     "output_type": "stream",
     "text": [
      "Training: 100%|██████████| 4/4 [00:00<00:00, 13.45it/s, loss=0.216]\n"
     ]
    },
    {
     "name": "stdout",
     "output_type": "stream",
     "text": [
      "Epoch 127\n"
     ]
    },
    {
     "name": "stderr",
     "output_type": "stream",
     "text": [
      "Training: 100%|██████████| 4/4 [00:00<00:00, 13.35it/s, loss=0.241]\n"
     ]
    },
    {
     "name": "stdout",
     "output_type": "stream",
     "text": [
      "Epoch 128\n"
     ]
    },
    {
     "name": "stderr",
     "output_type": "stream",
     "text": [
      "Training: 100%|██████████| 4/4 [00:00<00:00, 13.16it/s, loss=0.151]\n"
     ]
    },
    {
     "name": "stdout",
     "output_type": "stream",
     "text": [
      "Epoch 129\n"
     ]
    },
    {
     "name": "stderr",
     "output_type": "stream",
     "text": [
      "Training: 100%|██████████| 4/4 [00:00<00:00, 12.92it/s, loss=0.2]\n",
      "Validation: 100%|██████████| 5/5 [00:00<00:00, 51.31it/s, accuracy=1]\n"
     ]
    },
    {
     "name": "stdout",
     "output_type": "stream",
     "text": [
      "Epoch 130\n"
     ]
    },
    {
     "name": "stderr",
     "output_type": "stream",
     "text": [
      "Training: 100%|██████████| 4/4 [00:00<00:00, 13.65it/s, loss=0.192]\n"
     ]
    },
    {
     "name": "stdout",
     "output_type": "stream",
     "text": [
      "Epoch 131\n"
     ]
    },
    {
     "name": "stderr",
     "output_type": "stream",
     "text": [
      "Training: 100%|██████████| 4/4 [00:00<00:00, 13.43it/s, loss=0.188]\n"
     ]
    },
    {
     "name": "stdout",
     "output_type": "stream",
     "text": [
      "Epoch 132\n"
     ]
    },
    {
     "name": "stderr",
     "output_type": "stream",
     "text": [
      "Training: 100%|██████████| 4/4 [00:00<00:00, 13.36it/s, loss=0.213]\n"
     ]
    },
    {
     "name": "stdout",
     "output_type": "stream",
     "text": [
      "Epoch 133\n"
     ]
    },
    {
     "name": "stderr",
     "output_type": "stream",
     "text": [
      "Training: 100%|██████████| 4/4 [00:00<00:00, 13.42it/s, loss=0.186]\n"
     ]
    },
    {
     "name": "stdout",
     "output_type": "stream",
     "text": [
      "Epoch 134\n"
     ]
    },
    {
     "name": "stderr",
     "output_type": "stream",
     "text": [
      "Training: 100%|██████████| 4/4 [00:00<00:00, 13.14it/s, loss=0.228]\n"
     ]
    },
    {
     "name": "stdout",
     "output_type": "stream",
     "text": [
      "Epoch 135\n"
     ]
    },
    {
     "name": "stderr",
     "output_type": "stream",
     "text": [
      "Training: 100%|██████████| 4/4 [00:00<00:00, 13.25it/s, loss=0.211]\n"
     ]
    },
    {
     "name": "stdout",
     "output_type": "stream",
     "text": [
      "Epoch 136\n"
     ]
    },
    {
     "name": "stderr",
     "output_type": "stream",
     "text": [
      "Training: 100%|██████████| 4/4 [00:00<00:00, 13.45it/s, loss=0.33]\n"
     ]
    },
    {
     "name": "stdout",
     "output_type": "stream",
     "text": [
      "Epoch 137\n"
     ]
    },
    {
     "name": "stderr",
     "output_type": "stream",
     "text": [
      "Training: 100%|██████████| 4/4 [00:00<00:00, 13.52it/s, loss=0.2]\n"
     ]
    },
    {
     "name": "stdout",
     "output_type": "stream",
     "text": [
      "Epoch 138\n"
     ]
    },
    {
     "name": "stderr",
     "output_type": "stream",
     "text": [
      "Training: 100%|██████████| 4/4 [00:00<00:00, 13.68it/s, loss=0.192]\n"
     ]
    },
    {
     "name": "stdout",
     "output_type": "stream",
     "text": [
      "Epoch 139\n"
     ]
    },
    {
     "name": "stderr",
     "output_type": "stream",
     "text": [
      "Training: 100%|██████████| 4/4 [00:00<00:00, 13.65it/s, loss=0.205]\n",
      "Validation: 100%|██████████| 5/5 [00:00<00:00, 51.34it/s, accuracy=1]\n"
     ]
    },
    {
     "name": "stdout",
     "output_type": "stream",
     "text": [
      "Epoch 140\n"
     ]
    },
    {
     "name": "stderr",
     "output_type": "stream",
     "text": [
      "Training: 100%|██████████| 4/4 [00:00<00:00, 13.79it/s, loss=0.169]\n"
     ]
    },
    {
     "name": "stdout",
     "output_type": "stream",
     "text": [
      "Epoch 141\n"
     ]
    },
    {
     "name": "stderr",
     "output_type": "stream",
     "text": [
      "Training: 100%|██████████| 4/4 [00:00<00:00, 13.36it/s, loss=0.364]\n"
     ]
    },
    {
     "name": "stdout",
     "output_type": "stream",
     "text": [
      "Epoch 142\n"
     ]
    },
    {
     "name": "stderr",
     "output_type": "stream",
     "text": [
      "Training: 100%|██████████| 4/4 [00:00<00:00, 13.12it/s, loss=0.803]\n"
     ]
    },
    {
     "name": "stdout",
     "output_type": "stream",
     "text": [
      "Epoch 143\n"
     ]
    },
    {
     "name": "stderr",
     "output_type": "stream",
     "text": [
      "Training: 100%|██████████| 4/4 [00:00<00:00, 12.82it/s, loss=0.475]\n"
     ]
    },
    {
     "name": "stdout",
     "output_type": "stream",
     "text": [
      "Epoch 144\n"
     ]
    },
    {
     "name": "stderr",
     "output_type": "stream",
     "text": [
      "Training: 100%|██████████| 4/4 [00:00<00:00, 13.36it/s, loss=0.41]\n"
     ]
    },
    {
     "name": "stdout",
     "output_type": "stream",
     "text": [
      "Epoch 145\n"
     ]
    },
    {
     "name": "stderr",
     "output_type": "stream",
     "text": [
      "Training: 100%|██████████| 4/4 [00:00<00:00, 13.28it/s, loss=0.461]\n"
     ]
    },
    {
     "name": "stdout",
     "output_type": "stream",
     "text": [
      "Epoch 146\n"
     ]
    },
    {
     "name": "stderr",
     "output_type": "stream",
     "text": [
      "Training: 100%|██████████| 4/4 [00:00<00:00, 13.16it/s, loss=0.644]\n"
     ]
    },
    {
     "name": "stdout",
     "output_type": "stream",
     "text": [
      "Epoch 147\n"
     ]
    },
    {
     "name": "stderr",
     "output_type": "stream",
     "text": [
      "Training: 100%|██████████| 4/4 [00:00<00:00, 13.54it/s, loss=0.443]\n"
     ]
    },
    {
     "name": "stdout",
     "output_type": "stream",
     "text": [
      "Epoch 148\n"
     ]
    },
    {
     "name": "stderr",
     "output_type": "stream",
     "text": [
      "Training: 100%|██████████| 4/4 [00:00<00:00, 12.92it/s, loss=0.439]\n"
     ]
    },
    {
     "name": "stdout",
     "output_type": "stream",
     "text": [
      "Epoch 149\n"
     ]
    },
    {
     "name": "stderr",
     "output_type": "stream",
     "text": [
      "Training: 100%|██████████| 4/4 [00:00<00:00, 13.21it/s, loss=0.303]\n",
      "Validation: 100%|██████████| 5/5 [00:00<00:00, 48.04it/s, accuracy=1]\n"
     ]
    },
    {
     "name": "stdout",
     "output_type": "stream",
     "text": [
      "Epoch 150\n"
     ]
    },
    {
     "name": "stderr",
     "output_type": "stream",
     "text": [
      "Training: 100%|██████████| 4/4 [00:00<00:00, 13.79it/s, loss=0.247]\n"
     ]
    },
    {
     "name": "stdout",
     "output_type": "stream",
     "text": [
      "Epoch 151\n"
     ]
    },
    {
     "name": "stderr",
     "output_type": "stream",
     "text": [
      "Training: 100%|██████████| 4/4 [00:00<00:00, 13.57it/s, loss=0.277]\n"
     ]
    },
    {
     "name": "stdout",
     "output_type": "stream",
     "text": [
      "Epoch 152\n"
     ]
    },
    {
     "name": "stderr",
     "output_type": "stream",
     "text": [
      "Training: 100%|██████████| 4/4 [00:00<00:00, 13.30it/s, loss=0.29]\n"
     ]
    },
    {
     "name": "stdout",
     "output_type": "stream",
     "text": [
      "Epoch 153\n"
     ]
    },
    {
     "name": "stderr",
     "output_type": "stream",
     "text": [
      "Training: 100%|██████████| 4/4 [00:00<00:00, 13.76it/s, loss=0.325]\n"
     ]
    },
    {
     "name": "stdout",
     "output_type": "stream",
     "text": [
      "Epoch 154\n"
     ]
    },
    {
     "name": "stderr",
     "output_type": "stream",
     "text": [
      "Training: 100%|██████████| 4/4 [00:00<00:00, 13.47it/s, loss=0.243]\n"
     ]
    },
    {
     "name": "stdout",
     "output_type": "stream",
     "text": [
      "Epoch 155\n"
     ]
    },
    {
     "name": "stderr",
     "output_type": "stream",
     "text": [
      "Training: 100%|██████████| 4/4 [00:00<00:00, 13.41it/s, loss=0.251]\n"
     ]
    },
    {
     "name": "stdout",
     "output_type": "stream",
     "text": [
      "Epoch 156\n"
     ]
    },
    {
     "name": "stderr",
     "output_type": "stream",
     "text": [
      "Training: 100%|██████████| 4/4 [00:00<00:00, 12.94it/s, loss=0.196]\n"
     ]
    },
    {
     "name": "stdout",
     "output_type": "stream",
     "text": [
      "Epoch 157\n"
     ]
    },
    {
     "name": "stderr",
     "output_type": "stream",
     "text": [
      "Training: 100%|██████████| 4/4 [00:00<00:00, 12.75it/s, loss=0.221]\n"
     ]
    },
    {
     "name": "stdout",
     "output_type": "stream",
     "text": [
      "Epoch 158\n"
     ]
    },
    {
     "name": "stderr",
     "output_type": "stream",
     "text": [
      "Training: 100%|██████████| 4/4 [00:00<00:00, 12.60it/s, loss=0.222]\n"
     ]
    },
    {
     "name": "stdout",
     "output_type": "stream",
     "text": [
      "Epoch 159\n"
     ]
    },
    {
     "name": "stderr",
     "output_type": "stream",
     "text": [
      "Training: 100%|██████████| 4/4 [00:00<00:00, 12.96it/s, loss=0.225]\n",
      "Validation: 100%|██████████| 5/5 [00:00<00:00, 49.95it/s, accuracy=1]\n"
     ]
    },
    {
     "name": "stdout",
     "output_type": "stream",
     "text": [
      "Epoch 160\n"
     ]
    },
    {
     "name": "stderr",
     "output_type": "stream",
     "text": [
      "Training: 100%|██████████| 4/4 [00:00<00:00, 13.27it/s, loss=0.198]\n"
     ]
    },
    {
     "name": "stdout",
     "output_type": "stream",
     "text": [
      "Epoch 161\n"
     ]
    },
    {
     "name": "stderr",
     "output_type": "stream",
     "text": [
      "Training: 100%|██████████| 4/4 [00:00<00:00, 13.66it/s, loss=0.181]\n"
     ]
    },
    {
     "name": "stdout",
     "output_type": "stream",
     "text": [
      "Epoch 162\n"
     ]
    },
    {
     "name": "stderr",
     "output_type": "stream",
     "text": [
      "Training: 100%|██████████| 4/4 [00:00<00:00, 13.47it/s, loss=0.189]\n"
     ]
    },
    {
     "name": "stdout",
     "output_type": "stream",
     "text": [
      "Epoch 163\n"
     ]
    },
    {
     "name": "stderr",
     "output_type": "stream",
     "text": [
      "Training: 100%|██████████| 4/4 [00:00<00:00, 13.09it/s, loss=0.115]\n"
     ]
    },
    {
     "name": "stdout",
     "output_type": "stream",
     "text": [
      "Epoch 164\n"
     ]
    },
    {
     "name": "stderr",
     "output_type": "stream",
     "text": [
      "Training: 100%|██████████| 4/4 [00:00<00:00, 13.36it/s, loss=0.169]\n"
     ]
    },
    {
     "name": "stdout",
     "output_type": "stream",
     "text": [
      "Epoch 165\n"
     ]
    },
    {
     "name": "stderr",
     "output_type": "stream",
     "text": [
      "Training: 100%|██████████| 4/4 [00:00<00:00, 13.49it/s, loss=0.255]\n"
     ]
    },
    {
     "name": "stdout",
     "output_type": "stream",
     "text": [
      "Epoch 166\n"
     ]
    },
    {
     "name": "stderr",
     "output_type": "stream",
     "text": [
      "Training: 100%|██████████| 4/4 [00:00<00:00, 13.38it/s, loss=0.15]\n"
     ]
    },
    {
     "name": "stdout",
     "output_type": "stream",
     "text": [
      "Epoch 167\n"
     ]
    },
    {
     "name": "stderr",
     "output_type": "stream",
     "text": [
      "Training: 100%|██████████| 4/4 [00:00<00:00, 13.53it/s, loss=0.261]\n"
     ]
    },
    {
     "name": "stdout",
     "output_type": "stream",
     "text": [
      "Epoch 168\n"
     ]
    },
    {
     "name": "stderr",
     "output_type": "stream",
     "text": [
      "Training: 100%|██████████| 4/4 [00:00<00:00, 13.70it/s, loss=0.172]\n"
     ]
    },
    {
     "name": "stdout",
     "output_type": "stream",
     "text": [
      "Epoch 169\n"
     ]
    },
    {
     "name": "stderr",
     "output_type": "stream",
     "text": [
      "Training: 100%|██████████| 4/4 [00:00<00:00, 13.37it/s, loss=0.237]\n",
      "Validation: 100%|██████████| 5/5 [00:00<00:00, 54.72it/s, accuracy=1]\n"
     ]
    },
    {
     "name": "stdout",
     "output_type": "stream",
     "text": [
      "Epoch 170\n"
     ]
    },
    {
     "name": "stderr",
     "output_type": "stream",
     "text": [
      "Training: 100%|██████████| 4/4 [00:00<00:00, 13.80it/s, loss=0.196]\n"
     ]
    },
    {
     "name": "stdout",
     "output_type": "stream",
     "text": [
      "Epoch 171\n"
     ]
    },
    {
     "name": "stderr",
     "output_type": "stream",
     "text": [
      "Training: 100%|██████████| 4/4 [00:00<00:00, 13.39it/s, loss=0.179]\n"
     ]
    },
    {
     "name": "stdout",
     "output_type": "stream",
     "text": [
      "Epoch 172\n"
     ]
    },
    {
     "name": "stderr",
     "output_type": "stream",
     "text": [
      "Training: 100%|██████████| 4/4 [00:00<00:00, 13.30it/s, loss=0.122]\n"
     ]
    },
    {
     "name": "stdout",
     "output_type": "stream",
     "text": [
      "Epoch 173\n"
     ]
    },
    {
     "name": "stderr",
     "output_type": "stream",
     "text": [
      "Training: 100%|██████████| 4/4 [00:00<00:00, 13.60it/s, loss=0.207]\n"
     ]
    },
    {
     "name": "stdout",
     "output_type": "stream",
     "text": [
      "Epoch 174\n"
     ]
    },
    {
     "name": "stderr",
     "output_type": "stream",
     "text": [
      "Training: 100%|██████████| 4/4 [00:00<00:00, 13.18it/s, loss=0.183]\n"
     ]
    },
    {
     "name": "stdout",
     "output_type": "stream",
     "text": [
      "Epoch 175\n"
     ]
    },
    {
     "name": "stderr",
     "output_type": "stream",
     "text": [
      "Training: 100%|██████████| 4/4 [00:00<00:00, 13.04it/s, loss=0.184]\n"
     ]
    },
    {
     "name": "stdout",
     "output_type": "stream",
     "text": [
      "Epoch 176\n"
     ]
    },
    {
     "name": "stderr",
     "output_type": "stream",
     "text": [
      "Training: 100%|██████████| 4/4 [00:00<00:00, 13.02it/s, loss=0.1]\n"
     ]
    },
    {
     "name": "stdout",
     "output_type": "stream",
     "text": [
      "Epoch 177\n"
     ]
    },
    {
     "name": "stderr",
     "output_type": "stream",
     "text": [
      "Training: 100%|██████████| 4/4 [00:00<00:00, 13.65it/s, loss=0.152]\n"
     ]
    },
    {
     "name": "stdout",
     "output_type": "stream",
     "text": [
      "Epoch 178\n"
     ]
    },
    {
     "name": "stderr",
     "output_type": "stream",
     "text": [
      "Training: 100%|██████████| 4/4 [00:00<00:00, 13.23it/s, loss=0.177]\n"
     ]
    },
    {
     "name": "stdout",
     "output_type": "stream",
     "text": [
      "Epoch 179\n"
     ]
    },
    {
     "name": "stderr",
     "output_type": "stream",
     "text": [
      "Training: 100%|██████████| 4/4 [00:00<00:00, 13.13it/s, loss=0.113]\n",
      "Validation: 100%|██████████| 5/5 [00:00<00:00, 46.50it/s, accuracy=1]\n"
     ]
    },
    {
     "name": "stdout",
     "output_type": "stream",
     "text": [
      "Epoch 180\n"
     ]
    },
    {
     "name": "stderr",
     "output_type": "stream",
     "text": [
      "Training: 100%|██████████| 4/4 [00:00<00:00, 12.63it/s, loss=0.188]\n"
     ]
    },
    {
     "name": "stdout",
     "output_type": "stream",
     "text": [
      "Epoch 181\n"
     ]
    },
    {
     "name": "stderr",
     "output_type": "stream",
     "text": [
      "Training: 100%|██████████| 4/4 [00:00<00:00, 11.54it/s, loss=0.0899]\n"
     ]
    },
    {
     "name": "stdout",
     "output_type": "stream",
     "text": [
      "Epoch 182\n"
     ]
    },
    {
     "name": "stderr",
     "output_type": "stream",
     "text": [
      "Training: 100%|██████████| 4/4 [00:00<00:00, 11.14it/s, loss=0.163]\n"
     ]
    },
    {
     "name": "stdout",
     "output_type": "stream",
     "text": [
      "Epoch 183\n"
     ]
    },
    {
     "name": "stderr",
     "output_type": "stream",
     "text": [
      "Training: 100%|██████████| 4/4 [00:00<00:00, 12.14it/s, loss=0.138]\n"
     ]
    },
    {
     "name": "stdout",
     "output_type": "stream",
     "text": [
      "Epoch 184\n"
     ]
    },
    {
     "name": "stderr",
     "output_type": "stream",
     "text": [
      "Training: 100%|██████████| 4/4 [00:00<00:00, 12.25it/s, loss=0.114]\n"
     ]
    },
    {
     "name": "stdout",
     "output_type": "stream",
     "text": [
      "Epoch 185\n"
     ]
    },
    {
     "name": "stderr",
     "output_type": "stream",
     "text": [
      "Training: 100%|██████████| 4/4 [00:00<00:00, 13.00it/s, loss=0.253]\n"
     ]
    },
    {
     "name": "stdout",
     "output_type": "stream",
     "text": [
      "Epoch 186\n"
     ]
    },
    {
     "name": "stderr",
     "output_type": "stream",
     "text": [
      "Training: 100%|██████████| 4/4 [00:00<00:00, 13.49it/s, loss=0.17]\n"
     ]
    },
    {
     "name": "stdout",
     "output_type": "stream",
     "text": [
      "Epoch 187\n"
     ]
    },
    {
     "name": "stderr",
     "output_type": "stream",
     "text": [
      "Training: 100%|██████████| 4/4 [00:00<00:00, 12.99it/s, loss=0.219]\n"
     ]
    },
    {
     "name": "stdout",
     "output_type": "stream",
     "text": [
      "Epoch 188\n"
     ]
    },
    {
     "name": "stderr",
     "output_type": "stream",
     "text": [
      "Training: 100%|██████████| 4/4 [00:00<00:00, 12.27it/s, loss=0.168]\n"
     ]
    },
    {
     "name": "stdout",
     "output_type": "stream",
     "text": [
      "Epoch 189\n"
     ]
    },
    {
     "name": "stderr",
     "output_type": "stream",
     "text": [
      "Training: 100%|██████████| 4/4 [00:00<00:00, 11.46it/s, loss=0.256]\n",
      "Validation: 100%|██████████| 5/5 [00:00<00:00, 40.57it/s, accuracy=1]\n"
     ]
    },
    {
     "name": "stdout",
     "output_type": "stream",
     "text": [
      "Epoch 190\n"
     ]
    },
    {
     "name": "stderr",
     "output_type": "stream",
     "text": [
      "Training: 100%|██████████| 4/4 [00:00<00:00, 12.27it/s, loss=0.115]\n"
     ]
    },
    {
     "name": "stdout",
     "output_type": "stream",
     "text": [
      "Epoch 191\n"
     ]
    },
    {
     "name": "stderr",
     "output_type": "stream",
     "text": [
      "Training: 100%|██████████| 4/4 [00:00<00:00, 13.19it/s, loss=0.158]\n"
     ]
    },
    {
     "name": "stdout",
     "output_type": "stream",
     "text": [
      "Epoch 192\n"
     ]
    },
    {
     "name": "stderr",
     "output_type": "stream",
     "text": [
      "Training: 100%|██████████| 4/4 [00:00<00:00, 13.38it/s, loss=0.135]\n"
     ]
    },
    {
     "name": "stdout",
     "output_type": "stream",
     "text": [
      "Epoch 193\n"
     ]
    },
    {
     "name": "stderr",
     "output_type": "stream",
     "text": [
      "Training: 100%|██████████| 4/4 [00:00<00:00, 13.27it/s, loss=0.122]\n"
     ]
    },
    {
     "name": "stdout",
     "output_type": "stream",
     "text": [
      "Epoch 194\n"
     ]
    },
    {
     "name": "stderr",
     "output_type": "stream",
     "text": [
      "Training: 100%|██████████| 4/4 [00:00<00:00, 13.80it/s, loss=0.156]\n"
     ]
    },
    {
     "name": "stdout",
     "output_type": "stream",
     "text": [
      "Epoch 195\n"
     ]
    },
    {
     "name": "stderr",
     "output_type": "stream",
     "text": [
      "Training: 100%|██████████| 4/4 [00:00<00:00, 13.46it/s, loss=0.109]\n"
     ]
    },
    {
     "name": "stdout",
     "output_type": "stream",
     "text": [
      "Epoch 196\n"
     ]
    },
    {
     "name": "stderr",
     "output_type": "stream",
     "text": [
      "Training: 100%|██████████| 4/4 [00:00<00:00, 13.20it/s, loss=0.129]\n"
     ]
    },
    {
     "name": "stdout",
     "output_type": "stream",
     "text": [
      "Epoch 197\n"
     ]
    },
    {
     "name": "stderr",
     "output_type": "stream",
     "text": [
      "Training: 100%|██████████| 4/4 [00:00<00:00, 12.86it/s, loss=0.115]\n"
     ]
    },
    {
     "name": "stdout",
     "output_type": "stream",
     "text": [
      "Epoch 198\n"
     ]
    },
    {
     "name": "stderr",
     "output_type": "stream",
     "text": [
      "Training: 100%|██████████| 4/4 [00:00<00:00, 13.20it/s, loss=0.0787]\n"
     ]
    },
    {
     "name": "stdout",
     "output_type": "stream",
     "text": [
      "Epoch 199\n"
     ]
    },
    {
     "name": "stderr",
     "output_type": "stream",
     "text": [
      "Training: 100%|██████████| 4/4 [00:00<00:00, 13.27it/s, loss=0.0512]\n",
      "Validation: 100%|██████████| 5/5 [00:00<00:00, 51.63it/s, accuracy=1]\n"
     ]
    }
   ],
   "source": [
    "from easyfsl.utils import evaluate\n",
    "\n",
    "\n",
    "best_state = classical_classifier.state_dict()\n",
    "best_validation_accuracy = 0.0\n",
    "validation_frequency = 10\n",
    "for epoch in range(n_epochs):\n",
    "    print(f\"Epoch {epoch}\")\n",
    "    average_loss = training_epoch2(classical_classifier, classical_train_loader, classical_train_optimizer)\n",
    "\n",
    "    if epoch % validation_frequency == validation_frequency - 1:\n",
    "\n",
    "        # We use this very convenient method from EasyFSL's ResNet to specify\n",
    "        # that the model shouldn't use its last fully connected layer during validation.\n",
    "        classical_classifier.set_use_fc(False)\n",
    "        validation_accuracy = evaluate(\n",
    "            val_classifier, val_loader, device=DEVICE, tqdm_prefix=\"Validation\"\n",
    "        )\n",
    "        classical_classifier.set_use_fc(True)\n",
    "\n",
    "        if validation_accuracy > best_validation_accuracy:\n",
    "            best_validation_accuracy = validation_accuracy\n",
    "            best_state = copy.deepcopy(val_classifier.state_dict())\n",
    "            # state_dict() returns a reference to the still evolving model's state so we deepcopy\n",
    "            # https://pytorch.org/tutorials/beginner/saving_loading_models\n",
    "            print(\"Ding ding ding! We found a new best model!\")\n",
    "\n",
    "        tb_writer.add_scalar(\"Val/acc\", validation_accuracy, epoch)\n",
    "\n",
    "    tb_writer.add_scalar(\"Train/loss\", average_loss, epoch)\n",
    "\n",
    "    # Warn the scheduler that we did an epoch\n",
    "    # so it knows when to decrease the learning rate\n",
    "    train_scheduler.step()"
   ]
  },
  {
   "cell_type": "markdown",
   "id": "78b52c01",
   "metadata": {
    "papermill": {
     "duration": 0.86712,
     "end_time": "2025-04-17T22:04:27.477287",
     "exception": false,
     "start_time": "2025-04-17T22:04:26.610167",
     "status": "completed"
    },
    "tags": []
   },
   "source": []
  }
 ],
 "metadata": {
  "accelerator": "GPU",
  "colab": {
   "provenance": [
    {
     "file_id": "1aAxTMaDwYvRbUrqxQ7FhRFg0CznPOh4b",
     "timestamp": 1738680276854
    },
    {
     "file_id": "1JiFVQNL4LnPNh6xE45Xa--XqSe1UKU-H",
     "timestamp": 1725457884309
    },
    {
     "file_id": "1BPLAF8xEJaajrYH5KedA8lUpgjul9aN-",
     "timestamp": 1677014656071
    }
   ]
  },
  "gpuClass": "standard",
  "kaggle": {
   "accelerator": "nvidiaTeslaT4",
   "dataSources": [
    {
     "datasetId": 6922979,
     "sourceId": 11104944,
     "sourceType": "datasetVersion"
    },
    {
     "datasetId": 6955652,
     "sourceId": 11149115,
     "sourceType": "datasetVersion"
    }
   ],
   "dockerImageVersionId": 30919,
   "isGpuEnabled": true,
   "isInternetEnabled": true,
   "language": "python",
   "sourceType": "notebook"
  },
  "kernelspec": {
   "display_name": "Python 3",
   "language": "python",
   "name": "python3"
  },
  "language_info": {
   "codemirror_mode": {
    "name": "ipython",
    "version": 3
   },
   "file_extension": ".py",
   "mimetype": "text/x-python",
   "name": "python",
   "nbconvert_exporter": "python",
   "pygments_lexer": "ipython3",
   "version": "3.10.12"
  },
  "papermill": {
   "default_parameters": {},
   "duration": 548.43893,
   "end_time": "2025-04-17T22:04:31.514390",
   "environment_variables": {},
   "exception": null,
   "input_path": "__notebook__.ipynb",
   "output_path": "__notebook__.ipynb",
   "parameters": {},
   "start_time": "2025-04-17T21:55:23.075460",
   "version": "2.6.0"
  }
 },
 "nbformat": 4,
 "nbformat_minor": 5
}
